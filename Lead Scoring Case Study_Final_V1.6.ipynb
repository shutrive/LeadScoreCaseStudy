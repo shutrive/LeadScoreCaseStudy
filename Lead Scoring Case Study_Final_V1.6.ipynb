{
 "cells": [
  {
   "cell_type": "markdown",
   "metadata": {},
   "source": [
    "### Problem Statement\n",
    "An education company named X Education sells online courses to industry professionals. On any given day, many professionals who are interested in the courses land on their website and browse for courses. \n",
    "\n",
    " \n",
    "\n",
    "The company markets its courses on several websites and search engines like Google. Once these people land on the website, they might browse the courses or fill up a form for the course or watch some videos. When these people fill up a form providing their email address or phone number, they are classified to be a lead. Moreover, the company also gets leads through past referrals. Once these leads are acquired, employees from the sales team start making calls, writing emails, etc. Through this process, some of the leads get converted while most do not. The typical lead conversion rate at X education is around 30%. \n",
    "\n",
    "### Objective\n",
    "\n",
    "X Education has appointed you to help them select the most promising leads, i.e. the leads that are most likely to convert into paying customers. The company requires you to build a model wherein you need to assign a lead score to each of the leads such that the customers with higher lead score have a higher conversion chance and the customers with lower lead score have a lower conversion chance. The CEO, in particular, has given a ballpark of the target lead conversion rate to be around 80%."
   ]
  },
  {
   "cell_type": "code",
   "execution_count": 1189,
   "metadata": {},
   "outputs": [],
   "source": [
    "#Importing required libraries\n",
    "import numpy as np\n",
    "import pandas as pd\n",
    "# For plotting\n",
    "import matplotlib.pyplot as plt\n",
    "import seaborn as sns\n",
    "# For Supressing Warnings\n",
    "import warnings\n",
    "warnings.filterwarnings('ignore')\n",
    "\n",
    "#Libraries for model building\n",
    "from sklearn.model_selection import train_test_split\n",
    "\n",
    "# Import library for scaling\n",
    "from sklearn.preprocessing import MinMaxScaler\n",
    "\n",
    "# Importing libraries for LogisticRegression - RFE plus manual approach \n",
    "from sklearn.linear_model import LogisticRegression\n",
    "from sklearn.feature_selection import RFE \n",
    "import statsmodels.api as sm\n",
    "from statsmodels.stats.outliers_influence import variance_inflation_factor #For checking mulitcolinearity\n",
    "\n",
    "# For model evaluation\n",
    "from sklearn import metrics"
   ]
  },
  {
   "cell_type": "code",
   "execution_count": 1190,
   "metadata": {},
   "outputs": [
    {
     "data": {
      "text/html": [
       "<div>\n",
       "<style scoped>\n",
       "    .dataframe tbody tr th:only-of-type {\n",
       "        vertical-align: middle;\n",
       "    }\n",
       "\n",
       "    .dataframe tbody tr th {\n",
       "        vertical-align: top;\n",
       "    }\n",
       "\n",
       "    .dataframe thead th {\n",
       "        text-align: right;\n",
       "    }\n",
       "</style>\n",
       "<table border=\"1\" class=\"dataframe\">\n",
       "  <thead>\n",
       "    <tr style=\"text-align: right;\">\n",
       "      <th></th>\n",
       "      <th>Prospect ID</th>\n",
       "      <th>Lead Number</th>\n",
       "      <th>Lead Origin</th>\n",
       "      <th>Lead Source</th>\n",
       "      <th>Do Not Email</th>\n",
       "      <th>Do Not Call</th>\n",
       "      <th>Converted</th>\n",
       "      <th>TotalVisits</th>\n",
       "      <th>Total Time Spent on Website</th>\n",
       "      <th>Page Views Per Visit</th>\n",
       "      <th>...</th>\n",
       "      <th>Get updates on DM Content</th>\n",
       "      <th>Lead Profile</th>\n",
       "      <th>City</th>\n",
       "      <th>Asymmetrique Activity Index</th>\n",
       "      <th>Asymmetrique Profile Index</th>\n",
       "      <th>Asymmetrique Activity Score</th>\n",
       "      <th>Asymmetrique Profile Score</th>\n",
       "      <th>I agree to pay the amount through cheque</th>\n",
       "      <th>A free copy of Mastering The Interview</th>\n",
       "      <th>Last Notable Activity</th>\n",
       "    </tr>\n",
       "  </thead>\n",
       "  <tbody>\n",
       "    <tr>\n",
       "      <th>0</th>\n",
       "      <td>7927b2df-8bba-4d29-b9a2-b6e0beafe620</td>\n",
       "      <td>660737</td>\n",
       "      <td>API</td>\n",
       "      <td>Olark Chat</td>\n",
       "      <td>No</td>\n",
       "      <td>No</td>\n",
       "      <td>0</td>\n",
       "      <td>0.00</td>\n",
       "      <td>0</td>\n",
       "      <td>0.00</td>\n",
       "      <td>...</td>\n",
       "      <td>No</td>\n",
       "      <td>Select</td>\n",
       "      <td>Select</td>\n",
       "      <td>02.Medium</td>\n",
       "      <td>02.Medium</td>\n",
       "      <td>15.00</td>\n",
       "      <td>15.00</td>\n",
       "      <td>No</td>\n",
       "      <td>No</td>\n",
       "      <td>Modified</td>\n",
       "    </tr>\n",
       "    <tr>\n",
       "      <th>1</th>\n",
       "      <td>2a272436-5132-4136-86fa-dcc88c88f482</td>\n",
       "      <td>660728</td>\n",
       "      <td>API</td>\n",
       "      <td>Organic Search</td>\n",
       "      <td>No</td>\n",
       "      <td>No</td>\n",
       "      <td>0</td>\n",
       "      <td>5.00</td>\n",
       "      <td>674</td>\n",
       "      <td>2.50</td>\n",
       "      <td>...</td>\n",
       "      <td>No</td>\n",
       "      <td>Select</td>\n",
       "      <td>Select</td>\n",
       "      <td>02.Medium</td>\n",
       "      <td>02.Medium</td>\n",
       "      <td>15.00</td>\n",
       "      <td>15.00</td>\n",
       "      <td>No</td>\n",
       "      <td>No</td>\n",
       "      <td>Email Opened</td>\n",
       "    </tr>\n",
       "    <tr>\n",
       "      <th>2</th>\n",
       "      <td>8cc8c611-a219-4f35-ad23-fdfd2656bd8a</td>\n",
       "      <td>660727</td>\n",
       "      <td>Landing Page Submission</td>\n",
       "      <td>Direct Traffic</td>\n",
       "      <td>No</td>\n",
       "      <td>No</td>\n",
       "      <td>1</td>\n",
       "      <td>2.00</td>\n",
       "      <td>1532</td>\n",
       "      <td>2.00</td>\n",
       "      <td>...</td>\n",
       "      <td>No</td>\n",
       "      <td>Potential Lead</td>\n",
       "      <td>Mumbai</td>\n",
       "      <td>02.Medium</td>\n",
       "      <td>01.High</td>\n",
       "      <td>14.00</td>\n",
       "      <td>20.00</td>\n",
       "      <td>No</td>\n",
       "      <td>Yes</td>\n",
       "      <td>Email Opened</td>\n",
       "    </tr>\n",
       "    <tr>\n",
       "      <th>3</th>\n",
       "      <td>0cc2df48-7cf4-4e39-9de9-19797f9b38cc</td>\n",
       "      <td>660719</td>\n",
       "      <td>Landing Page Submission</td>\n",
       "      <td>Direct Traffic</td>\n",
       "      <td>No</td>\n",
       "      <td>No</td>\n",
       "      <td>0</td>\n",
       "      <td>1.00</td>\n",
       "      <td>305</td>\n",
       "      <td>1.00</td>\n",
       "      <td>...</td>\n",
       "      <td>No</td>\n",
       "      <td>Select</td>\n",
       "      <td>Mumbai</td>\n",
       "      <td>02.Medium</td>\n",
       "      <td>01.High</td>\n",
       "      <td>13.00</td>\n",
       "      <td>17.00</td>\n",
       "      <td>No</td>\n",
       "      <td>No</td>\n",
       "      <td>Modified</td>\n",
       "    </tr>\n",
       "    <tr>\n",
       "      <th>4</th>\n",
       "      <td>3256f628-e534-4826-9d63-4a8b88782852</td>\n",
       "      <td>660681</td>\n",
       "      <td>Landing Page Submission</td>\n",
       "      <td>Google</td>\n",
       "      <td>No</td>\n",
       "      <td>No</td>\n",
       "      <td>1</td>\n",
       "      <td>2.00</td>\n",
       "      <td>1428</td>\n",
       "      <td>1.00</td>\n",
       "      <td>...</td>\n",
       "      <td>No</td>\n",
       "      <td>Select</td>\n",
       "      <td>Mumbai</td>\n",
       "      <td>02.Medium</td>\n",
       "      <td>01.High</td>\n",
       "      <td>15.00</td>\n",
       "      <td>18.00</td>\n",
       "      <td>No</td>\n",
       "      <td>No</td>\n",
       "      <td>Modified</td>\n",
       "    </tr>\n",
       "  </tbody>\n",
       "</table>\n",
       "<p>5 rows × 37 columns</p>\n",
       "</div>"
      ],
      "text/plain": [
       "                            Prospect ID  Lead Number              Lead Origin  \\\n",
       "0  7927b2df-8bba-4d29-b9a2-b6e0beafe620       660737                      API   \n",
       "1  2a272436-5132-4136-86fa-dcc88c88f482       660728                      API   \n",
       "2  8cc8c611-a219-4f35-ad23-fdfd2656bd8a       660727  Landing Page Submission   \n",
       "3  0cc2df48-7cf4-4e39-9de9-19797f9b38cc       660719  Landing Page Submission   \n",
       "4  3256f628-e534-4826-9d63-4a8b88782852       660681  Landing Page Submission   \n",
       "\n",
       "      Lead Source Do Not Email Do Not Call  Converted  TotalVisits  \\\n",
       "0      Olark Chat           No          No          0         0.00   \n",
       "1  Organic Search           No          No          0         5.00   \n",
       "2  Direct Traffic           No          No          1         2.00   \n",
       "3  Direct Traffic           No          No          0         1.00   \n",
       "4          Google           No          No          1         2.00   \n",
       "\n",
       "   Total Time Spent on Website  Page Views Per Visit  ...  \\\n",
       "0                            0                  0.00  ...   \n",
       "1                          674                  2.50  ...   \n",
       "2                         1532                  2.00  ...   \n",
       "3                          305                  1.00  ...   \n",
       "4                         1428                  1.00  ...   \n",
       "\n",
       "  Get updates on DM Content    Lead Profile    City  \\\n",
       "0                        No          Select  Select   \n",
       "1                        No          Select  Select   \n",
       "2                        No  Potential Lead  Mumbai   \n",
       "3                        No          Select  Mumbai   \n",
       "4                        No          Select  Mumbai   \n",
       "\n",
       "  Asymmetrique Activity Index Asymmetrique Profile Index  \\\n",
       "0                   02.Medium                  02.Medium   \n",
       "1                   02.Medium                  02.Medium   \n",
       "2                   02.Medium                    01.High   \n",
       "3                   02.Medium                    01.High   \n",
       "4                   02.Medium                    01.High   \n",
       "\n",
       "  Asymmetrique Activity Score Asymmetrique Profile Score  \\\n",
       "0                       15.00                      15.00   \n",
       "1                       15.00                      15.00   \n",
       "2                       14.00                      20.00   \n",
       "3                       13.00                      17.00   \n",
       "4                       15.00                      18.00   \n",
       "\n",
       "  I agree to pay the amount through cheque  \\\n",
       "0                                       No   \n",
       "1                                       No   \n",
       "2                                       No   \n",
       "3                                       No   \n",
       "4                                       No   \n",
       "\n",
       "  A free copy of Mastering The Interview Last Notable Activity  \n",
       "0                                     No              Modified  \n",
       "1                                     No          Email Opened  \n",
       "2                                    Yes          Email Opened  \n",
       "3                                     No              Modified  \n",
       "4                                     No              Modified  \n",
       "\n",
       "[5 rows x 37 columns]"
      ]
     },
     "execution_count": 1190,
     "metadata": {},
     "output_type": "execute_result"
    }
   ],
   "source": [
    "# Loading the Leads data\n",
    "lead_df = pd.read_csv(\"C:/SHUBHANGI/Machine Learning/Lead+Scoring+Case+Study/Lead Scoring Assignment/Leads.csv\")\n",
    "#Chceck initial rows\n",
    "lead_df.head(5)"
   ]
  },
  {
   "cell_type": "code",
   "execution_count": 1191,
   "metadata": {},
   "outputs": [
    {
     "name": "stdout",
     "output_type": "stream",
     "text": [
      "<class 'pandas.core.frame.DataFrame'>\n",
      "RangeIndex: 9240 entries, 0 to 9239\n",
      "Data columns (total 37 columns):\n",
      " #   Column                                         Non-Null Count  Dtype  \n",
      "---  ------                                         --------------  -----  \n",
      " 0   Prospect ID                                    9240 non-null   object \n",
      " 1   Lead Number                                    9240 non-null   int64  \n",
      " 2   Lead Origin                                    9240 non-null   object \n",
      " 3   Lead Source                                    9204 non-null   object \n",
      " 4   Do Not Email                                   9240 non-null   object \n",
      " 5   Do Not Call                                    9240 non-null   object \n",
      " 6   Converted                                      9240 non-null   int64  \n",
      " 7   TotalVisits                                    9103 non-null   float64\n",
      " 8   Total Time Spent on Website                    9240 non-null   int64  \n",
      " 9   Page Views Per Visit                           9103 non-null   float64\n",
      " 10  Last Activity                                  9137 non-null   object \n",
      " 11  Country                                        6779 non-null   object \n",
      " 12  Specialization                                 7802 non-null   object \n",
      " 13  How did you hear about X Education             7033 non-null   object \n",
      " 14  What is your current occupation                6550 non-null   object \n",
      " 15  What matters most to you in choosing a course  6531 non-null   object \n",
      " 16  Search                                         9240 non-null   object \n",
      " 17  Magazine                                       9240 non-null   object \n",
      " 18  Newspaper Article                              9240 non-null   object \n",
      " 19  X Education Forums                             9240 non-null   object \n",
      " 20  Newspaper                                      9240 non-null   object \n",
      " 21  Digital Advertisement                          9240 non-null   object \n",
      " 22  Through Recommendations                        9240 non-null   object \n",
      " 23  Receive More Updates About Our Courses         9240 non-null   object \n",
      " 24  Tags                                           5887 non-null   object \n",
      " 25  Lead Quality                                   4473 non-null   object \n",
      " 26  Update me on Supply Chain Content              9240 non-null   object \n",
      " 27  Get updates on DM Content                      9240 non-null   object \n",
      " 28  Lead Profile                                   6531 non-null   object \n",
      " 29  City                                           7820 non-null   object \n",
      " 30  Asymmetrique Activity Index                    5022 non-null   object \n",
      " 31  Asymmetrique Profile Index                     5022 non-null   object \n",
      " 32  Asymmetrique Activity Score                    5022 non-null   float64\n",
      " 33  Asymmetrique Profile Score                     5022 non-null   float64\n",
      " 34  I agree to pay the amount through cheque       9240 non-null   object \n",
      " 35  A free copy of Mastering The Interview         9240 non-null   object \n",
      " 36  Last Notable Activity                          9240 non-null   object \n",
      "dtypes: float64(4), int64(3), object(30)\n",
      "memory usage: 2.6+ MB\n"
     ]
    }
   ],
   "source": [
    "#Check the basic information of data using info()\n",
    "lead_df.info()"
   ]
  },
  {
   "cell_type": "markdown",
   "metadata": {},
   "source": [
    "As we can see from the above that there are 37 columns and 9240 rows. Also some columns are having large amount of missing values"
   ]
  },
  {
   "cell_type": "markdown",
   "metadata": {},
   "source": [
    "### Data Cleaning and EDA"
   ]
  },
  {
   "cell_type": "code",
   "execution_count": 1192,
   "metadata": {
    "scrolled": true
   },
   "outputs": [
    {
     "data": {
      "text/plain": [
       "True"
      ]
     },
     "execution_count": 1192,
     "metadata": {},
     "output_type": "execute_result"
    }
   ],
   "source": [
    "#check for duplicates\n",
    "sum(lead_df.duplicated(subset = 'Prospect ID')) == 0"
   ]
  },
  {
   "cell_type": "markdown",
   "metadata": {},
   "source": [
    "No duplicate values in Prospect ID"
   ]
  },
  {
   "cell_type": "code",
   "execution_count": 1193,
   "metadata": {},
   "outputs": [
    {
     "data": {
      "text/plain": [
       "True"
      ]
     },
     "execution_count": 1193,
     "metadata": {},
     "output_type": "execute_result"
    }
   ],
   "source": [
    "#check for duplicates\n",
    "sum(lead_df.duplicated(subset = 'Lead Number')) == 0"
   ]
  },
  {
   "cell_type": "markdown",
   "metadata": {},
   "source": [
    "No duplicate values in Lead number"
   ]
  },
  {
   "cell_type": "markdown",
   "metadata": {},
   "source": [
    "From the data dictionary we understand that Prospect ID and Lead No are unique IDs so they are not going to help us in our case study anyways so we will delete these two columns"
   ]
  },
  {
   "cell_type": "code",
   "execution_count": 1194,
   "metadata": {},
   "outputs": [
    {
     "data": {
      "text/plain": [
       "(9240, 35)"
      ]
     },
     "execution_count": 1194,
     "metadata": {},
     "output_type": "execute_result"
    }
   ],
   "source": [
    "lead_df.drop([\"Prospect ID\",\"Lead Number\"], axis=1, inplace=True)\n",
    "lead_df.shape"
   ]
  },
  {
   "cell_type": "markdown",
   "metadata": {},
   "source": [
    "##### Now we will also check no of unique values for each column and delete those columns for which only 1 value is there as they are not going to contribute to our analysis "
   ]
  },
  {
   "cell_type": "code",
   "execution_count": 1195,
   "metadata": {},
   "outputs": [
    {
     "data": {
      "text/plain": [
       "Lead Origin                                         5\n",
       "Lead Source                                        21\n",
       "Do Not Email                                        2\n",
       "Do Not Call                                         2\n",
       "Converted                                           2\n",
       "TotalVisits                                        41\n",
       "Total Time Spent on Website                      1731\n",
       "Page Views Per Visit                              114\n",
       "Last Activity                                      17\n",
       "Country                                            38\n",
       "Specialization                                     19\n",
       "How did you hear about X Education                 10\n",
       "What is your current occupation                     6\n",
       "What matters most to you in choosing a course       3\n",
       "Search                                              2\n",
       "Magazine                                            1\n",
       "Newspaper Article                                   2\n",
       "X Education Forums                                  2\n",
       "Newspaper                                           2\n",
       "Digital Advertisement                               2\n",
       "Through Recommendations                             2\n",
       "Receive More Updates About Our Courses              1\n",
       "Tags                                               26\n",
       "Lead Quality                                        5\n",
       "Update me on Supply Chain Content                   1\n",
       "Get updates on DM Content                           1\n",
       "Lead Profile                                        6\n",
       "City                                                7\n",
       "Asymmetrique Activity Index                         3\n",
       "Asymmetrique Profile Index                          3\n",
       "Asymmetrique Activity Score                        12\n",
       "Asymmetrique Profile Score                         10\n",
       "I agree to pay the amount through cheque            1\n",
       "A free copy of Mastering The Interview              2\n",
       "Last Notable Activity                              16\n",
       "dtype: int64"
      ]
     },
     "execution_count": 1195,
     "metadata": {},
     "output_type": "execute_result"
    }
   ],
   "source": [
    "lead_df.nunique()"
   ]
  },
  {
   "cell_type": "markdown",
   "metadata": {},
   "source": [
    "As we can see there are 5 columns where there is only a single unique value, so we will remove these 5 columns"
   ]
  },
  {
   "cell_type": "code",
   "execution_count": 1196,
   "metadata": {},
   "outputs": [
    {
     "data": {
      "text/plain": [
       "(9240, 30)"
      ]
     },
     "execution_count": 1196,
     "metadata": {},
     "output_type": "execute_result"
    }
   ],
   "source": [
    "columns_delete = [\"Magazine\",\"Receive More Updates About Our Courses\",\"Update me on Supply Chain Content\",\"Get updates on DM Content\",\"I agree to pay the amount through cheque\"]\n",
    "lead_df.drop(columns_delete,axis=1,inplace= True)\n",
    "lead_df.shape"
   ]
  },
  {
   "cell_type": "markdown",
   "metadata": {},
   "source": [
    "### Converting 'Select' value to 'null'"
   ]
  },
  {
   "cell_type": "markdown",
   "metadata": {},
   "source": [
    "Form the data dictionary we understand that there are some columns 'select' value is present which is to be taken as null value. e.g. Select Specialization' which means the customer had not selected this option while filling the form."
   ]
  },
  {
   "cell_type": "code",
   "execution_count": 1197,
   "metadata": {
    "scrolled": true
   },
   "outputs": [
    {
     "data": {
      "text/plain": [
       "Select                               1942\n",
       "NaN                                  1438\n",
       "Finance Management                    976\n",
       "Human Resource Management             848\n",
       "Marketing Management                  838\n",
       "Operations Management                 503\n",
       "Business Administration               403\n",
       "IT Projects Management                366\n",
       "Supply Chain Management               349\n",
       "Banking, Investment And Insurance     338\n",
       "Media and Advertising                 203\n",
       "Travel and Tourism                    203\n",
       "International Business                178\n",
       "Healthcare Management                 159\n",
       "Hospitality Management                114\n",
       "E-COMMERCE                            112\n",
       "Retail Management                     100\n",
       "Rural and Agribusiness                 73\n",
       "E-Business                             57\n",
       "Services Excellence                    40\n",
       "Name: Specialization, dtype: int64"
      ]
     },
     "execution_count": 1197,
     "metadata": {},
     "output_type": "execute_result"
    }
   ],
   "source": [
    "lead_df.Specialization.value_counts(dropna=False)"
   ]
  },
  {
   "cell_type": "code",
   "execution_count": 1198,
   "metadata": {},
   "outputs": [],
   "source": [
    "#So initially we will convert all the text based columns to lowercase and then replace the select column by np.nan\n",
    "lead_df = lead_df.applymap(lambda text:text.lower() if type(text) == str else text)\n",
    "#Converting 'Select' values to NaN.\n",
    "lead_df = lead_df.replace('select',np.nan)"
   ]
  },
  {
   "cell_type": "code",
   "execution_count": 1199,
   "metadata": {},
   "outputs": [
    {
     "data": {
      "text/plain": [
       "NaN                                  3380\n",
       "finance management                    976\n",
       "human resource management             848\n",
       "marketing management                  838\n",
       "operations management                 503\n",
       "business administration               403\n",
       "it projects management                366\n",
       "supply chain management               349\n",
       "banking, investment and insurance     338\n",
       "travel and tourism                    203\n",
       "media and advertising                 203\n",
       "international business                178\n",
       "healthcare management                 159\n",
       "hospitality management                114\n",
       "e-commerce                            112\n",
       "retail management                     100\n",
       "rural and agribusiness                 73\n",
       "e-business                             57\n",
       "services excellence                    40\n",
       "Name: Specialization, dtype: int64"
      ]
     },
     "execution_count": 1199,
     "metadata": {},
     "output_type": "execute_result"
    }
   ],
   "source": [
    "#test check for specialisation column\n",
    "lead_df.Specialization.value_counts(dropna=False)"
   ]
  },
  {
   "cell_type": "markdown",
   "metadata": {},
   "source": [
    "### Checking for nulls"
   ]
  },
  {
   "cell_type": "code",
   "execution_count": 1200,
   "metadata": {
    "scrolled": false
   },
   "outputs": [
    {
     "data": {
      "text/plain": [
       "Lead Origin                                      0.00\n",
       "Lead Source                                      0.39\n",
       "Do Not Email                                     0.00\n",
       "Do Not Call                                      0.00\n",
       "Converted                                        0.00\n",
       "TotalVisits                                      1.48\n",
       "Total Time Spent on Website                      0.00\n",
       "Page Views Per Visit                             1.48\n",
       "Last Activity                                    1.11\n",
       "Country                                         26.63\n",
       "Specialization                                  36.58\n",
       "How did you hear about X Education              78.46\n",
       "What is your current occupation                 29.11\n",
       "What matters most to you in choosing a course   29.32\n",
       "Search                                           0.00\n",
       "Newspaper Article                                0.00\n",
       "X Education Forums                               0.00\n",
       "Newspaper                                        0.00\n",
       "Digital Advertisement                            0.00\n",
       "Through Recommendations                          0.00\n",
       "Tags                                            36.29\n",
       "Lead Quality                                    51.59\n",
       "Lead Profile                                    74.19\n",
       "City                                            39.71\n",
       "Asymmetrique Activity Index                     45.65\n",
       "Asymmetrique Profile Index                      45.65\n",
       "Asymmetrique Activity Score                     45.65\n",
       "Asymmetrique Profile Score                      45.65\n",
       "A free copy of Mastering The Interview           0.00\n",
       "Last Notable Activity                            0.00\n",
       "dtype: float64"
      ]
     },
     "execution_count": 1200,
     "metadata": {},
     "output_type": "execute_result"
    }
   ],
   "source": [
    "# Now we will check columnwise null values\n",
    "column_wise_null = round(lead_df.isnull().sum()*100/len(lead_df), 2)\n",
    "column_wise_null"
   ]
  },
  {
   "cell_type": "markdown",
   "metadata": {},
   "source": [
    "We can see that select values are now replaced by nan"
   ]
  },
  {
   "cell_type": "markdown",
   "metadata": {},
   "source": [
    "#### As we can see that there are many columns where null value percentage is more than 39%. So we will drop the columns where missing values are more that 35% "
   ]
  },
  {
   "cell_type": "code",
   "execution_count": 1201,
   "metadata": {},
   "outputs": [
    {
     "data": {
      "text/plain": [
       "(9240, 22)"
      ]
     },
     "execution_count": 1201,
     "metadata": {},
     "output_type": "execute_result"
    }
   ],
   "source": [
    "missing_columns = column_wise_null[column_wise_null > 39].index\n",
    "# Dropping column with more than 39 percentage of missing values\n",
    "lead_df.drop(missing_columns, axis=1, inplace=True)\n",
    "lead_df.shape"
   ]
  },
  {
   "cell_type": "code",
   "execution_count": 1202,
   "metadata": {},
   "outputs": [
    {
     "data": {
      "text/plain": [
       "Lead Origin                                      0.00\n",
       "Lead Source                                      0.39\n",
       "Do Not Email                                     0.00\n",
       "Do Not Call                                      0.00\n",
       "Converted                                        0.00\n",
       "TotalVisits                                      1.48\n",
       "Total Time Spent on Website                      0.00\n",
       "Page Views Per Visit                             1.48\n",
       "Last Activity                                    1.11\n",
       "Country                                         26.63\n",
       "Specialization                                  36.58\n",
       "What is your current occupation                 29.11\n",
       "What matters most to you in choosing a course   29.32\n",
       "Search                                           0.00\n",
       "Newspaper Article                                0.00\n",
       "X Education Forums                               0.00\n",
       "Newspaper                                        0.00\n",
       "Digital Advertisement                            0.00\n",
       "Through Recommendations                          0.00\n",
       "Tags                                            36.29\n",
       "A free copy of Mastering The Interview           0.00\n",
       "Last Notable Activity                            0.00\n",
       "dtype: float64"
      ]
     },
     "execution_count": 1202,
     "metadata": {},
     "output_type": "execute_result"
    }
   ],
   "source": [
    "# Now we will again check columnwise null values\n",
    "column_wise_null = round(lead_df.isnull().sum()*100/len(lead_df), 2)\n",
    "column_wise_null"
   ]
  },
  {
   "cell_type": "markdown",
   "metadata": {},
   "source": [
    "We can see that for 4 columns viz., Country, Speicalization, Occupation and reason for choosing the course there are many missing values and these values are missing at random and we cannot impute these values so  we will analyse each column separately and will take action accordingly"
   ]
  },
  {
   "cell_type": "code",
   "execution_count": 1203,
   "metadata": {},
   "outputs": [
    {
     "data": {
      "text/plain": [
       "india                   6492\n",
       "NaN                     2461\n",
       "united states             69\n",
       "united arab emirates      53\n",
       "singapore                 24\n",
       "saudi arabia              21\n",
       "united kingdom            15\n",
       "australia                 13\n",
       "qatar                     10\n",
       "hong kong                  7\n",
       "bahrain                    7\n",
       "france                     6\n",
       "oman                       6\n",
       "unknown                    5\n",
       "germany                    4\n",
       "south africa               4\n",
       "nigeria                    4\n",
       "kuwait                     4\n",
       "canada                     4\n",
       "sweden                     3\n",
       "italy                      2\n",
       "asia/pacific region        2\n",
       "china                      2\n",
       "philippines                2\n",
       "uganda                     2\n",
       "netherlands                2\n",
       "belgium                    2\n",
       "bangladesh                 2\n",
       "ghana                      2\n",
       "kenya                      1\n",
       "denmark                    1\n",
       "malaysia                   1\n",
       "vietnam                    1\n",
       "switzerland                1\n",
       "liberia                    1\n",
       "russia                     1\n",
       "tanzania                   1\n",
       "indonesia                  1\n",
       "sri lanka                  1\n",
       "Name: Country, dtype: int64"
      ]
     },
     "execution_count": 1203,
     "metadata": {},
     "output_type": "execute_result"
    }
   ],
   "source": [
    "#checking value counts of Country column\n",
    "\n",
    "lead_df['Country'].value_counts(dropna=False)"
   ]
  },
  {
   "cell_type": "code",
   "execution_count": 1204,
   "metadata": {
    "scrolled": true
   },
   "outputs": [
    {
     "data": {
      "image/png": "[encoded data removed]",
      "text/plain": [
       "<Figure size 1080x360 with 1 Axes>"
      ]
     },
     "metadata": {},
     "output_type": "display_data"
    }
   ],
   "source": [
    "#plotting spread of Country columnn \n",
    "plt.figure(figsize=(15,5))\n",
    "s1=sns.countplot(lead_df.Country, hue=lead_df.Converted)\n",
    "s1.set_xticklabels(s1.get_xticklabels(),rotation=90)\n",
    "plt.show()\n"
   ]
  },
  {
   "cell_type": "code",
   "execution_count": 1205,
   "metadata": {},
   "outputs": [],
   "source": [
    "# Since India is the most common occurence among the non-missing values we can impute all missing values with India\n",
    "\n",
    "\n",
    "lead_df['Country'] = lead_df['Country'].replace(np.nan,'india')"
   ]
  },
  {
   "cell_type": "code",
   "execution_count": 1206,
   "metadata": {
    "scrolled": true
   },
   "outputs": [
    {
     "data": {
      "text/plain": [
       "india                  0.97\n",
       "united states          0.01\n",
       "united arab emirates   0.01\n",
       "singapore              0.00\n",
       "saudi arabia           0.00\n",
       "united kingdom         0.00\n",
       "australia              0.00\n",
       "qatar                  0.00\n",
       "hong kong              0.00\n",
       "bahrain                0.00\n",
       "oman                   0.00\n",
       "france                 0.00\n",
       "unknown                0.00\n",
       "south africa           0.00\n",
       "germany                0.00\n",
       "kuwait                 0.00\n",
       "canada                 0.00\n",
       "nigeria                0.00\n",
       "sweden                 0.00\n",
       "italy                  0.00\n",
       "china                  0.00\n",
       "ghana                  0.00\n",
       "philippines            0.00\n",
       "uganda                 0.00\n",
       "netherlands            0.00\n",
       "belgium                0.00\n",
       "bangladesh             0.00\n",
       "asia/pacific region    0.00\n",
       "denmark                0.00\n",
       "kenya                  0.00\n",
       "switzerland            0.00\n",
       "malaysia               0.00\n",
       "vietnam                0.00\n",
       "liberia                0.00\n",
       "russia                 0.00\n",
       "tanzania               0.00\n",
       "indonesia              0.00\n",
       "sri lanka              0.00\n",
       "Name: Country, dtype: float64"
      ]
     },
     "execution_count": 1206,
     "metadata": {},
     "output_type": "execute_result"
    }
   ],
   "source": [
    "#checking value counts of Country column\n",
    "\n",
    "lead_df['Country'].value_counts(dropna=False)/len(lead_df)"
   ]
  },
  {
   "cell_type": "markdown",
   "metadata": {},
   "source": [
    "Now we can see that for countries no of unique values are 39 so we will try to reduce the no of these values by grouping it into three categories viz., India, Abroad and Not Entered"
   ]
  },
  {
   "cell_type": "code",
   "execution_count": 1207,
   "metadata": {
    "scrolled": true
   },
   "outputs": [
    {
     "data": {
      "text/plain": [
       "india     8953\n",
       "Abroad     287\n",
       "Name: Country, dtype: int64"
      ]
     },
     "execution_count": 1207,
     "metadata": {},
     "output_type": "execute_result"
    }
   ],
   "source": [
    "def country_group(country):\n",
    "    group = \"\"\n",
    "    if country == \"india\":\n",
    "        group = \"india\"\n",
    "    elif country == \"Not Entered\":\n",
    "        group = \"Not Entered\"\n",
    "    else:\n",
    "        group = \"Abroad\"\n",
    "    return group\n",
    "\n",
    "lead_df['Country'] =lead_df.apply(lambda x:country_group(x['Country']), axis = 1)\n",
    "lead_df['Country'].value_counts()"
   ]
  },
  {
   "cell_type": "markdown",
   "metadata": {},
   "source": [
    "Country column is highly skewed and will not contribute to further analysis"
   ]
  },
  {
   "cell_type": "code",
   "execution_count": 1208,
   "metadata": {
    "scrolled": true
   },
   "outputs": [
    {
     "data": {
      "text/plain": [
       "NaN                                  3380\n",
       "finance management                    976\n",
       "human resource management             848\n",
       "marketing management                  838\n",
       "operations management                 503\n",
       "business administration               403\n",
       "it projects management                366\n",
       "supply chain management               349\n",
       "banking, investment and insurance     338\n",
       "travel and tourism                    203\n",
       "media and advertising                 203\n",
       "international business                178\n",
       "healthcare management                 159\n",
       "hospitality management                114\n",
       "e-commerce                            112\n",
       "retail management                     100\n",
       "rural and agribusiness                 73\n",
       "e-business                             57\n",
       "services excellence                    40\n",
       "Name: Specialization, dtype: int64"
      ]
     },
     "execution_count": 1208,
     "metadata": {},
     "output_type": "execute_result"
    }
   ],
   "source": [
    "#checking value counts of Specialization column\n",
    "\n",
    "lead_df['Specialization'].value_counts(dropna=False)"
   ]
  },
  {
   "cell_type": "markdown",
   "metadata": {},
   "source": [
    "Lead may not have mentioned specialization because it was not in the list,So we will replace NaN values here with 'Not Specified'"
   ]
  },
  {
   "cell_type": "code",
   "execution_count": 1209,
   "metadata": {},
   "outputs": [],
   "source": [
    "lead_df['Specialization'].fillna('Not Specified',inplace= True)"
   ]
  },
  {
   "cell_type": "code",
   "execution_count": 1210,
   "metadata": {
    "scrolled": true
   },
   "outputs": [
    {
     "data": {
      "image/png": "[encoded data removed]",
      "text/plain": [
       "<Figure size 1080x360 with 1 Axes>"
      ]
     },
     "metadata": {},
     "output_type": "display_data"
    }
   ],
   "source": [
    "#plotting spread of Specialization columnn \n",
    "\n",
    "plt.figure(figsize=(15,5))\n",
    "s1=sns.countplot(lead_df.Specialization, hue=lead_df.Converted)\n",
    "s1.set_xticklabels(s1.get_xticklabels(),rotation=90)\n",
    "plt.show()"
   ]
  },
  {
   "cell_type": "markdown",
   "metadata": {},
   "source": [
    "Since we can see that there are multiple categories and we can cannot use all these categories for analysis, we will try to replace all management category into one category management"
   ]
  },
  {
   "cell_type": "code",
   "execution_count": 1211,
   "metadata": {},
   "outputs": [],
   "source": [
    "# Combining all management category to one major category 'Management_Specialization'\n",
    "lead_df['Specialization'] = lead_df['Specialization'].replace(['Finance management','human resource management',\n",
    "                                                           'marketing management','operations management',\n",
    "                                                           'it projects management','supply chain management',\n",
    "                                                    'healthcare management','hospitality management',\n",
    "                                                           'retail management'] ,'Management_Specializations')  "
   ]
  },
  {
   "cell_type": "code",
   "execution_count": 1212,
   "metadata": {
    "scrolled": true
   },
   "outputs": [
    {
     "data": {
      "image/png": "[encoded data removed]",
      "text/plain": [
       "<Figure size 1080x360 with 1 Axes>"
      ]
     },
     "metadata": {},
     "output_type": "display_data"
    }
   ],
   "source": [
    "#visualizing count of Variable based on Converted value\n",
    "\n",
    "\n",
    "plt.figure(figsize=(15,5))\n",
    "s1=sns.countplot(lead_df.Specialization, hue=lead_df.Converted)\n",
    "s1.set_xticklabels(s1.get_xticklabels(),rotation=90)\n",
    "plt.show()"
   ]
  },
  {
   "cell_type": "code",
   "execution_count": 1213,
   "metadata": {
    "scrolled": true
   },
   "outputs": [
    {
     "data": {
      "text/plain": [
       "unemployed              5600\n",
       "NaN                     2690\n",
       "working professional     706\n",
       "student                  210\n",
       "other                     16\n",
       "housewife                 10\n",
       "businessman                8\n",
       "Name: What is your current occupation, dtype: int64"
      ]
     },
     "execution_count": 1213,
     "metadata": {},
     "output_type": "execute_result"
    }
   ],
   "source": [
    "#Wchecking value count for current occupation\n",
    "\n",
    "lead_df['What is your current occupation'].value_counts(dropna=False)"
   ]
  },
  {
   "cell_type": "code",
   "execution_count": 1214,
   "metadata": {},
   "outputs": [],
   "source": [
    "#imputing Nan values with mode \"Unemployed\"\n",
    "\n",
    "lead_df['What is your current occupation'] = lead_df['What is your current occupation'].replace(np.nan, 'unemployed')"
   ]
  },
  {
   "cell_type": "code",
   "execution_count": 1215,
   "metadata": {
    "scrolled": true
   },
   "outputs": [
    {
     "data": {
      "image/png": "[encoded data removed]",
      "text/plain": [
       "<Figure size 1080x360 with 1 Axes>"
      ]
     },
     "metadata": {},
     "output_type": "display_data"
    }
   ],
   "source": [
    "#visualizing count of 'Occupaton' based on Converted value\n",
    "plt.figure(figsize=(15,5))\n",
    "s1=sns.countplot(lead_df['What is your current occupation'], hue=lead_df.Converted)\n",
    "s1.set_xticklabels(s1.get_xticklabels(),rotation=90)\n",
    "plt.show()"
   ]
  },
  {
   "cell_type": "markdown",
   "metadata": {},
   "source": [
    "Here from the above graph we can conclude:\n",
    "    - Unemployed people are mostly the most approachable one\n",
    "    - Working Professionals are most likely to be converted and reaching out them will increase the lead score"
   ]
  },
  {
   "cell_type": "code",
   "execution_count": 1216,
   "metadata": {},
   "outputs": [
    {
     "data": {
      "text/plain": [
       "better career prospects      6528\n",
       "NaN                          2709\n",
       "flexibility & convenience       2\n",
       "other                           1\n",
       "Name: What matters most to you in choosing a course, dtype: int64"
      ]
     },
     "execution_count": 1216,
     "metadata": {},
     "output_type": "execute_result"
    }
   ],
   "source": [
    "#checking value counts for 'What matters most to you in choosing a course'\n",
    "\n",
    "lead_df['What matters most to you in choosing a course'].value_counts(dropna=False)"
   ]
  },
  {
   "cell_type": "code",
   "execution_count": 1217,
   "metadata": {},
   "outputs": [],
   "source": [
    "#replacing Nan values with Mode \"Better Career Prospects\"\n",
    "lead_df['What matters most to you in choosing a course'].fillna('better career prospects',inplace= True)\n"
   ]
  },
  {
   "cell_type": "code",
   "execution_count": 1218,
   "metadata": {
    "scrolled": true
   },
   "outputs": [
    {
     "data": {
      "image/png": "[encoded data removed]",
      "text/plain": [
       "<Figure size 432x288 with 1 Axes>"
      ]
     },
     "metadata": {},
     "output_type": "display_data"
    }
   ],
   "source": [
    "#visualizing count of 'What matters most to you in choosing a course' based on Converted value\n",
    "\n",
    "s1=sns.countplot(lead_df['What matters most to you in choosing a course'], hue=lead_df.Converted)\n",
    "s1.set_xticklabels(s1.get_xticklabels(),rotation=90)\n",
    "plt.show()"
   ]
  },
  {
   "cell_type": "code",
   "execution_count": 1219,
   "metadata": {},
   "outputs": [
    {
     "data": {
      "text/plain": [
       "better career prospects     1.00\n",
       "flexibility & convenience   0.00\n",
       "other                       0.00\n",
       "Name: What matters most to you in choosing a course, dtype: float64"
      ]
     },
     "execution_count": 1219,
     "metadata": {},
     "output_type": "execute_result"
    }
   ],
   "source": [
    "#checking value counts percentage  of 'What matters most to you in choosing a course'  column\n",
    "\n",
    "lead_df['What matters most to you in choosing a course'].value_counts(dropna=False)/len(lead_df)"
   ]
  },
  {
   "cell_type": "markdown",
   "metadata": {},
   "source": [
    "As we can see that almost 99 % value of 'What matters most to you in choosing a course' column is 'Better career Prospect', we should actually drop this column as this will not help in further analysis. This column is also highly skewed."
   ]
  },
  {
   "cell_type": "code",
   "execution_count": 1220,
   "metadata": {},
   "outputs": [
    {
     "data": {
      "text/plain": [
       "(9240, 21)"
      ]
     },
     "execution_count": 1220,
     "metadata": {},
     "output_type": "execute_result"
    }
   ],
   "source": [
    "lead_df.drop(\"What matters most to you in choosing a course\", axis=1, inplace=True)\n",
    "lead_df.shape"
   ]
  },
  {
   "cell_type": "markdown",
   "metadata": {},
   "source": [
    "As per description of tags column it indicates the status of lead and for our case study point of view this variable will not be available at the start so we will remove this column as well"
   ]
  },
  {
   "cell_type": "code",
   "execution_count": 1221,
   "metadata": {},
   "outputs": [
    {
     "data": {
      "text/plain": [
       "(9240, 20)"
      ]
     },
     "execution_count": 1221,
     "metadata": {},
     "output_type": "execute_result"
    }
   ],
   "source": [
    "lead_df.drop(\"Tags\", axis=1, inplace=True)\n",
    "lead_df.shape"
   ]
  },
  {
   "cell_type": "code",
   "execution_count": 1222,
   "metadata": {},
   "outputs": [
    {
     "data": {
      "text/plain": [
       "Lead Origin                              0.00\n",
       "Lead Source                              0.39\n",
       "Do Not Email                             0.00\n",
       "Do Not Call                              0.00\n",
       "Converted                                0.00\n",
       "TotalVisits                              1.48\n",
       "Total Time Spent on Website              0.00\n",
       "Page Views Per Visit                     1.48\n",
       "Last Activity                            1.11\n",
       "Country                                  0.00\n",
       "Specialization                           0.00\n",
       "What is your current occupation          0.00\n",
       "Search                                   0.00\n",
       "Newspaper Article                        0.00\n",
       "X Education Forums                       0.00\n",
       "Newspaper                                0.00\n",
       "Digital Advertisement                    0.00\n",
       "Through Recommendations                  0.00\n",
       "A free copy of Mastering The Interview   0.00\n",
       "Last Notable Activity                    0.00\n",
       "dtype: float64"
      ]
     },
     "execution_count": 1222,
     "metadata": {},
     "output_type": "execute_result"
    }
   ],
   "source": [
    "column_wise_null = round(lead_df.isnull().sum()*100/len(lead_df), 2)\n",
    "column_wise_null"
   ]
  },
  {
   "cell_type": "markdown",
   "metadata": {},
   "source": [
    "Now we will try to impute 4 columns where there are very less null values "
   ]
  },
  {
   "cell_type": "code",
   "execution_count": 1223,
   "metadata": {
    "scrolled": false
   },
   "outputs": [
    {
     "data": {
      "text/plain": [
       "google              0.31\n",
       "direct traffic      0.28\n",
       "olark chat          0.19\n",
       "organic search      0.13\n",
       "reference           0.06\n",
       "welingak website    0.02\n",
       "referral sites      0.01\n",
       "facebook            0.01\n",
       "bing                0.00\n",
       "click2call          0.00\n",
       "press_release       0.00\n",
       "social media        0.00\n",
       "live chat           0.00\n",
       "testone             0.00\n",
       "pay per click ads   0.00\n",
       "nc_edm              0.00\n",
       "welearn             0.00\n",
       "blog                0.00\n",
       "youtubechannel      0.00\n",
       "welearnblog_home    0.00\n",
       "Name: Lead Source, dtype: float64"
      ]
     },
     "execution_count": 1223,
     "metadata": {},
     "output_type": "execute_result"
    }
   ],
   "source": [
    "lead_df[\"Lead Source\"].value_counts(normalize=True)"
   ]
  },
  {
   "cell_type": "code",
   "execution_count": 1224,
   "metadata": {},
   "outputs": [],
   "source": [
    "#replacing Nan Values and combining low frequency values\n",
    "lead_df['Lead Source'] = lead_df['Lead Source'].replace(np.nan,'others')\n",
    "lead_df['Lead Source'] = lead_df['Lead Source'].replace('facebook','social media')\n",
    "lead_df['Lead Source'] = lead_df['Lead Source'].replace(['bing','click2call','press_release',\n",
    "                                                     'youtubechannel','welearnblog_home',\n",
    "                                                     'welearn','blog','pay per click ads',\n",
    "                                                    'testone','nc_edm'] ,'others')"
   ]
  },
  {
   "cell_type": "code",
   "execution_count": 1225,
   "metadata": {
    "scrolled": true
   },
   "outputs": [
    {
     "data": {
      "image/png": "[encoded data removed]",
      "text/plain": [
       "<Figure size 1080x720 with 1 Axes>"
      ]
     },
     "metadata": {},
     "output_type": "display_data"
    }
   ],
   "source": [
    "#visualizing count of Variable based on Converted value\n",
    "plt.figure(figsize=(15,10))\n",
    "s1=sns.countplot(lead_df['Lead Source'], hue=lead_df.Converted)\n",
    "s1.set_xticklabels(s1.get_xticklabels(),rotation=90)\n",
    "plt.show()"
   ]
  },
  {
   "cell_type": "markdown",
   "metadata": {},
   "source": [
    "From the above graph we can conclude that:\n",
    "    - Maximum number of leads are generated by Google and Direct traffic.\n",
    "    - Conversion Rate of reference leads and leads through welingak website is high.\n",
    "    - To improve overall lead conversion rate, focus should be on improving lead converion of olark chat, organic search, direct traffic, and google leads and generate more leads from reference and welingak website."
   ]
  },
  {
   "cell_type": "code",
   "execution_count": 1226,
   "metadata": {
    "scrolled": false
   },
   "outputs": [
    {
     "data": {
      "text/plain": [
       "email opened                   0.38\n",
       "sms sent                       0.30\n",
       "olark chat conversation        0.11\n",
       "page visited on website        0.07\n",
       "converted to lead              0.05\n",
       "email bounced                  0.04\n",
       "email link clicked             0.03\n",
       "form submitted on website      0.01\n",
       "unreachable                    0.01\n",
       "unsubscribed                   0.01\n",
       "had a phone conversation       0.00\n",
       "approached upfront             0.00\n",
       "view in browser link clicked   0.00\n",
       "email marked spam              0.00\n",
       "email received                 0.00\n",
       "resubscribed to emails         0.00\n",
       "visited booth in tradeshow     0.00\n",
       "Name: Last Activity, dtype: float64"
      ]
     },
     "execution_count": 1226,
     "metadata": {},
     "output_type": "execute_result"
    }
   ],
   "source": [
    "#Ananlysing last Activity column\n",
    "lead_df[\"Last Activity\"].value_counts(normalize= True)"
   ]
  },
  {
   "cell_type": "code",
   "execution_count": 1227,
   "metadata": {},
   "outputs": [],
   "source": [
    "lead_df['Last Activity'] = lead_df['Last Activity'].replace(['unreachable','unsubscribed','had a phone conversation', \n",
    "                                                        'approached upfront',\n",
    "                                                        'view in browser link clicked',       \n",
    "                                                        'email marked spam',                  \n",
    "                                                        'email received','resubscribed to emails',\n",
    "                                                         'visited booth in tradeshow'],'others')"
   ]
  },
  {
   "cell_type": "code",
   "execution_count": 1228,
   "metadata": {
    "scrolled": true
   },
   "outputs": [
    {
     "data": {
      "text/plain": [
       "email opened                 3437\n",
       "sms sent                     2745\n",
       "olark chat conversation       973\n",
       "page visited on website       640\n",
       "converted to lead             428\n",
       "email bounced                 326\n",
       "email link clicked            267\n",
       "others                        205\n",
       "form submitted on website     116\n",
       "NaN                           103\n",
       "Name: Last Activity, dtype: int64"
      ]
     },
     "execution_count": 1228,
     "metadata": {},
     "output_type": "execute_result"
    }
   ],
   "source": [
    "# Last Activity:\n",
    "\n",
    "lead_df['Last Activity'].value_counts(dropna=False)"
   ]
  },
  {
   "cell_type": "code",
   "execution_count": 1229,
   "metadata": {
    "scrolled": true
   },
   "outputs": [
    {
     "data": {
      "image/png": "[encoded data removed]",
      "text/plain": [
       "<Figure size 1008x720 with 1 Axes>"
      ]
     },
     "metadata": {},
     "output_type": "display_data"
    }
   ],
   "source": [
    "#visualizing count of Variable based on Converted value\n",
    "\n",
    "plt.figure(figsize = (14,10))\n",
    "ax1=sns.countplot(x = \"Last Activity\", hue = \"Converted\", data = lead_df)\n",
    "ax1.set_xticklabels(ax1.get_xticklabels(),rotation=90)\n",
    "plt.show()"
   ]
  },
  {
   "cell_type": "markdown",
   "metadata": {},
   "source": [
    "From the above graph we can conclude that:\n",
    "    - Chance of lead to convert are more high when last activity is SMS sent.\n",
    "    - Chance of lead to convert are very low, when last activity is olark chat conversation."
   ]
  },
  {
   "cell_type": "code",
   "execution_count": 1230,
   "metadata": {},
   "outputs": [
    {
     "data": {
      "text/plain": [
       "modified                        3407\n",
       "email opened                    2827\n",
       "sms sent                        2172\n",
       "page visited on website          318\n",
       "olark chat conversation          183\n",
       "email link clicked               173\n",
       "email bounced                     60\n",
       "unsubscribed                      47\n",
       "unreachable                       32\n",
       "had a phone conversation          14\n",
       "email marked spam                  2\n",
       "view in browser link clicked       1\n",
       "form submitted on website          1\n",
       "resubscribed to emails             1\n",
       "approached upfront                 1\n",
       "email received                     1\n",
       "Name: Last Notable Activity, dtype: int64"
      ]
     },
     "execution_count": 1230,
     "metadata": {},
     "output_type": "execute_result"
    }
   ],
   "source": [
    "#checking value counts of last Notable Activity\n",
    "lead_df['Last Notable Activity'].value_counts()"
   ]
  },
  {
   "cell_type": "markdown",
   "metadata": {},
   "source": [
    "It seems like like 'Last Notable Activity' and 'Last Activity' column is redundant, so we can drop one of these columns"
   ]
  },
  {
   "cell_type": "code",
   "execution_count": 1231,
   "metadata": {},
   "outputs": [
    {
     "data": {
      "text/plain": [
       "(9240, 19)"
      ]
     },
     "execution_count": 1231,
     "metadata": {},
     "output_type": "execute_result"
    }
   ],
   "source": [
    "#Dropping last notable activity column as well \n",
    "lead_df.drop(\"Last Notable Activity\", axis=1, inplace=True)\n",
    "lead_df.shape"
   ]
  },
  {
   "cell_type": "code",
   "execution_count": 1232,
   "metadata": {},
   "outputs": [],
   "source": [
    "#Analysisng TotalVisits column"
   ]
  },
  {
   "cell_type": "code",
   "execution_count": 1233,
   "metadata": {},
   "outputs": [
    {
     "data": {
      "text/plain": [
       "count   9103.00\n",
       "mean       3.45\n",
       "std        4.85\n",
       "min        0.00\n",
       "25%        1.00\n",
       "50%        3.00\n",
       "75%        5.00\n",
       "max      251.00\n",
       "Name: TotalVisits, dtype: float64"
      ]
     },
     "execution_count": 1233,
     "metadata": {},
     "output_type": "execute_result"
    }
   ],
   "source": [
    "lead_df[\"TotalVisits\"].describe()"
   ]
  },
  {
   "cell_type": "code",
   "execution_count": 1234,
   "metadata": {},
   "outputs": [
    {
     "data": {
      "text/plain": [
       "<matplotlib.axes._subplots.AxesSubplot at 0x285b619ca08>"
      ]
     },
     "execution_count": 1234,
     "metadata": {},
     "output_type": "execute_result"
    },
    {
     "data": {
      "image/png": "[encoded data removed]",
      "text/plain": [
       "<Figure size 432x288 with 1 Axes>"
      ]
     },
     "metadata": {},
     "output_type": "display_data"
    }
   ],
   "source": [
    "sns.boxplot(lead_df[\"TotalVisits\"])"
   ]
  },
  {
   "cell_type": "code",
   "execution_count": 1235,
   "metadata": {},
   "outputs": [
    {
     "data": {
      "text/plain": [
       "count   9103.00\n",
       "mean       3.45\n",
       "std        4.85\n",
       "min        0.00\n",
       "5%         0.00\n",
       "25%        1.00\n",
       "50%        3.00\n",
       "75%        5.00\n",
       "90%        7.00\n",
       "95%       10.00\n",
       "99%       17.00\n",
       "max      251.00\n",
       "Name: TotalVisits, dtype: float64"
      ]
     },
     "execution_count": 1235,
     "metadata": {},
     "output_type": "execute_result"
    }
   ],
   "source": [
    "#checking percentile values for \"Total Visits\"\n",
    "\n",
    "lead_df['TotalVisits'].describe(percentiles=[0.05,.25, .5, .75, .90, .95, .99])"
   ]
  },
  {
   "cell_type": "code",
   "execution_count": 1236,
   "metadata": {},
   "outputs": [
    {
     "data": {
      "image/png": "[encoded data removed]",
      "text/plain": [
       "<Figure size 432x288 with 1 Axes>"
      ]
     },
     "metadata": {},
     "output_type": "display_data"
    }
   ],
   "source": [
    "#Outlier Treatment: Remove top & bottom 1% of the Column Outlier values\n",
    "\n",
    "Q3 = lead_df.TotalVisits.quantile(0.99)\n",
    "lead_df = lead_df[(lead_df.TotalVisits <= Q3)]\n",
    "Q1 = lead_df.TotalVisits.quantile(0.01)\n",
    "lead_df = lead_df[(lead_df.TotalVisits >= Q1)]\n",
    "sns.boxplot(lead_df['TotalVisits'])\n",
    "plt.show()"
   ]
  },
  {
   "cell_type": "code",
   "execution_count": 1237,
   "metadata": {
    "scrolled": true
   },
   "outputs": [
    {
     "data": {
      "text/plain": [
       "count   9020.00\n",
       "mean       3.21\n",
       "std        2.99\n",
       "min        0.00\n",
       "25%        1.00\n",
       "50%        3.00\n",
       "75%        5.00\n",
       "max       17.00\n",
       "Name: TotalVisits, dtype: float64"
      ]
     },
     "execution_count": 1237,
     "metadata": {},
     "output_type": "execute_result"
    }
   ],
   "source": [
    "lead_df[\"TotalVisits\"].fillna(3,inplace=True)\n",
    "lead_df[\"TotalVisits\"].describe()"
   ]
  },
  {
   "cell_type": "code",
   "execution_count": 1238,
   "metadata": {},
   "outputs": [
    {
     "data": {
      "text/plain": [
       "(9020, 19)"
      ]
     },
     "execution_count": 1238,
     "metadata": {},
     "output_type": "execute_result"
    }
   ],
   "source": [
    "lead_df.shape"
   ]
  },
  {
   "cell_type": "code",
   "execution_count": 1239,
   "metadata": {},
   "outputs": [
    {
     "data": {
      "text/plain": [
       "count   9020.00\n",
       "mean       2.34\n",
       "std        2.06\n",
       "min        0.00\n",
       "25%        1.00\n",
       "50%        2.00\n",
       "75%        3.00\n",
       "max       16.00\n",
       "Name: Page Views Per Visit, dtype: float64"
      ]
     },
     "execution_count": 1239,
     "metadata": {},
     "output_type": "execute_result"
    }
   ],
   "source": [
    "#Analysisng \"Page Views Per Visit\" column\n",
    "lead_df[\"Page Views Per Visit\"].describe()"
   ]
  },
  {
   "cell_type": "code",
   "execution_count": 1240,
   "metadata": {},
   "outputs": [
    {
     "data": {
      "text/plain": [
       "<matplotlib.axes._subplots.AxesSubplot at 0x285a9d28708>"
      ]
     },
     "execution_count": 1240,
     "metadata": {},
     "output_type": "execute_result"
    },
    {
     "data": {
      "image/png": "[encoded data removed]",
      "text/plain": [
       "<Figure size 432x288 with 1 Axes>"
      ]
     },
     "metadata": {},
     "output_type": "display_data"
    }
   ],
   "source": [
    "sns.boxplot(lead_df[\"Page Views Per Visit\"])"
   ]
  },
  {
   "cell_type": "code",
   "execution_count": 1241,
   "metadata": {
    "scrolled": true
   },
   "outputs": [
    {
     "data": {
      "image/png": "[encoded data removed]",
      "text/plain": [
       "<Figure size 432x288 with 1 Axes>"
      ]
     },
     "metadata": {},
     "output_type": "display_data"
    }
   ],
   "source": [
    "#Outlier Treatment: Remove top & bottom 1% \n",
    "\n",
    "Q3 = lead_df['Page Views Per Visit'].quantile(0.99)\n",
    "lead_df = lead_df[lead_df['Page Views Per Visit'] <= Q3]\n",
    "Q1 = lead_df['Page Views Per Visit'].quantile(0.01)\n",
    "lead_df = lead_df[lead_df['Page Views Per Visit'] >= Q1]\n",
    "sns.boxplot(lead_df['Page Views Per Visit'])\n",
    "plt.show()"
   ]
  },
  {
   "cell_type": "code",
   "execution_count": 1242,
   "metadata": {
    "scrolled": false
   },
   "outputs": [
    {
     "data": {
      "image/png": "[encoded data removed]",
      "text/plain": [
       "<Figure size 432x288 with 1 Axes>"
      ]
     },
     "metadata": {},
     "output_type": "display_data"
    }
   ],
   "source": [
    "#checking Spread of \"Total Visits\" vs Converted variable\n",
    "sns.boxplot(y = 'TotalVisits', x = 'Converted', data = lead_df)\n",
    "plt.show()"
   ]
  },
  {
   "cell_type": "markdown",
   "metadata": {},
   "source": [
    "From the above graph we can conclude that median for both converted and non conerted is same"
   ]
  },
  {
   "cell_type": "code",
   "execution_count": 1243,
   "metadata": {},
   "outputs": [
    {
     "data": {
      "image/png": "[encoded data removed]",
      "text/plain": [
       "<Figure size 432x288 with 1 Axes>"
      ]
     },
     "metadata": {},
     "output_type": "display_data"
    }
   ],
   "source": [
    "#checking Spread of \"Total Time Spent on Website\" vs Converted variable\n",
    "\n",
    "sns.boxplot(x=lead_df.Converted, y=lead_df['Total Time Spent on Website'])\n",
    "plt.show()"
   ]
  },
  {
   "cell_type": "markdown",
   "metadata": {},
   "source": [
    "From above box plot we can conclude that Leads spending more time on the website are more likely to be converted.Thus,Website should be made more engaging to make leads spend more time."
   ]
  },
  {
   "cell_type": "code",
   "execution_count": 1244,
   "metadata": {
    "scrolled": true
   },
   "outputs": [
    {
     "data": {
      "text/plain": [
       "Lead Origin                              0.00\n",
       "Lead Source                              0.00\n",
       "Do Not Email                             0.00\n",
       "Do Not Call                              0.00\n",
       "Converted                                0.00\n",
       "TotalVisits                              0.00\n",
       "Total Time Spent on Website              0.00\n",
       "Page Views Per Visit                     0.00\n",
       "Last Activity                            0.00\n",
       "Country                                  0.00\n",
       "Specialization                           0.00\n",
       "What is your current occupation          0.00\n",
       "Search                                   0.00\n",
       "Newspaper Article                        0.00\n",
       "X Education Forums                       0.00\n",
       "Newspaper                                0.00\n",
       "Digital Advertisement                    0.00\n",
       "Through Recommendations                  0.00\n",
       "A free copy of Mastering The Interview   0.00\n",
       "dtype: float64"
      ]
     },
     "execution_count": 1244,
     "metadata": {},
     "output_type": "execute_result"
    }
   ],
   "source": [
    "#Check the Null Values in All Columns:\n",
    "round(100*(lead_df.isnull().sum()/len(lead_df.index)), 2)"
   ]
  },
  {
   "cell_type": "markdown",
   "metadata": {},
   "source": [
    "Now we see that there are no null values in the columns"
   ]
  },
  {
   "cell_type": "markdown",
   "metadata": {},
   "source": [
    "### Plotting the categorical variables"
   ]
  },
  {
   "cell_type": "code",
   "execution_count": 1245,
   "metadata": {},
   "outputs": [
    {
     "data": {
      "text/plain": [
       "Index(['Lead Origin', 'Lead Source', 'Do Not Email', 'Do Not Call',\n",
       "       'Last Activity', 'Country', 'Specialization',\n",
       "       'What is your current occupation', 'Search', 'Newspaper Article',\n",
       "       'X Education Forums', 'Newspaper', 'Digital Advertisement',\n",
       "       'Through Recommendations', 'A free copy of Mastering The Interview'],\n",
       "      dtype='object')"
      ]
     },
     "execution_count": 1245,
     "metadata": {},
     "output_type": "execute_result"
    }
   ],
   "source": [
    "#Getting the list of categorical columns\n",
    "cat_columns = lead_df.select_dtypes(include=['object']).columns\n",
    "cat_columns"
   ]
  },
  {
   "cell_type": "code",
   "execution_count": 1246,
   "metadata": {},
   "outputs": [
    {
     "data": {
      "image/png": "[encoded data removed]",
      "text/plain": [
       "<Figure size 2160x2160 with 15 Axes>"
      ]
     },
     "metadata": {},
     "output_type": "display_data"
    }
   ],
   "source": [
    "#Plotting them\n",
    "plt.figure(figsize=(30,30))\n",
    "for i in range(15):\n",
    "    plt.subplot(3,5,i+1)\n",
    "    sns.countplot(lead_df[cat_columns[i]])\n",
    "    plt.title(cat_columns[i])\n",
    "    plt.xticks(rotation=45)"
   ]
  },
  {
   "cell_type": "markdown",
   "metadata": {},
   "source": [
    "## Numerical Column Analysis"
   ]
  },
  {
   "cell_type": "code",
   "execution_count": 1247,
   "metadata": {
    "scrolled": true
   },
   "outputs": [
    {
     "data": {
      "text/plain": [
       "0   0.62\n",
       "1   0.38\n",
       "Name: Converted, dtype: float64"
      ]
     },
     "execution_count": 1247,
     "metadata": {},
     "output_type": "execute_result"
    }
   ],
   "source": [
    "lead_df['Converted'].value_counts(normalize=True)"
   ]
  },
  {
   "cell_type": "markdown",
   "metadata": {},
   "source": [
    "### We can see that converted is almost 39% of entire data. So we can say that the data is relatively balance"
   ]
  },
  {
   "cell_type": "markdown",
   "metadata": {},
   "source": [
    "### Checking correlation among numerical variables"
   ]
  },
  {
   "cell_type": "code",
   "execution_count": 1248,
   "metadata": {},
   "outputs": [
    {
     "data": {
      "image/png": "[encoded data removed]",
      "text/plain": [
       "<Figure size 720x576 with 2 Axes>"
      ]
     },
     "metadata": {},
     "output_type": "display_data"
    }
   ],
   "source": [
    "plt.figure(figsize=(10,8))\n",
    "\n",
    "# heatmap\n",
    "sns.heatmap(lead_df.corr(), cmap=\"YlGnBu\", annot=True)\n",
    "plt.show()"
   ]
  },
  {
   "cell_type": "markdown",
   "metadata": {},
   "source": [
    "#### Now we can see that there is not much corr among the numerical variables"
   ]
  },
  {
   "cell_type": "markdown",
   "metadata": {},
   "source": [
    "## Dummy Variables"
   ]
  },
  {
   "cell_type": "markdown",
   "metadata": {},
   "source": [
    "Now we will create dummy variables for all categorical columns "
   ]
  },
  {
   "cell_type": "code",
   "execution_count": 1249,
   "metadata": {
    "scrolled": true
   },
   "outputs": [
    {
     "data": {
      "text/html": [
       "<div>\n",
       "<style scoped>\n",
       "    .dataframe tbody tr th:only-of-type {\n",
       "        vertical-align: middle;\n",
       "    }\n",
       "\n",
       "    .dataframe tbody tr th {\n",
       "        vertical-align: top;\n",
       "    }\n",
       "\n",
       "    .dataframe thead th {\n",
       "        text-align: right;\n",
       "    }\n",
       "</style>\n",
       "<table border=\"1\" class=\"dataframe\">\n",
       "  <thead>\n",
       "    <tr style=\"text-align: right;\">\n",
       "      <th></th>\n",
       "      <th>Lead Origin</th>\n",
       "      <th>Lead Source</th>\n",
       "      <th>Do Not Email</th>\n",
       "      <th>Do Not Call</th>\n",
       "      <th>Converted</th>\n",
       "      <th>TotalVisits</th>\n",
       "      <th>Total Time Spent on Website</th>\n",
       "      <th>Page Views Per Visit</th>\n",
       "      <th>Last Activity</th>\n",
       "      <th>Country</th>\n",
       "      <th>...</th>\n",
       "      <th>What is your current occupation_other</th>\n",
       "      <th>What is your current occupation_student</th>\n",
       "      <th>What is your current occupation_unemployed</th>\n",
       "      <th>What is your current occupation_working professional</th>\n",
       "      <th>Search_yes</th>\n",
       "      <th>Newspaper Article_yes</th>\n",
       "      <th>Newspaper_yes</th>\n",
       "      <th>Digital Advertisement_yes</th>\n",
       "      <th>Through Recommendations_yes</th>\n",
       "      <th>A free copy of Mastering The Interview_yes</th>\n",
       "    </tr>\n",
       "  </thead>\n",
       "  <tbody>\n",
       "    <tr>\n",
       "      <th>0</th>\n",
       "      <td>api</td>\n",
       "      <td>olark chat</td>\n",
       "      <td>no</td>\n",
       "      <td>no</td>\n",
       "      <td>0</td>\n",
       "      <td>0.00</td>\n",
       "      <td>0</td>\n",
       "      <td>0.00</td>\n",
       "      <td>page visited on website</td>\n",
       "      <td>india</td>\n",
       "      <td>...</td>\n",
       "      <td>0</td>\n",
       "      <td>0</td>\n",
       "      <td>1</td>\n",
       "      <td>0</td>\n",
       "      <td>0</td>\n",
       "      <td>0</td>\n",
       "      <td>0</td>\n",
       "      <td>0</td>\n",
       "      <td>0</td>\n",
       "      <td>0</td>\n",
       "    </tr>\n",
       "    <tr>\n",
       "      <th>1</th>\n",
       "      <td>api</td>\n",
       "      <td>organic search</td>\n",
       "      <td>no</td>\n",
       "      <td>no</td>\n",
       "      <td>0</td>\n",
       "      <td>5.00</td>\n",
       "      <td>674</td>\n",
       "      <td>2.50</td>\n",
       "      <td>email opened</td>\n",
       "      <td>india</td>\n",
       "      <td>...</td>\n",
       "      <td>0</td>\n",
       "      <td>0</td>\n",
       "      <td>1</td>\n",
       "      <td>0</td>\n",
       "      <td>0</td>\n",
       "      <td>0</td>\n",
       "      <td>0</td>\n",
       "      <td>0</td>\n",
       "      <td>0</td>\n",
       "      <td>0</td>\n",
       "    </tr>\n",
       "    <tr>\n",
       "      <th>2</th>\n",
       "      <td>landing page submission</td>\n",
       "      <td>direct traffic</td>\n",
       "      <td>no</td>\n",
       "      <td>no</td>\n",
       "      <td>1</td>\n",
       "      <td>2.00</td>\n",
       "      <td>1532</td>\n",
       "      <td>2.00</td>\n",
       "      <td>email opened</td>\n",
       "      <td>india</td>\n",
       "      <td>...</td>\n",
       "      <td>0</td>\n",
       "      <td>1</td>\n",
       "      <td>0</td>\n",
       "      <td>0</td>\n",
       "      <td>0</td>\n",
       "      <td>0</td>\n",
       "      <td>0</td>\n",
       "      <td>0</td>\n",
       "      <td>0</td>\n",
       "      <td>1</td>\n",
       "    </tr>\n",
       "    <tr>\n",
       "      <th>3</th>\n",
       "      <td>landing page submission</td>\n",
       "      <td>direct traffic</td>\n",
       "      <td>no</td>\n",
       "      <td>no</td>\n",
       "      <td>0</td>\n",
       "      <td>1.00</td>\n",
       "      <td>305</td>\n",
       "      <td>1.00</td>\n",
       "      <td>others</td>\n",
       "      <td>india</td>\n",
       "      <td>...</td>\n",
       "      <td>0</td>\n",
       "      <td>0</td>\n",
       "      <td>1</td>\n",
       "      <td>0</td>\n",
       "      <td>0</td>\n",
       "      <td>0</td>\n",
       "      <td>0</td>\n",
       "      <td>0</td>\n",
       "      <td>0</td>\n",
       "      <td>0</td>\n",
       "    </tr>\n",
       "    <tr>\n",
       "      <th>4</th>\n",
       "      <td>landing page submission</td>\n",
       "      <td>google</td>\n",
       "      <td>no</td>\n",
       "      <td>no</td>\n",
       "      <td>1</td>\n",
       "      <td>2.00</td>\n",
       "      <td>1428</td>\n",
       "      <td>1.00</td>\n",
       "      <td>converted to lead</td>\n",
       "      <td>india</td>\n",
       "      <td>...</td>\n",
       "      <td>0</td>\n",
       "      <td>0</td>\n",
       "      <td>1</td>\n",
       "      <td>0</td>\n",
       "      <td>0</td>\n",
       "      <td>0</td>\n",
       "      <td>0</td>\n",
       "      <td>0</td>\n",
       "      <td>0</td>\n",
       "      <td>0</td>\n",
       "    </tr>\n",
       "  </tbody>\n",
       "</table>\n",
       "<p>5 rows × 64 columns</p>\n",
       "</div>"
      ],
      "text/plain": [
       "               Lead Origin     Lead Source Do Not Email Do Not Call  \\\n",
       "0                      api      olark chat           no          no   \n",
       "1                      api  organic search           no          no   \n",
       "2  landing page submission  direct traffic           no          no   \n",
       "3  landing page submission  direct traffic           no          no   \n",
       "4  landing page submission          google           no          no   \n",
       "\n",
       "   Converted  TotalVisits  Total Time Spent on Website  Page Views Per Visit  \\\n",
       "0          0         0.00                            0                  0.00   \n",
       "1          0         5.00                          674                  2.50   \n",
       "2          1         2.00                         1532                  2.00   \n",
       "3          0         1.00                          305                  1.00   \n",
       "4          1         2.00                         1428                  1.00   \n",
       "\n",
       "             Last Activity Country  ... What is your current occupation_other  \\\n",
       "0  page visited on website   india  ...                                     0   \n",
       "1             email opened   india  ...                                     0   \n",
       "2             email opened   india  ...                                     0   \n",
       "3                   others   india  ...                                     0   \n",
       "4        converted to lead   india  ...                                     0   \n",
       "\n",
       "  What is your current occupation_student  \\\n",
       "0                                       0   \n",
       "1                                       0   \n",
       "2                                       1   \n",
       "3                                       0   \n",
       "4                                       0   \n",
       "\n",
       "  What is your current occupation_unemployed  \\\n",
       "0                                          1   \n",
       "1                                          1   \n",
       "2                                          0   \n",
       "3                                          1   \n",
       "4                                          1   \n",
       "\n",
       "  What is your current occupation_working professional Search_yes  \\\n",
       "0                                                  0            0   \n",
       "1                                                  0            0   \n",
       "2                                                  0            0   \n",
       "3                                                  0            0   \n",
       "4                                                  0            0   \n",
       "\n",
       "  Newspaper Article_yes Newspaper_yes Digital Advertisement_yes  \\\n",
       "0                     0             0                         0   \n",
       "1                     0             0                         0   \n",
       "2                     0             0                         0   \n",
       "3                     0             0                         0   \n",
       "4                     0             0                         0   \n",
       "\n",
       "  Through Recommendations_yes  A free copy of Mastering The Interview_yes  \n",
       "0                           0                                           0  \n",
       "1                           0                                           0  \n",
       "2                           0                                           1  \n",
       "3                           0                                           0  \n",
       "4                           0                                           0  \n",
       "\n",
       "[5 rows x 64 columns]"
      ]
     },
     "execution_count": 1249,
     "metadata": {},
     "output_type": "execute_result"
    }
   ],
   "source": [
    "dummies = pd.get_dummies(lead_df[cat_columns], drop_first=True)\n",
    "# Concating the new datafram with lead dataframe along columns\n",
    "df_concat = pd.concat([lead_df, dummies], axis=1)\n",
    "df_concat.head()"
   ]
  },
  {
   "cell_type": "code",
   "execution_count": 1250,
   "metadata": {},
   "outputs": [
    {
     "data": {
      "text/html": [
       "<div>\n",
       "<style scoped>\n",
       "    .dataframe tbody tr th:only-of-type {\n",
       "        vertical-align: middle;\n",
       "    }\n",
       "\n",
       "    .dataframe tbody tr th {\n",
       "        vertical-align: top;\n",
       "    }\n",
       "\n",
       "    .dataframe thead th {\n",
       "        text-align: right;\n",
       "    }\n",
       "</style>\n",
       "<table border=\"1\" class=\"dataframe\">\n",
       "  <thead>\n",
       "    <tr style=\"text-align: right;\">\n",
       "      <th></th>\n",
       "      <th>Converted</th>\n",
       "      <th>TotalVisits</th>\n",
       "      <th>Total Time Spent on Website</th>\n",
       "      <th>Page Views Per Visit</th>\n",
       "      <th>Lead Origin_landing page submission</th>\n",
       "      <th>Lead Origin_lead add form</th>\n",
       "      <th>Lead Origin_lead import</th>\n",
       "      <th>Lead Source_google</th>\n",
       "      <th>Lead Source_live chat</th>\n",
       "      <th>Lead Source_olark chat</th>\n",
       "      <th>...</th>\n",
       "      <th>What is your current occupation_other</th>\n",
       "      <th>What is your current occupation_student</th>\n",
       "      <th>What is your current occupation_unemployed</th>\n",
       "      <th>What is your current occupation_working professional</th>\n",
       "      <th>Search_yes</th>\n",
       "      <th>Newspaper Article_yes</th>\n",
       "      <th>Newspaper_yes</th>\n",
       "      <th>Digital Advertisement_yes</th>\n",
       "      <th>Through Recommendations_yes</th>\n",
       "      <th>A free copy of Mastering The Interview_yes</th>\n",
       "    </tr>\n",
       "  </thead>\n",
       "  <tbody>\n",
       "    <tr>\n",
       "      <th>0</th>\n",
       "      <td>0</td>\n",
       "      <td>0.00</td>\n",
       "      <td>0</td>\n",
       "      <td>0.00</td>\n",
       "      <td>0</td>\n",
       "      <td>0</td>\n",
       "      <td>0</td>\n",
       "      <td>0</td>\n",
       "      <td>0</td>\n",
       "      <td>1</td>\n",
       "      <td>...</td>\n",
       "      <td>0</td>\n",
       "      <td>0</td>\n",
       "      <td>1</td>\n",
       "      <td>0</td>\n",
       "      <td>0</td>\n",
       "      <td>0</td>\n",
       "      <td>0</td>\n",
       "      <td>0</td>\n",
       "      <td>0</td>\n",
       "      <td>0</td>\n",
       "    </tr>\n",
       "    <tr>\n",
       "      <th>1</th>\n",
       "      <td>0</td>\n",
       "      <td>5.00</td>\n",
       "      <td>674</td>\n",
       "      <td>2.50</td>\n",
       "      <td>0</td>\n",
       "      <td>0</td>\n",
       "      <td>0</td>\n",
       "      <td>0</td>\n",
       "      <td>0</td>\n",
       "      <td>0</td>\n",
       "      <td>...</td>\n",
       "      <td>0</td>\n",
       "      <td>0</td>\n",
       "      <td>1</td>\n",
       "      <td>0</td>\n",
       "      <td>0</td>\n",
       "      <td>0</td>\n",
       "      <td>0</td>\n",
       "      <td>0</td>\n",
       "      <td>0</td>\n",
       "      <td>0</td>\n",
       "    </tr>\n",
       "    <tr>\n",
       "      <th>2</th>\n",
       "      <td>1</td>\n",
       "      <td>2.00</td>\n",
       "      <td>1532</td>\n",
       "      <td>2.00</td>\n",
       "      <td>1</td>\n",
       "      <td>0</td>\n",
       "      <td>0</td>\n",
       "      <td>0</td>\n",
       "      <td>0</td>\n",
       "      <td>0</td>\n",
       "      <td>...</td>\n",
       "      <td>0</td>\n",
       "      <td>1</td>\n",
       "      <td>0</td>\n",
       "      <td>0</td>\n",
       "      <td>0</td>\n",
       "      <td>0</td>\n",
       "      <td>0</td>\n",
       "      <td>0</td>\n",
       "      <td>0</td>\n",
       "      <td>1</td>\n",
       "    </tr>\n",
       "    <tr>\n",
       "      <th>3</th>\n",
       "      <td>0</td>\n",
       "      <td>1.00</td>\n",
       "      <td>305</td>\n",
       "      <td>1.00</td>\n",
       "      <td>1</td>\n",
       "      <td>0</td>\n",
       "      <td>0</td>\n",
       "      <td>0</td>\n",
       "      <td>0</td>\n",
       "      <td>0</td>\n",
       "      <td>...</td>\n",
       "      <td>0</td>\n",
       "      <td>0</td>\n",
       "      <td>1</td>\n",
       "      <td>0</td>\n",
       "      <td>0</td>\n",
       "      <td>0</td>\n",
       "      <td>0</td>\n",
       "      <td>0</td>\n",
       "      <td>0</td>\n",
       "      <td>0</td>\n",
       "    </tr>\n",
       "    <tr>\n",
       "      <th>4</th>\n",
       "      <td>1</td>\n",
       "      <td>2.00</td>\n",
       "      <td>1428</td>\n",
       "      <td>1.00</td>\n",
       "      <td>1</td>\n",
       "      <td>0</td>\n",
       "      <td>0</td>\n",
       "      <td>1</td>\n",
       "      <td>0</td>\n",
       "      <td>0</td>\n",
       "      <td>...</td>\n",
       "      <td>0</td>\n",
       "      <td>0</td>\n",
       "      <td>1</td>\n",
       "      <td>0</td>\n",
       "      <td>0</td>\n",
       "      <td>0</td>\n",
       "      <td>0</td>\n",
       "      <td>0</td>\n",
       "      <td>0</td>\n",
       "      <td>0</td>\n",
       "    </tr>\n",
       "  </tbody>\n",
       "</table>\n",
       "<p>5 rows × 49 columns</p>\n",
       "</div>"
      ],
      "text/plain": [
       "   Converted  TotalVisits  Total Time Spent on Website  Page Views Per Visit  \\\n",
       "0          0         0.00                            0                  0.00   \n",
       "1          0         5.00                          674                  2.50   \n",
       "2          1         2.00                         1532                  2.00   \n",
       "3          0         1.00                          305                  1.00   \n",
       "4          1         2.00                         1428                  1.00   \n",
       "\n",
       "   Lead Origin_landing page submission  Lead Origin_lead add form  \\\n",
       "0                                    0                          0   \n",
       "1                                    0                          0   \n",
       "2                                    1                          0   \n",
       "3                                    1                          0   \n",
       "4                                    1                          0   \n",
       "\n",
       "   Lead Origin_lead import  Lead Source_google  Lead Source_live chat  \\\n",
       "0                        0                   0                      0   \n",
       "1                        0                   0                      0   \n",
       "2                        0                   0                      0   \n",
       "3                        0                   0                      0   \n",
       "4                        0                   1                      0   \n",
       "\n",
       "   Lead Source_olark chat  ...  What is your current occupation_other  \\\n",
       "0                       1  ...                                      0   \n",
       "1                       0  ...                                      0   \n",
       "2                       0  ...                                      0   \n",
       "3                       0  ...                                      0   \n",
       "4                       0  ...                                      0   \n",
       "\n",
       "   What is your current occupation_student  \\\n",
       "0                                        0   \n",
       "1                                        0   \n",
       "2                                        1   \n",
       "3                                        0   \n",
       "4                                        0   \n",
       "\n",
       "   What is your current occupation_unemployed  \\\n",
       "0                                           1   \n",
       "1                                           1   \n",
       "2                                           0   \n",
       "3                                           1   \n",
       "4                                           1   \n",
       "\n",
       "   What is your current occupation_working professional  Search_yes  \\\n",
       "0                                                  0              0   \n",
       "1                                                  0              0   \n",
       "2                                                  0              0   \n",
       "3                                                  0              0   \n",
       "4                                                  0              0   \n",
       "\n",
       "   Newspaper Article_yes  Newspaper_yes  Digital Advertisement_yes  \\\n",
       "0                      0              0                          0   \n",
       "1                      0              0                          0   \n",
       "2                      0              0                          0   \n",
       "3                      0              0                          0   \n",
       "4                      0              0                          0   \n",
       "\n",
       "   Through Recommendations_yes  A free copy of Mastering The Interview_yes  \n",
       "0                            0                                           0  \n",
       "1                            0                                           0  \n",
       "2                            0                                           1  \n",
       "3                            0                                           0  \n",
       "4                            0                                           0  \n",
       "\n",
       "[5 rows x 49 columns]"
      ]
     },
     "execution_count": 1250,
     "metadata": {},
     "output_type": "execute_result"
    }
   ],
   "source": [
    "#Now we will delete original cateogrical column as dummies have already been created. \n",
    "df_concat = df_concat.drop(cat_columns,axis=1)\n",
    "df_concat.head()"
   ]
  },
  {
   "cell_type": "code",
   "execution_count": 1251,
   "metadata": {},
   "outputs": [
    {
     "data": {
      "text/html": [
       "<div>\n",
       "<style scoped>\n",
       "    .dataframe tbody tr th:only-of-type {\n",
       "        vertical-align: middle;\n",
       "    }\n",
       "\n",
       "    .dataframe tbody tr th {\n",
       "        vertical-align: top;\n",
       "    }\n",
       "\n",
       "    .dataframe thead th {\n",
       "        text-align: right;\n",
       "    }\n",
       "</style>\n",
       "<table border=\"1\" class=\"dataframe\">\n",
       "  <thead>\n",
       "    <tr style=\"text-align: right;\">\n",
       "      <th></th>\n",
       "      <th>TotalVisits</th>\n",
       "      <th>Total Time Spent on Website</th>\n",
       "      <th>Page Views Per Visit</th>\n",
       "      <th>Lead Origin_landing page submission</th>\n",
       "      <th>Lead Origin_lead add form</th>\n",
       "      <th>Lead Origin_lead import</th>\n",
       "      <th>Lead Source_google</th>\n",
       "      <th>Lead Source_live chat</th>\n",
       "      <th>Lead Source_olark chat</th>\n",
       "      <th>Lead Source_organic search</th>\n",
       "      <th>...</th>\n",
       "      <th>What is your current occupation_other</th>\n",
       "      <th>What is your current occupation_student</th>\n",
       "      <th>What is your current occupation_unemployed</th>\n",
       "      <th>What is your current occupation_working professional</th>\n",
       "      <th>Search_yes</th>\n",
       "      <th>Newspaper Article_yes</th>\n",
       "      <th>Newspaper_yes</th>\n",
       "      <th>Digital Advertisement_yes</th>\n",
       "      <th>Through Recommendations_yes</th>\n",
       "      <th>A free copy of Mastering The Interview_yes</th>\n",
       "    </tr>\n",
       "  </thead>\n",
       "  <tbody>\n",
       "    <tr>\n",
       "      <th>0</th>\n",
       "      <td>0.00</td>\n",
       "      <td>0</td>\n",
       "      <td>0.00</td>\n",
       "      <td>0</td>\n",
       "      <td>0</td>\n",
       "      <td>0</td>\n",
       "      <td>0</td>\n",
       "      <td>0</td>\n",
       "      <td>1</td>\n",
       "      <td>0</td>\n",
       "      <td>...</td>\n",
       "      <td>0</td>\n",
       "      <td>0</td>\n",
       "      <td>1</td>\n",
       "      <td>0</td>\n",
       "      <td>0</td>\n",
       "      <td>0</td>\n",
       "      <td>0</td>\n",
       "      <td>0</td>\n",
       "      <td>0</td>\n",
       "      <td>0</td>\n",
       "    </tr>\n",
       "    <tr>\n",
       "      <th>1</th>\n",
       "      <td>5.00</td>\n",
       "      <td>674</td>\n",
       "      <td>2.50</td>\n",
       "      <td>0</td>\n",
       "      <td>0</td>\n",
       "      <td>0</td>\n",
       "      <td>0</td>\n",
       "      <td>0</td>\n",
       "      <td>0</td>\n",
       "      <td>1</td>\n",
       "      <td>...</td>\n",
       "      <td>0</td>\n",
       "      <td>0</td>\n",
       "      <td>1</td>\n",
       "      <td>0</td>\n",
       "      <td>0</td>\n",
       "      <td>0</td>\n",
       "      <td>0</td>\n",
       "      <td>0</td>\n",
       "      <td>0</td>\n",
       "      <td>0</td>\n",
       "    </tr>\n",
       "    <tr>\n",
       "      <th>2</th>\n",
       "      <td>2.00</td>\n",
       "      <td>1532</td>\n",
       "      <td>2.00</td>\n",
       "      <td>1</td>\n",
       "      <td>0</td>\n",
       "      <td>0</td>\n",
       "      <td>0</td>\n",
       "      <td>0</td>\n",
       "      <td>0</td>\n",
       "      <td>0</td>\n",
       "      <td>...</td>\n",
       "      <td>0</td>\n",
       "      <td>1</td>\n",
       "      <td>0</td>\n",
       "      <td>0</td>\n",
       "      <td>0</td>\n",
       "      <td>0</td>\n",
       "      <td>0</td>\n",
       "      <td>0</td>\n",
       "      <td>0</td>\n",
       "      <td>1</td>\n",
       "    </tr>\n",
       "    <tr>\n",
       "      <th>3</th>\n",
       "      <td>1.00</td>\n",
       "      <td>305</td>\n",
       "      <td>1.00</td>\n",
       "      <td>1</td>\n",
       "      <td>0</td>\n",
       "      <td>0</td>\n",
       "      <td>0</td>\n",
       "      <td>0</td>\n",
       "      <td>0</td>\n",
       "      <td>0</td>\n",
       "      <td>...</td>\n",
       "      <td>0</td>\n",
       "      <td>0</td>\n",
       "      <td>1</td>\n",
       "      <td>0</td>\n",
       "      <td>0</td>\n",
       "      <td>0</td>\n",
       "      <td>0</td>\n",
       "      <td>0</td>\n",
       "      <td>0</td>\n",
       "      <td>0</td>\n",
       "    </tr>\n",
       "    <tr>\n",
       "      <th>4</th>\n",
       "      <td>2.00</td>\n",
       "      <td>1428</td>\n",
       "      <td>1.00</td>\n",
       "      <td>1</td>\n",
       "      <td>0</td>\n",
       "      <td>0</td>\n",
       "      <td>1</td>\n",
       "      <td>0</td>\n",
       "      <td>0</td>\n",
       "      <td>0</td>\n",
       "      <td>...</td>\n",
       "      <td>0</td>\n",
       "      <td>0</td>\n",
       "      <td>1</td>\n",
       "      <td>0</td>\n",
       "      <td>0</td>\n",
       "      <td>0</td>\n",
       "      <td>0</td>\n",
       "      <td>0</td>\n",
       "      <td>0</td>\n",
       "      <td>0</td>\n",
       "    </tr>\n",
       "  </tbody>\n",
       "</table>\n",
       "<p>5 rows × 48 columns</p>\n",
       "</div>"
      ],
      "text/plain": [
       "   TotalVisits  Total Time Spent on Website  Page Views Per Visit  \\\n",
       "0         0.00                            0                  0.00   \n",
       "1         5.00                          674                  2.50   \n",
       "2         2.00                         1532                  2.00   \n",
       "3         1.00                          305                  1.00   \n",
       "4         2.00                         1428                  1.00   \n",
       "\n",
       "   Lead Origin_landing page submission  Lead Origin_lead add form  \\\n",
       "0                                    0                          0   \n",
       "1                                    0                          0   \n",
       "2                                    1                          0   \n",
       "3                                    1                          0   \n",
       "4                                    1                          0   \n",
       "\n",
       "   Lead Origin_lead import  Lead Source_google  Lead Source_live chat  \\\n",
       "0                        0                   0                      0   \n",
       "1                        0                   0                      0   \n",
       "2                        0                   0                      0   \n",
       "3                        0                   0                      0   \n",
       "4                        0                   1                      0   \n",
       "\n",
       "   Lead Source_olark chat  Lead Source_organic search  ...  \\\n",
       "0                       1                           0  ...   \n",
       "1                       0                           1  ...   \n",
       "2                       0                           0  ...   \n",
       "3                       0                           0  ...   \n",
       "4                       0                           0  ...   \n",
       "\n",
       "   What is your current occupation_other  \\\n",
       "0                                      0   \n",
       "1                                      0   \n",
       "2                                      0   \n",
       "3                                      0   \n",
       "4                                      0   \n",
       "\n",
       "   What is your current occupation_student  \\\n",
       "0                                        0   \n",
       "1                                        0   \n",
       "2                                        1   \n",
       "3                                        0   \n",
       "4                                        0   \n",
       "\n",
       "   What is your current occupation_unemployed  \\\n",
       "0                                           1   \n",
       "1                                           1   \n",
       "2                                           0   \n",
       "3                                           1   \n",
       "4                                           1   \n",
       "\n",
       "   What is your current occupation_working professional  Search_yes  \\\n",
       "0                                                  0              0   \n",
       "1                                                  0              0   \n",
       "2                                                  0              0   \n",
       "3                                                  0              0   \n",
       "4                                                  0              0   \n",
       "\n",
       "   Newspaper Article_yes  Newspaper_yes  Digital Advertisement_yes  \\\n",
       "0                      0              0                          0   \n",
       "1                      0              0                          0   \n",
       "2                      0              0                          0   \n",
       "3                      0              0                          0   \n",
       "4                      0              0                          0   \n",
       "\n",
       "   Through Recommendations_yes  A free copy of Mastering The Interview_yes  \n",
       "0                            0                                           0  \n",
       "1                            0                                           0  \n",
       "2                            0                                           1  \n",
       "3                            0                                           0  \n",
       "4                            0                                           0  \n",
       "\n",
       "[5 rows x 48 columns]"
      ]
     },
     "execution_count": 1251,
     "metadata": {},
     "output_type": "execute_result"
    }
   ],
   "source": [
    "Y = df_concat['Converted'] #Keeping target variable in Y\n",
    "X = df_concat.drop(['Converted'],axis= 1) # Keeping all other independent feature in X\n",
    "X.head()"
   ]
  },
  {
   "cell_type": "code",
   "execution_count": 1252,
   "metadata": {},
   "outputs": [
    {
     "data": {
      "text/plain": [
       "0    0\n",
       "1    0\n",
       "2    1\n",
       "3    0\n",
       "4    1\n",
       "Name: Converted, dtype: int64"
      ]
     },
     "execution_count": 1252,
     "metadata": {},
     "output_type": "execute_result"
    }
   ],
   "source": [
    "Y.head()"
   ]
  },
  {
   "cell_type": "markdown",
   "metadata": {},
   "source": [
    "## Train-Test Split & Logistic Regression Model Building:"
   ]
  },
  {
   "cell_type": "code",
   "execution_count": 1253,
   "metadata": {},
   "outputs": [],
   "source": [
    "#Splittng the test train data\n",
    "X_train, X_test, y_train, y_test = train_test_split(X, Y, train_size=0.7, test_size=0.3, random_state=100)"
   ]
  },
  {
   "cell_type": "code",
   "execution_count": 1254,
   "metadata": {
    "scrolled": false
   },
   "outputs": [
    {
     "name": "stdout",
     "output_type": "stream",
     "text": [
      "<class 'pandas.core.frame.DataFrame'>\n",
      "Int64Index: 6267 entries, 9196 to 5825\n",
      "Data columns (total 48 columns):\n",
      " #   Column                                                Non-Null Count  Dtype  \n",
      "---  ------                                                --------------  -----  \n",
      " 0   TotalVisits                                           6267 non-null   float64\n",
      " 1   Total Time Spent on Website                           6267 non-null   int64  \n",
      " 2   Page Views Per Visit                                  6267 non-null   float64\n",
      " 3   Lead Origin_landing page submission                   6267 non-null   uint8  \n",
      " 4   Lead Origin_lead add form                             6267 non-null   uint8  \n",
      " 5   Lead Origin_lead import                               6267 non-null   uint8  \n",
      " 6   Lead Source_google                                    6267 non-null   uint8  \n",
      " 7   Lead Source_live chat                                 6267 non-null   uint8  \n",
      " 8   Lead Source_olark chat                                6267 non-null   uint8  \n",
      " 9   Lead Source_organic search                            6267 non-null   uint8  \n",
      " 10  Lead Source_others                                    6267 non-null   uint8  \n",
      " 11  Lead Source_reference                                 6267 non-null   uint8  \n",
      " 12  Lead Source_referral sites                            6267 non-null   uint8  \n",
      " 13  Lead Source_social media                              6267 non-null   uint8  \n",
      " 14  Lead Source_welingak website                          6267 non-null   uint8  \n",
      " 15  Do Not Email_yes                                      6267 non-null   uint8  \n",
      " 16  Do Not Call_yes                                       6267 non-null   uint8  \n",
      " 17  Last Activity_email bounced                           6267 non-null   uint8  \n",
      " 18  Last Activity_email link clicked                      6267 non-null   uint8  \n",
      " 19  Last Activity_email opened                            6267 non-null   uint8  \n",
      " 20  Last Activity_form submitted on website               6267 non-null   uint8  \n",
      " 21  Last Activity_olark chat conversation                 6267 non-null   uint8  \n",
      " 22  Last Activity_others                                  6267 non-null   uint8  \n",
      " 23  Last Activity_page visited on website                 6267 non-null   uint8  \n",
      " 24  Last Activity_sms sent                                6267 non-null   uint8  \n",
      " 25  Country_india                                         6267 non-null   uint8  \n",
      " 26  Specialization_Not Specified                          6267 non-null   uint8  \n",
      " 27  Specialization_banking, investment and insurance      6267 non-null   uint8  \n",
      " 28  Specialization_business administration                6267 non-null   uint8  \n",
      " 29  Specialization_e-business                             6267 non-null   uint8  \n",
      " 30  Specialization_e-commerce                             6267 non-null   uint8  \n",
      " 31  Specialization_finance management                     6267 non-null   uint8  \n",
      " 32  Specialization_international business                 6267 non-null   uint8  \n",
      " 33  Specialization_media and advertising                  6267 non-null   uint8  \n",
      " 34  Specialization_rural and agribusiness                 6267 non-null   uint8  \n",
      " 35  Specialization_services excellence                    6267 non-null   uint8  \n",
      " 36  Specialization_travel and tourism                     6267 non-null   uint8  \n",
      " 37  What is your current occupation_housewife             6267 non-null   uint8  \n",
      " 38  What is your current occupation_other                 6267 non-null   uint8  \n",
      " 39  What is your current occupation_student               6267 non-null   uint8  \n",
      " 40  What is your current occupation_unemployed            6267 non-null   uint8  \n",
      " 41  What is your current occupation_working professional  6267 non-null   uint8  \n",
      " 42  Search_yes                                            6267 non-null   uint8  \n",
      " 43  Newspaper Article_yes                                 6267 non-null   uint8  \n",
      " 44  Newspaper_yes                                         6267 non-null   uint8  \n",
      " 45  Digital Advertisement_yes                             6267 non-null   uint8  \n",
      " 46  Through Recommendations_yes                           6267 non-null   uint8  \n",
      " 47  A free copy of Mastering The Interview_yes            6267 non-null   uint8  \n",
      "dtypes: float64(2), int64(1), uint8(45)\n",
      "memory usage: 471.2 KB\n"
     ]
    }
   ],
   "source": [
    "X_train.info()"
   ]
  },
  {
   "cell_type": "markdown",
   "metadata": {},
   "source": [
    "### Scaling the data"
   ]
  },
  {
   "cell_type": "markdown",
   "metadata": {},
   "source": [
    "As we are having only 3 numerical column we will scale these 3 columns"
   ]
  },
  {
   "cell_type": "code",
   "execution_count": 1255,
   "metadata": {},
   "outputs": [
    {
     "data": {
      "text/html": [
       "<div>\n",
       "<style scoped>\n",
       "    .dataframe tbody tr th:only-of-type {\n",
       "        vertical-align: middle;\n",
       "    }\n",
       "\n",
       "    .dataframe tbody tr th {\n",
       "        vertical-align: top;\n",
       "    }\n",
       "\n",
       "    .dataframe thead th {\n",
       "        text-align: right;\n",
       "    }\n",
       "</style>\n",
       "<table border=\"1\" class=\"dataframe\">\n",
       "  <thead>\n",
       "    <tr style=\"text-align: right;\">\n",
       "      <th></th>\n",
       "      <th>TotalVisits</th>\n",
       "      <th>Total Time Spent on Website</th>\n",
       "      <th>Page Views Per Visit</th>\n",
       "      <th>Lead Origin_landing page submission</th>\n",
       "      <th>Lead Origin_lead add form</th>\n",
       "      <th>Lead Origin_lead import</th>\n",
       "      <th>Lead Source_google</th>\n",
       "      <th>Lead Source_live chat</th>\n",
       "      <th>Lead Source_olark chat</th>\n",
       "      <th>Lead Source_organic search</th>\n",
       "      <th>...</th>\n",
       "      <th>What is your current occupation_other</th>\n",
       "      <th>What is your current occupation_student</th>\n",
       "      <th>What is your current occupation_unemployed</th>\n",
       "      <th>What is your current occupation_working professional</th>\n",
       "      <th>Search_yes</th>\n",
       "      <th>Newspaper Article_yes</th>\n",
       "      <th>Newspaper_yes</th>\n",
       "      <th>Digital Advertisement_yes</th>\n",
       "      <th>Through Recommendations_yes</th>\n",
       "      <th>A free copy of Mastering The Interview_yes</th>\n",
       "    </tr>\n",
       "  </thead>\n",
       "  <tbody>\n",
       "    <tr>\n",
       "      <th>9196</th>\n",
       "      <td>0.29</td>\n",
       "      <td>0.66</td>\n",
       "      <td>0.56</td>\n",
       "      <td>1</td>\n",
       "      <td>0</td>\n",
       "      <td>0</td>\n",
       "      <td>1</td>\n",
       "      <td>0</td>\n",
       "      <td>0</td>\n",
       "      <td>0</td>\n",
       "      <td>...</td>\n",
       "      <td>0</td>\n",
       "      <td>0</td>\n",
       "      <td>1</td>\n",
       "      <td>0</td>\n",
       "      <td>0</td>\n",
       "      <td>0</td>\n",
       "      <td>0</td>\n",
       "      <td>0</td>\n",
       "      <td>0</td>\n",
       "      <td>0</td>\n",
       "    </tr>\n",
       "    <tr>\n",
       "      <th>4696</th>\n",
       "      <td>0.18</td>\n",
       "      <td>0.20</td>\n",
       "      <td>0.33</td>\n",
       "      <td>1</td>\n",
       "      <td>0</td>\n",
       "      <td>0</td>\n",
       "      <td>0</td>\n",
       "      <td>0</td>\n",
       "      <td>0</td>\n",
       "      <td>0</td>\n",
       "      <td>...</td>\n",
       "      <td>0</td>\n",
       "      <td>0</td>\n",
       "      <td>1</td>\n",
       "      <td>0</td>\n",
       "      <td>0</td>\n",
       "      <td>0</td>\n",
       "      <td>0</td>\n",
       "      <td>0</td>\n",
       "      <td>0</td>\n",
       "      <td>0</td>\n",
       "    </tr>\n",
       "    <tr>\n",
       "      <th>3274</th>\n",
       "      <td>0.24</td>\n",
       "      <td>0.06</td>\n",
       "      <td>0.22</td>\n",
       "      <td>1</td>\n",
       "      <td>0</td>\n",
       "      <td>0</td>\n",
       "      <td>1</td>\n",
       "      <td>0</td>\n",
       "      <td>0</td>\n",
       "      <td>0</td>\n",
       "      <td>...</td>\n",
       "      <td>0</td>\n",
       "      <td>0</td>\n",
       "      <td>1</td>\n",
       "      <td>0</td>\n",
       "      <td>0</td>\n",
       "      <td>0</td>\n",
       "      <td>0</td>\n",
       "      <td>0</td>\n",
       "      <td>0</td>\n",
       "      <td>0</td>\n",
       "    </tr>\n",
       "    <tr>\n",
       "      <th>2164</th>\n",
       "      <td>0.12</td>\n",
       "      <td>0.17</td>\n",
       "      <td>0.22</td>\n",
       "      <td>0</td>\n",
       "      <td>0</td>\n",
       "      <td>0</td>\n",
       "      <td>1</td>\n",
       "      <td>0</td>\n",
       "      <td>0</td>\n",
       "      <td>0</td>\n",
       "      <td>...</td>\n",
       "      <td>0</td>\n",
       "      <td>0</td>\n",
       "      <td>1</td>\n",
       "      <td>0</td>\n",
       "      <td>0</td>\n",
       "      <td>0</td>\n",
       "      <td>0</td>\n",
       "      <td>0</td>\n",
       "      <td>0</td>\n",
       "      <td>0</td>\n",
       "    </tr>\n",
       "    <tr>\n",
       "      <th>1667</th>\n",
       "      <td>0.24</td>\n",
       "      <td>0.51</td>\n",
       "      <td>0.15</td>\n",
       "      <td>0</td>\n",
       "      <td>0</td>\n",
       "      <td>0</td>\n",
       "      <td>1</td>\n",
       "      <td>0</td>\n",
       "      <td>0</td>\n",
       "      <td>0</td>\n",
       "      <td>...</td>\n",
       "      <td>0</td>\n",
       "      <td>0</td>\n",
       "      <td>1</td>\n",
       "      <td>0</td>\n",
       "      <td>0</td>\n",
       "      <td>0</td>\n",
       "      <td>0</td>\n",
       "      <td>0</td>\n",
       "      <td>0</td>\n",
       "      <td>0</td>\n",
       "    </tr>\n",
       "  </tbody>\n",
       "</table>\n",
       "<p>5 rows × 48 columns</p>\n",
       "</div>"
      ],
      "text/plain": [
       "      TotalVisits  Total Time Spent on Website  Page Views Per Visit  \\\n",
       "9196         0.29                         0.66                  0.56   \n",
       "4696         0.18                         0.20                  0.33   \n",
       "3274         0.24                         0.06                  0.22   \n",
       "2164         0.12                         0.17                  0.22   \n",
       "1667         0.24                         0.51                  0.15   \n",
       "\n",
       "      Lead Origin_landing page submission  Lead Origin_lead add form  \\\n",
       "9196                                    1                          0   \n",
       "4696                                    1                          0   \n",
       "3274                                    1                          0   \n",
       "2164                                    0                          0   \n",
       "1667                                    0                          0   \n",
       "\n",
       "      Lead Origin_lead import  Lead Source_google  Lead Source_live chat  \\\n",
       "9196                        0                   1                      0   \n",
       "4696                        0                   0                      0   \n",
       "3274                        0                   1                      0   \n",
       "2164                        0                   1                      0   \n",
       "1667                        0                   1                      0   \n",
       "\n",
       "      Lead Source_olark chat  Lead Source_organic search  ...  \\\n",
       "9196                       0                           0  ...   \n",
       "4696                       0                           0  ...   \n",
       "3274                       0                           0  ...   \n",
       "2164                       0                           0  ...   \n",
       "1667                       0                           0  ...   \n",
       "\n",
       "      What is your current occupation_other  \\\n",
       "9196                                      0   \n",
       "4696                                      0   \n",
       "3274                                      0   \n",
       "2164                                      0   \n",
       "1667                                      0   \n",
       "\n",
       "      What is your current occupation_student  \\\n",
       "9196                                        0   \n",
       "4696                                        0   \n",
       "3274                                        0   \n",
       "2164                                        0   \n",
       "1667                                        0   \n",
       "\n",
       "      What is your current occupation_unemployed  \\\n",
       "9196                                           1   \n",
       "4696                                           1   \n",
       "3274                                           1   \n",
       "2164                                           1   \n",
       "1667                                           1   \n",
       "\n",
       "      What is your current occupation_working professional  Search_yes  \\\n",
       "9196                                                  0              0   \n",
       "4696                                                  0              0   \n",
       "3274                                                  0              0   \n",
       "2164                                                  0              0   \n",
       "1667                                                  0              0   \n",
       "\n",
       "      Newspaper Article_yes  Newspaper_yes  Digital Advertisement_yes  \\\n",
       "9196                      0              0                          0   \n",
       "4696                      0              0                          0   \n",
       "3274                      0              0                          0   \n",
       "2164                      0              0                          0   \n",
       "1667                      0              0                          0   \n",
       "\n",
       "      Through Recommendations_yes  A free copy of Mastering The Interview_yes  \n",
       "9196                            0                                           0  \n",
       "4696                            0                                           0  \n",
       "3274                            0                                           0  \n",
       "2164                            0                                           0  \n",
       "1667                            0                                           0  \n",
       "\n",
       "[5 rows x 48 columns]"
      ]
     },
     "execution_count": 1255,
     "metadata": {},
     "output_type": "execute_result"
    }
   ],
   "source": [
    "scaler = MinMaxScaler()\n",
    "X_train[['TotalVisits', 'Page Views Per Visit', 'Total Time Spent on Website']] = scaler.fit_transform(X_train[['TotalVisits','Page Views Per Visit','Total Time Spent on Website']])\n",
    "X_train.head()"
   ]
  },
  {
   "cell_type": "markdown",
   "metadata": {},
   "source": [
    "## Creating the Model "
   ]
  },
  {
   "cell_type": "markdown",
   "metadata": {},
   "source": [
    "As we have to create a model where in we have to do binary classification of a lead based on data, logistic regression is suitable for such model.\n",
    "For creating a model we will use a hybird approach wherein first we will find the 20 most significant variables through RFE and then we will use manual approach to remove variables one by one.   "
   ]
  },
  {
   "cell_type": "code",
   "execution_count": 1256,
   "metadata": {},
   "outputs": [
    {
     "data": {
      "text/plain": [
       "[('TotalVisits', True, 1),\n",
       " ('Total Time Spent on Website', True, 1),\n",
       " ('Page Views Per Visit', True, 1),\n",
       " ('Lead Origin_landing page submission', True, 1),\n",
       " ('Lead Origin_lead add form', True, 1),\n",
       " ('Lead Origin_lead import', False, 5),\n",
       " ('Lead Source_google', False, 22),\n",
       " ('Lead Source_live chat', False, 10),\n",
       " ('Lead Source_olark chat', True, 1),\n",
       " ('Lead Source_organic search', False, 19),\n",
       " ('Lead Source_others', False, 2),\n",
       " ('Lead Source_reference', False, 3),\n",
       " ('Lead Source_referral sites', False, 16),\n",
       " ('Lead Source_social media', False, 25),\n",
       " ('Lead Source_welingak website', True, 1),\n",
       " ('Do Not Email_yes', True, 1),\n",
       " ('Do Not Call_yes', False, 21),\n",
       " ('Last Activity_email bounced', False, 13),\n",
       " ('Last Activity_email link clicked', False, 11),\n",
       " ('Last Activity_email opened', True, 1),\n",
       " ('Last Activity_form submitted on website', False, 24),\n",
       " ('Last Activity_olark chat conversation', True, 1),\n",
       " ('Last Activity_others', True, 1),\n",
       " ('Last Activity_page visited on website', False, 14),\n",
       " ('Last Activity_sms sent', True, 1),\n",
       " ('Country_india', False, 18),\n",
       " ('Specialization_Not Specified', True, 1),\n",
       " ('Specialization_banking, investment and insurance', False, 9),\n",
       " ('Specialization_business administration', False, 17),\n",
       " ('Specialization_e-business', False, 27),\n",
       " ('Specialization_e-commerce', False, 23),\n",
       " ('Specialization_finance management', False, 28),\n",
       " ('Specialization_international business', False, 20),\n",
       " ('Specialization_media and advertising', False, 15),\n",
       " ('Specialization_rural and agribusiness', False, 6),\n",
       " ('Specialization_services excellence', False, 8),\n",
       " ('Specialization_travel and tourism', False, 12),\n",
       " ('What is your current occupation_housewife', True, 1),\n",
       " ('What is your current occupation_other', True, 1),\n",
       " ('What is your current occupation_student', True, 1),\n",
       " ('What is your current occupation_unemployed', True, 1),\n",
       " ('What is your current occupation_working professional', True, 1),\n",
       " ('Search_yes', False, 4),\n",
       " ('Newspaper Article_yes', False, 29),\n",
       " ('Newspaper_yes', True, 1),\n",
       " ('Digital Advertisement_yes', False, 26),\n",
       " ('Through Recommendations_yes', True, 1),\n",
       " ('A free copy of Mastering The Interview_yes', False, 7)]"
      ]
     },
     "execution_count": 1256,
     "metadata": {},
     "output_type": "execute_result"
    }
   ],
   "source": [
    "log_model = LogisticRegression()\n",
    "#Using RFE for getting 20 most significant variables\n",
    "rfe = RFE(log_model, 20)\n",
    "rfe = rfe.fit(X_train, y_train)\n",
    "\n",
    "# Feature ranking by RFE\n",
    "list(zip(X_train.columns, rfe.support_, rfe.ranking_))"
   ]
  },
  {
   "cell_type": "code",
   "execution_count": 1257,
   "metadata": {},
   "outputs": [],
   "source": [
    "columns = X_train.columns[rfe.support_]\n",
    "#Selecting only 20 significant cols for training the stats model\n",
    "X_train = X_train[columns]"
   ]
  },
  {
   "cell_type": "code",
   "execution_count": 1258,
   "metadata": {
    "scrolled": true
   },
   "outputs": [
    {
     "data": {
      "text/html": [
       "<table class=\"simpletable\">\n",
       "<caption>Generalized Linear Model Regression Results</caption>\n",
       "<tr>\n",
       "  <th>Dep. Variable:</th>       <td>Converted</td>    <th>  No. Observations:  </th>  <td>  6267</td> \n",
       "</tr>\n",
       "<tr>\n",
       "  <th>Model:</th>                  <td>GLM</td>       <th>  Df Residuals:      </th>  <td>  6246</td> \n",
       "</tr>\n",
       "<tr>\n",
       "  <th>Model Family:</th>        <td>Binomial</td>     <th>  Df Model:          </th>  <td>    20</td> \n",
       "</tr>\n",
       "<tr>\n",
       "  <th>Link Function:</th>         <td>logit</td>      <th>  Scale:             </th> <td>  1.0000</td>\n",
       "</tr>\n",
       "<tr>\n",
       "  <th>Method:</th>                <td>IRLS</td>       <th>  Log-Likelihood:    </th> <td> -2591.1</td>\n",
       "</tr>\n",
       "<tr>\n",
       "  <th>Date:</th>            <td>Mon, 07 Sep 2020</td> <th>  Deviance:          </th> <td>  5182.2</td>\n",
       "</tr>\n",
       "<tr>\n",
       "  <th>Time:</th>                <td>11:44:07</td>     <th>  Pearson chi2:      </th> <td>6.97e+03</td>\n",
       "</tr>\n",
       "<tr>\n",
       "  <th>No. Iterations:</th>         <td>21</td>        <th>                     </th>     <td> </td>   \n",
       "</tr>\n",
       "<tr>\n",
       "  <th>Covariance Type:</th>     <td>nonrobust</td>    <th>                     </th>     <td> </td>   \n",
       "</tr>\n",
       "</table>\n",
       "<table class=\"simpletable\">\n",
       "<tr>\n",
       "                            <td></td>                              <th>coef</th>     <th>std err</th>      <th>z</th>      <th>P>|z|</th>  <th>[0.025</th>    <th>0.975]</th>  \n",
       "</tr>\n",
       "<tr>\n",
       "  <th>const</th>                                                <td>   -0.7194</td> <td>    1.247</td> <td>   -0.577</td> <td> 0.564</td> <td>   -3.164</td> <td>    1.725</td>\n",
       "</tr>\n",
       "<tr>\n",
       "  <th>TotalVisits</th>                                          <td>    1.5304</td> <td>    0.293</td> <td>    5.225</td> <td> 0.000</td> <td>    0.956</td> <td>    2.104</td>\n",
       "</tr>\n",
       "<tr>\n",
       "  <th>Total Time Spent on Website</th>                          <td>    4.3839</td> <td>    0.166</td> <td>   26.441</td> <td> 0.000</td> <td>    4.059</td> <td>    4.709</td>\n",
       "</tr>\n",
       "<tr>\n",
       "  <th>Page Views Per Visit</th>                                 <td>   -1.0314</td> <td>    0.265</td> <td>   -3.895</td> <td> 0.000</td> <td>   -1.550</td> <td>   -0.512</td>\n",
       "</tr>\n",
       "<tr>\n",
       "  <th>Lead Origin_landing page submission</th>                  <td>   -1.1036</td> <td>    0.129</td> <td>   -8.576</td> <td> 0.000</td> <td>   -1.356</td> <td>   -0.851</td>\n",
       "</tr>\n",
       "<tr>\n",
       "  <th>Lead Origin_lead add form</th>                            <td>    3.6190</td> <td>    0.264</td> <td>   13.700</td> <td> 0.000</td> <td>    3.101</td> <td>    4.137</td>\n",
       "</tr>\n",
       "<tr>\n",
       "  <th>Lead Source_olark chat</th>                               <td>    1.0545</td> <td>    0.136</td> <td>    7.741</td> <td> 0.000</td> <td>    0.787</td> <td>    1.321</td>\n",
       "</tr>\n",
       "<tr>\n",
       "  <th>Lead Source_welingak website</th>                         <td>    2.8505</td> <td>    1.044</td> <td>    2.731</td> <td> 0.006</td> <td>    0.805</td> <td>    4.896</td>\n",
       "</tr>\n",
       "<tr>\n",
       "  <th>Do Not Email_yes</th>                                     <td>   -1.2866</td> <td>    0.180</td> <td>   -7.163</td> <td> 0.000</td> <td>   -1.639</td> <td>   -0.935</td>\n",
       "</tr>\n",
       "<tr>\n",
       "  <th>Last Activity_email opened</th>                           <td>    0.7418</td> <td>    0.111</td> <td>    6.683</td> <td> 0.000</td> <td>    0.524</td> <td>    0.959</td>\n",
       "</tr>\n",
       "<tr>\n",
       "  <th>Last Activity_olark chat conversation</th>                <td>   -1.0018</td> <td>    0.196</td> <td>   -5.122</td> <td> 0.000</td> <td>   -1.385</td> <td>   -0.618</td>\n",
       "</tr>\n",
       "<tr>\n",
       "  <th>Last Activity_others</th>                                 <td>    1.4945</td> <td>    0.243</td> <td>    6.139</td> <td> 0.000</td> <td>    1.017</td> <td>    1.972</td>\n",
       "</tr>\n",
       "<tr>\n",
       "  <th>Last Activity_sms sent</th>                               <td>    1.9953</td> <td>    0.114</td> <td>   17.509</td> <td> 0.000</td> <td>    1.772</td> <td>    2.219</td>\n",
       "</tr>\n",
       "<tr>\n",
       "  <th>Specialization_Not Specified</th>                         <td>   -1.1199</td> <td>    0.125</td> <td>   -8.948</td> <td> 0.000</td> <td>   -1.365</td> <td>   -0.875</td>\n",
       "</tr>\n",
       "<tr>\n",
       "  <th>What is your current occupation_housewife</th>            <td>   21.9088</td> <td> 1.69e+04</td> <td>    0.001</td> <td> 0.999</td> <td>-3.31e+04</td> <td> 3.31e+04</td>\n",
       "</tr>\n",
       "<tr>\n",
       "  <th>What is your current occupation_other</th>                <td>   -1.2920</td> <td>    1.444</td> <td>   -0.895</td> <td> 0.371</td> <td>   -4.121</td> <td>    1.537</td>\n",
       "</tr>\n",
       "<tr>\n",
       "  <th>What is your current occupation_student</th>              <td>   -0.8923</td> <td>    1.263</td> <td>   -0.707</td> <td> 0.480</td> <td>   -3.367</td> <td>    1.582</td>\n",
       "</tr>\n",
       "<tr>\n",
       "  <th>What is your current occupation_unemployed</th>           <td>   -1.2392</td> <td>    1.240</td> <td>   -0.999</td> <td> 0.318</td> <td>   -3.670</td> <td>    1.192</td>\n",
       "</tr>\n",
       "<tr>\n",
       "  <th>What is your current occupation_working professional</th> <td>    1.4177</td> <td>    1.255</td> <td>    1.130</td> <td> 0.259</td> <td>   -1.042</td> <td>    3.878</td>\n",
       "</tr>\n",
       "<tr>\n",
       "  <th>Newspaper_yes</th>                                        <td>  -24.2606</td> <td> 4.82e+04</td> <td>   -0.001</td> <td> 1.000</td> <td>-9.45e+04</td> <td> 9.44e+04</td>\n",
       "</tr>\n",
       "<tr>\n",
       "  <th>Through Recommendations_yes</th>                          <td>   21.3515</td> <td>  2.1e+04</td> <td>    0.001</td> <td> 0.999</td> <td>-4.11e+04</td> <td> 4.11e+04</td>\n",
       "</tr>\n",
       "</table>"
      ],
      "text/plain": [
       "<class 'statsmodels.iolib.summary.Summary'>\n",
       "\"\"\"\n",
       "                 Generalized Linear Model Regression Results                  \n",
       "==============================================================================\n",
       "Dep. Variable:              Converted   No. Observations:                 6267\n",
       "Model:                            GLM   Df Residuals:                     6246\n",
       "Model Family:                Binomial   Df Model:                           20\n",
       "Link Function:                  logit   Scale:                          1.0000\n",
       "Method:                          IRLS   Log-Likelihood:                -2591.1\n",
       "Date:                Mon, 07 Sep 2020   Deviance:                       5182.2\n",
       "Time:                        11:44:07   Pearson chi2:                 6.97e+03\n",
       "No. Iterations:                    21                                         \n",
       "Covariance Type:            nonrobust                                         \n",
       "========================================================================================================================\n",
       "                                                           coef    std err          z      P>|z|      [0.025      0.975]\n",
       "------------------------------------------------------------------------------------------------------------------------\n",
       "const                                                   -0.7194      1.247     -0.577      0.564      -3.164       1.725\n",
       "TotalVisits                                              1.5304      0.293      5.225      0.000       0.956       2.104\n",
       "Total Time Spent on Website                              4.3839      0.166     26.441      0.000       4.059       4.709\n",
       "Page Views Per Visit                                    -1.0314      0.265     -3.895      0.000      -1.550      -0.512\n",
       "Lead Origin_landing page submission                     -1.1036      0.129     -8.576      0.000      -1.356      -0.851\n",
       "Lead Origin_lead add form                                3.6190      0.264     13.700      0.000       3.101       4.137\n",
       "Lead Source_olark chat                                   1.0545      0.136      7.741      0.000       0.787       1.321\n",
       "Lead Source_welingak website                             2.8505      1.044      2.731      0.006       0.805       4.896\n",
       "Do Not Email_yes                                        -1.2866      0.180     -7.163      0.000      -1.639      -0.935\n",
       "Last Activity_email opened                               0.7418      0.111      6.683      0.000       0.524       0.959\n",
       "Last Activity_olark chat conversation                   -1.0018      0.196     -5.122      0.000      -1.385      -0.618\n",
       "Last Activity_others                                     1.4945      0.243      6.139      0.000       1.017       1.972\n",
       "Last Activity_sms sent                                   1.9953      0.114     17.509      0.000       1.772       2.219\n",
       "Specialization_Not Specified                            -1.1199      0.125     -8.948      0.000      -1.365      -0.875\n",
       "What is your current occupation_housewife               21.9088   1.69e+04      0.001      0.999   -3.31e+04    3.31e+04\n",
       "What is your current occupation_other                   -1.2920      1.444     -0.895      0.371      -4.121       1.537\n",
       "What is your current occupation_student                 -0.8923      1.263     -0.707      0.480      -3.367       1.582\n",
       "What is your current occupation_unemployed              -1.2392      1.240     -0.999      0.318      -3.670       1.192\n",
       "What is your current occupation_working professional     1.4177      1.255      1.130      0.259      -1.042       3.878\n",
       "Newspaper_yes                                          -24.2606   4.82e+04     -0.001      1.000   -9.45e+04    9.44e+04\n",
       "Through Recommendations_yes                             21.3515    2.1e+04      0.001      0.999   -4.11e+04    4.11e+04\n",
       "========================================================================================================================\n",
       "\"\"\""
      ]
     },
     "execution_count": 1258,
     "metadata": {},
     "output_type": "execute_result"
    }
   ],
   "source": [
    "X_train_sm = sm.add_constant(X_train)\n",
    "log_model = sm.GLM(y_train, X_train_sm, family = sm.families.Binomial())\n",
    "result = log_model.fit()\n",
    "result.summary()"
   ]
  },
  {
   "cell_type": "code",
   "execution_count": 1259,
   "metadata": {
    "scrolled": true
   },
   "outputs": [
    {
     "data": {
      "text/html": [
       "<table class=\"simpletable\">\n",
       "<caption>Generalized Linear Model Regression Results</caption>\n",
       "<tr>\n",
       "  <th>Dep. Variable:</th>       <td>Converted</td>    <th>  No. Observations:  </th>  <td>  6267</td> \n",
       "</tr>\n",
       "<tr>\n",
       "  <th>Model:</th>                  <td>GLM</td>       <th>  Df Residuals:      </th>  <td>  6247</td> \n",
       "</tr>\n",
       "<tr>\n",
       "  <th>Model Family:</th>        <td>Binomial</td>     <th>  Df Model:          </th>  <td>    19</td> \n",
       "</tr>\n",
       "<tr>\n",
       "  <th>Link Function:</th>         <td>logit</td>      <th>  Scale:             </th> <td>  1.0000</td>\n",
       "</tr>\n",
       "<tr>\n",
       "  <th>Method:</th>                <td>IRLS</td>       <th>  Log-Likelihood:    </th> <td> -2592.6</td>\n",
       "</tr>\n",
       "<tr>\n",
       "  <th>Date:</th>            <td>Mon, 07 Sep 2020</td> <th>  Deviance:          </th> <td>  5185.2</td>\n",
       "</tr>\n",
       "<tr>\n",
       "  <th>Time:</th>                <td>11:44:07</td>     <th>  Pearson chi2:      </th> <td>6.97e+03</td>\n",
       "</tr>\n",
       "<tr>\n",
       "  <th>No. Iterations:</th>         <td>20</td>        <th>                     </th>     <td> </td>   \n",
       "</tr>\n",
       "<tr>\n",
       "  <th>Covariance Type:</th>     <td>nonrobust</td>    <th>                     </th>     <td> </td>   \n",
       "</tr>\n",
       "</table>\n",
       "<table class=\"simpletable\">\n",
       "<tr>\n",
       "                            <td></td>                              <th>coef</th>     <th>std err</th>      <th>z</th>      <th>P>|z|</th>  <th>[0.025</th>    <th>0.975]</th>  \n",
       "</tr>\n",
       "<tr>\n",
       "  <th>const</th>                                                <td>    0.4437</td> <td>    0.937</td> <td>    0.473</td> <td> 0.636</td> <td>   -1.393</td> <td>    2.280</td>\n",
       "</tr>\n",
       "<tr>\n",
       "  <th>TotalVisits</th>                                          <td>    1.5298</td> <td>    0.293</td> <td>    5.224</td> <td> 0.000</td> <td>    0.956</td> <td>    2.104</td>\n",
       "</tr>\n",
       "<tr>\n",
       "  <th>Total Time Spent on Website</th>                          <td>    4.3831</td> <td>    0.166</td> <td>   26.444</td> <td> 0.000</td> <td>    4.058</td> <td>    4.708</td>\n",
       "</tr>\n",
       "<tr>\n",
       "  <th>Page Views Per Visit</th>                                 <td>   -1.0403</td> <td>    0.265</td> <td>   -3.929</td> <td> 0.000</td> <td>   -1.559</td> <td>   -0.521</td>\n",
       "</tr>\n",
       "<tr>\n",
       "  <th>Lead Origin_landing page submission</th>                  <td>   -1.0989</td> <td>    0.129</td> <td>   -8.548</td> <td> 0.000</td> <td>   -1.351</td> <td>   -0.847</td>\n",
       "</tr>\n",
       "<tr>\n",
       "  <th>Lead Origin_lead add form</th>                            <td>    3.6177</td> <td>    0.264</td> <td>   13.697</td> <td> 0.000</td> <td>    3.100</td> <td>    4.135</td>\n",
       "</tr>\n",
       "<tr>\n",
       "  <th>Lead Source_olark chat</th>                               <td>    1.0519</td> <td>    0.136</td> <td>    7.724</td> <td> 0.000</td> <td>    0.785</td> <td>    1.319</td>\n",
       "</tr>\n",
       "<tr>\n",
       "  <th>Lead Source_welingak website</th>                         <td>    2.8502</td> <td>    1.044</td> <td>    2.731</td> <td> 0.006</td> <td>    0.805</td> <td>    4.896</td>\n",
       "</tr>\n",
       "<tr>\n",
       "  <th>Do Not Email_yes</th>                                     <td>   -1.2871</td> <td>    0.180</td> <td>   -7.167</td> <td> 0.000</td> <td>   -1.639</td> <td>   -0.935</td>\n",
       "</tr>\n",
       "<tr>\n",
       "  <th>Last Activity_email opened</th>                           <td>    0.7419</td> <td>    0.111</td> <td>    6.692</td> <td> 0.000</td> <td>    0.525</td> <td>    0.959</td>\n",
       "</tr>\n",
       "<tr>\n",
       "  <th>Last Activity_olark chat conversation</th>                <td>   -1.0088</td> <td>    0.196</td> <td>   -5.153</td> <td> 0.000</td> <td>   -1.392</td> <td>   -0.625</td>\n",
       "</tr>\n",
       "<tr>\n",
       "  <th>Last Activity_others</th>                                 <td>    1.4941</td> <td>    0.243</td> <td>    6.139</td> <td> 0.000</td> <td>    1.017</td> <td>    1.971</td>\n",
       "</tr>\n",
       "<tr>\n",
       "  <th>Last Activity_sms sent</th>                               <td>    1.9947</td> <td>    0.114</td> <td>   17.518</td> <td> 0.000</td> <td>    1.772</td> <td>    2.218</td>\n",
       "</tr>\n",
       "<tr>\n",
       "  <th>Specialization_Not Specified</th>                         <td>   -1.1177</td> <td>    0.125</td> <td>   -8.941</td> <td> 0.000</td> <td>   -1.363</td> <td>   -0.873</td>\n",
       "</tr>\n",
       "<tr>\n",
       "  <th>What is your current occupation_other</th>                <td>   -2.4530</td> <td>    1.187</td> <td>   -2.067</td> <td> 0.039</td> <td>   -4.779</td> <td>   -0.127</td>\n",
       "</tr>\n",
       "<tr>\n",
       "  <th>What is your current occupation_student</th>              <td>   -2.0551</td> <td>    0.957</td> <td>   -2.148</td> <td> 0.032</td> <td>   -3.930</td> <td>   -0.180</td>\n",
       "</tr>\n",
       "<tr>\n",
       "  <th>What is your current occupation_unemployed</th>           <td>   -2.4020</td> <td>    0.927</td> <td>   -2.591</td> <td> 0.010</td> <td>   -4.219</td> <td>   -0.585</td>\n",
       "</tr>\n",
       "<tr>\n",
       "  <th>What is your current occupation_working professional</th> <td>    0.2543</td> <td>    0.947</td> <td>    0.269</td> <td> 0.788</td> <td>   -1.601</td> <td>    2.110</td>\n",
       "</tr>\n",
       "<tr>\n",
       "  <th>Newspaper_yes</th>                                        <td>  -23.2615</td> <td> 2.92e+04</td> <td>   -0.001</td> <td> 0.999</td> <td>-5.73e+04</td> <td> 5.73e+04</td>\n",
       "</tr>\n",
       "<tr>\n",
       "  <th>Through Recommendations_yes</th>                          <td>   20.3527</td> <td> 1.27e+04</td> <td>    0.002</td> <td> 0.999</td> <td>-2.49e+04</td> <td> 2.49e+04</td>\n",
       "</tr>\n",
       "</table>"
      ],
      "text/plain": [
       "<class 'statsmodels.iolib.summary.Summary'>\n",
       "\"\"\"\n",
       "                 Generalized Linear Model Regression Results                  \n",
       "==============================================================================\n",
       "Dep. Variable:              Converted   No. Observations:                 6267\n",
       "Model:                            GLM   Df Residuals:                     6247\n",
       "Model Family:                Binomial   Df Model:                           19\n",
       "Link Function:                  logit   Scale:                          1.0000\n",
       "Method:                          IRLS   Log-Likelihood:                -2592.6\n",
       "Date:                Mon, 07 Sep 2020   Deviance:                       5185.2\n",
       "Time:                        11:44:07   Pearson chi2:                 6.97e+03\n",
       "No. Iterations:                    20                                         \n",
       "Covariance Type:            nonrobust                                         \n",
       "========================================================================================================================\n",
       "                                                           coef    std err          z      P>|z|      [0.025      0.975]\n",
       "------------------------------------------------------------------------------------------------------------------------\n",
       "const                                                    0.4437      0.937      0.473      0.636      -1.393       2.280\n",
       "TotalVisits                                              1.5298      0.293      5.224      0.000       0.956       2.104\n",
       "Total Time Spent on Website                              4.3831      0.166     26.444      0.000       4.058       4.708\n",
       "Page Views Per Visit                                    -1.0403      0.265     -3.929      0.000      -1.559      -0.521\n",
       "Lead Origin_landing page submission                     -1.0989      0.129     -8.548      0.000      -1.351      -0.847\n",
       "Lead Origin_lead add form                                3.6177      0.264     13.697      0.000       3.100       4.135\n",
       "Lead Source_olark chat                                   1.0519      0.136      7.724      0.000       0.785       1.319\n",
       "Lead Source_welingak website                             2.8502      1.044      2.731      0.006       0.805       4.896\n",
       "Do Not Email_yes                                        -1.2871      0.180     -7.167      0.000      -1.639      -0.935\n",
       "Last Activity_email opened                               0.7419      0.111      6.692      0.000       0.525       0.959\n",
       "Last Activity_olark chat conversation                   -1.0088      0.196     -5.153      0.000      -1.392      -0.625\n",
       "Last Activity_others                                     1.4941      0.243      6.139      0.000       1.017       1.971\n",
       "Last Activity_sms sent                                   1.9947      0.114     17.518      0.000       1.772       2.218\n",
       "Specialization_Not Specified                            -1.1177      0.125     -8.941      0.000      -1.363      -0.873\n",
       "What is your current occupation_other                   -2.4530      1.187     -2.067      0.039      -4.779      -0.127\n",
       "What is your current occupation_student                 -2.0551      0.957     -2.148      0.032      -3.930      -0.180\n",
       "What is your current occupation_unemployed              -2.4020      0.927     -2.591      0.010      -4.219      -0.585\n",
       "What is your current occupation_working professional     0.2543      0.947      0.269      0.788      -1.601       2.110\n",
       "Newspaper_yes                                          -23.2615   2.92e+04     -0.001      0.999   -5.73e+04    5.73e+04\n",
       "Through Recommendations_yes                             20.3527   1.27e+04      0.002      0.999   -2.49e+04    2.49e+04\n",
       "========================================================================================================================\n",
       "\"\"\""
      ]
     },
     "execution_count": 1259,
     "metadata": {},
     "output_type": "execute_result"
    }
   ],
   "source": [
    "# Repeating the procedure for other columns based on higher probability value i.e. > 0.05 \n",
    "X_train.drop('What is your current occupation_housewife', axis = 1, inplace = True)\n",
    "X_train_sm = sm.add_constant(X_train)\n",
    "log_model = sm.GLM(y_train, X_train_sm, family = sm.families.Binomial())\n",
    "result = log_model.fit()\n",
    "result.summary()"
   ]
  },
  {
   "cell_type": "code",
   "execution_count": 1260,
   "metadata": {
    "scrolled": true
   },
   "outputs": [
    {
     "data": {
      "text/html": [
       "<table class=\"simpletable\">\n",
       "<caption>Generalized Linear Model Regression Results</caption>\n",
       "<tr>\n",
       "  <th>Dep. Variable:</th>       <td>Converted</td>    <th>  No. Observations:  </th>  <td>  6267</td> \n",
       "</tr>\n",
       "<tr>\n",
       "  <th>Model:</th>                  <td>GLM</td>       <th>  Df Residuals:      </th>  <td>  6248</td> \n",
       "</tr>\n",
       "<tr>\n",
       "  <th>Model Family:</th>        <td>Binomial</td>     <th>  Df Model:          </th>  <td>    18</td> \n",
       "</tr>\n",
       "<tr>\n",
       "  <th>Link Function:</th>         <td>logit</td>      <th>  Scale:             </th> <td>  1.0000</td>\n",
       "</tr>\n",
       "<tr>\n",
       "  <th>Method:</th>                <td>IRLS</td>       <th>  Log-Likelihood:    </th> <td> -2594.4</td>\n",
       "</tr>\n",
       "<tr>\n",
       "  <th>Date:</th>            <td>Mon, 07 Sep 2020</td> <th>  Deviance:          </th> <td>  5188.9</td>\n",
       "</tr>\n",
       "<tr>\n",
       "  <th>Time:</th>                <td>11:44:08</td>     <th>  Pearson chi2:      </th> <td>6.97e+03</td>\n",
       "</tr>\n",
       "<tr>\n",
       "  <th>No. Iterations:</th>         <td>20</td>        <th>                     </th>     <td> </td>   \n",
       "</tr>\n",
       "<tr>\n",
       "  <th>Covariance Type:</th>     <td>nonrobust</td>    <th>                     </th>     <td> </td>   \n",
       "</tr>\n",
       "</table>\n",
       "<table class=\"simpletable\">\n",
       "<tr>\n",
       "                            <td></td>                              <th>coef</th>     <th>std err</th>      <th>z</th>      <th>P>|z|</th>  <th>[0.025</th>    <th>0.975]</th>  \n",
       "</tr>\n",
       "<tr>\n",
       "  <th>const</th>                                                <td>    0.4503</td> <td>    0.937</td> <td>    0.480</td> <td> 0.631</td> <td>   -1.387</td> <td>    2.287</td>\n",
       "</tr>\n",
       "<tr>\n",
       "  <th>TotalVisits</th>                                          <td>    1.5074</td> <td>    0.292</td> <td>    5.153</td> <td> 0.000</td> <td>    0.934</td> <td>    2.081</td>\n",
       "</tr>\n",
       "<tr>\n",
       "  <th>Total Time Spent on Website</th>                          <td>    4.3727</td> <td>    0.166</td> <td>   26.411</td> <td> 0.000</td> <td>    4.048</td> <td>    4.697</td>\n",
       "</tr>\n",
       "<tr>\n",
       "  <th>Page Views Per Visit</th>                                 <td>   -1.0295</td> <td>    0.265</td> <td>   -3.890</td> <td> 0.000</td> <td>   -1.548</td> <td>   -0.511</td>\n",
       "</tr>\n",
       "<tr>\n",
       "  <th>Lead Origin_landing page submission</th>                  <td>   -1.1009</td> <td>    0.128</td> <td>   -8.568</td> <td> 0.000</td> <td>   -1.353</td> <td>   -0.849</td>\n",
       "</tr>\n",
       "<tr>\n",
       "  <th>Lead Origin_lead add form</th>                            <td>    3.6126</td> <td>    0.264</td> <td>   13.680</td> <td> 0.000</td> <td>    3.095</td> <td>    4.130</td>\n",
       "</tr>\n",
       "<tr>\n",
       "  <th>Lead Source_olark chat</th>                               <td>    1.0473</td> <td>    0.136</td> <td>    7.695</td> <td> 0.000</td> <td>    0.781</td> <td>    1.314</td>\n",
       "</tr>\n",
       "<tr>\n",
       "  <th>Lead Source_welingak website</th>                         <td>    2.8502</td> <td>    1.044</td> <td>    2.731</td> <td> 0.006</td> <td>    0.805</td> <td>    4.896</td>\n",
       "</tr>\n",
       "<tr>\n",
       "  <th>Do Not Email_yes</th>                                     <td>   -1.2870</td> <td>    0.180</td> <td>   -7.169</td> <td> 0.000</td> <td>   -1.639</td> <td>   -0.935</td>\n",
       "</tr>\n",
       "<tr>\n",
       "  <th>Last Activity_email opened</th>                           <td>    0.7387</td> <td>    0.111</td> <td>    6.667</td> <td> 0.000</td> <td>    0.522</td> <td>    0.956</td>\n",
       "</tr>\n",
       "<tr>\n",
       "  <th>Last Activity_olark chat conversation</th>                <td>   -1.0095</td> <td>    0.196</td> <td>   -5.159</td> <td> 0.000</td> <td>   -1.393</td> <td>   -0.626</td>\n",
       "</tr>\n",
       "<tr>\n",
       "  <th>Last Activity_others</th>                                 <td>    1.4932</td> <td>    0.243</td> <td>    6.137</td> <td> 0.000</td> <td>    1.016</td> <td>    1.970</td>\n",
       "</tr>\n",
       "<tr>\n",
       "  <th>Last Activity_sms sent</th>                               <td>    1.9931</td> <td>    0.114</td> <td>   17.514</td> <td> 0.000</td> <td>    1.770</td> <td>    2.216</td>\n",
       "</tr>\n",
       "<tr>\n",
       "  <th>Specialization_Not Specified</th>                         <td>   -1.1181</td> <td>    0.125</td> <td>   -8.947</td> <td> 0.000</td> <td>   -1.363</td> <td>   -0.873</td>\n",
       "</tr>\n",
       "<tr>\n",
       "  <th>What is your current occupation_other</th>                <td>   -2.4483</td> <td>    1.187</td> <td>   -2.062</td> <td> 0.039</td> <td>   -4.775</td> <td>   -0.122</td>\n",
       "</tr>\n",
       "<tr>\n",
       "  <th>What is your current occupation_student</th>              <td>   -2.0530</td> <td>    0.957</td> <td>   -2.146</td> <td> 0.032</td> <td>   -3.928</td> <td>   -0.178</td>\n",
       "</tr>\n",
       "<tr>\n",
       "  <th>What is your current occupation_unemployed</th>           <td>   -2.4011</td> <td>    0.927</td> <td>   -2.589</td> <td> 0.010</td> <td>   -4.219</td> <td>   -0.584</td>\n",
       "</tr>\n",
       "<tr>\n",
       "  <th>What is your current occupation_working professional</th> <td>    0.2553</td> <td>    0.947</td> <td>    0.270</td> <td> 0.787</td> <td>   -1.600</td> <td>    2.111</td>\n",
       "</tr>\n",
       "<tr>\n",
       "  <th>Through Recommendations_yes</th>                          <td>   20.3569</td> <td> 1.27e+04</td> <td>    0.002</td> <td> 0.999</td> <td>-2.49e+04</td> <td> 2.49e+04</td>\n",
       "</tr>\n",
       "</table>"
      ],
      "text/plain": [
       "<class 'statsmodels.iolib.summary.Summary'>\n",
       "\"\"\"\n",
       "                 Generalized Linear Model Regression Results                  \n",
       "==============================================================================\n",
       "Dep. Variable:              Converted   No. Observations:                 6267\n",
       "Model:                            GLM   Df Residuals:                     6248\n",
       "Model Family:                Binomial   Df Model:                           18\n",
       "Link Function:                  logit   Scale:                          1.0000\n",
       "Method:                          IRLS   Log-Likelihood:                -2594.4\n",
       "Date:                Mon, 07 Sep 2020   Deviance:                       5188.9\n",
       "Time:                        11:44:08   Pearson chi2:                 6.97e+03\n",
       "No. Iterations:                    20                                         \n",
       "Covariance Type:            nonrobust                                         \n",
       "========================================================================================================================\n",
       "                                                           coef    std err          z      P>|z|      [0.025      0.975]\n",
       "------------------------------------------------------------------------------------------------------------------------\n",
       "const                                                    0.4503      0.937      0.480      0.631      -1.387       2.287\n",
       "TotalVisits                                              1.5074      0.292      5.153      0.000       0.934       2.081\n",
       "Total Time Spent on Website                              4.3727      0.166     26.411      0.000       4.048       4.697\n",
       "Page Views Per Visit                                    -1.0295      0.265     -3.890      0.000      -1.548      -0.511\n",
       "Lead Origin_landing page submission                     -1.1009      0.128     -8.568      0.000      -1.353      -0.849\n",
       "Lead Origin_lead add form                                3.6126      0.264     13.680      0.000       3.095       4.130\n",
       "Lead Source_olark chat                                   1.0473      0.136      7.695      0.000       0.781       1.314\n",
       "Lead Source_welingak website                             2.8502      1.044      2.731      0.006       0.805       4.896\n",
       "Do Not Email_yes                                        -1.2870      0.180     -7.169      0.000      -1.639      -0.935\n",
       "Last Activity_email opened                               0.7387      0.111      6.667      0.000       0.522       0.956\n",
       "Last Activity_olark chat conversation                   -1.0095      0.196     -5.159      0.000      -1.393      -0.626\n",
       "Last Activity_others                                     1.4932      0.243      6.137      0.000       1.016       1.970\n",
       "Last Activity_sms sent                                   1.9931      0.114     17.514      0.000       1.770       2.216\n",
       "Specialization_Not Specified                            -1.1181      0.125     -8.947      0.000      -1.363      -0.873\n",
       "What is your current occupation_other                   -2.4483      1.187     -2.062      0.039      -4.775      -0.122\n",
       "What is your current occupation_student                 -2.0530      0.957     -2.146      0.032      -3.928      -0.178\n",
       "What is your current occupation_unemployed              -2.4011      0.927     -2.589      0.010      -4.219      -0.584\n",
       "What is your current occupation_working professional     0.2553      0.947      0.270      0.787      -1.600       2.111\n",
       "Through Recommendations_yes                             20.3569   1.27e+04      0.002      0.999   -2.49e+04    2.49e+04\n",
       "========================================================================================================================\n",
       "\"\"\""
      ]
     },
     "execution_count": 1260,
     "metadata": {},
     "output_type": "execute_result"
    }
   ],
   "source": [
    "# Repeating the procedure for other columns based on higher probability value i.e. > 0.05 \n",
    "X_train.drop('Newspaper_yes', axis = 1, inplace = True)\n",
    "X_train_sm = sm.add_constant(X_train)\n",
    "log_model = sm.GLM(y_train, X_train_sm, family = sm.families.Binomial())\n",
    "result = log_model.fit()\n",
    "result.summary()"
   ]
  },
  {
   "cell_type": "code",
   "execution_count": 1261,
   "metadata": {
    "scrolled": true
   },
   "outputs": [
    {
     "data": {
      "text/html": [
       "<table class=\"simpletable\">\n",
       "<caption>Generalized Linear Model Regression Results</caption>\n",
       "<tr>\n",
       "  <th>Dep. Variable:</th>       <td>Converted</td>    <th>  No. Observations:  </th>  <td>  6267</td> \n",
       "</tr>\n",
       "<tr>\n",
       "  <th>Model:</th>                  <td>GLM</td>       <th>  Df Residuals:      </th>  <td>  6249</td> \n",
       "</tr>\n",
       "<tr>\n",
       "  <th>Model Family:</th>        <td>Binomial</td>     <th>  Df Model:          </th>  <td>    17</td> \n",
       "</tr>\n",
       "<tr>\n",
       "  <th>Link Function:</th>         <td>logit</td>      <th>  Scale:             </th> <td>  1.0000</td>\n",
       "</tr>\n",
       "<tr>\n",
       "  <th>Method:</th>                <td>IRLS</td>       <th>  Log-Likelihood:    </th> <td> -2595.6</td>\n",
       "</tr>\n",
       "<tr>\n",
       "  <th>Date:</th>            <td>Mon, 07 Sep 2020</td> <th>  Deviance:          </th> <td>  5191.3</td>\n",
       "</tr>\n",
       "<tr>\n",
       "  <th>Time:</th>                <td>11:44:08</td>     <th>  Pearson chi2:      </th> <td>6.99e+03</td>\n",
       "</tr>\n",
       "<tr>\n",
       "  <th>No. Iterations:</th>          <td>7</td>        <th>                     </th>     <td> </td>   \n",
       "</tr>\n",
       "<tr>\n",
       "  <th>Covariance Type:</th>     <td>nonrobust</td>    <th>                     </th>     <td> </td>   \n",
       "</tr>\n",
       "</table>\n",
       "<table class=\"simpletable\">\n",
       "<tr>\n",
       "                            <td></td>                              <th>coef</th>     <th>std err</th>      <th>z</th>      <th>P>|z|</th>  <th>[0.025</th>    <th>0.975]</th>  \n",
       "</tr>\n",
       "<tr>\n",
       "  <th>const</th>                                                <td>    0.4443</td> <td>    0.937</td> <td>    0.474</td> <td> 0.635</td> <td>   -1.393</td> <td>    2.281</td>\n",
       "</tr>\n",
       "<tr>\n",
       "  <th>TotalVisits</th>                                          <td>    1.5119</td> <td>    0.292</td> <td>    5.171</td> <td> 0.000</td> <td>    0.939</td> <td>    2.085</td>\n",
       "</tr>\n",
       "<tr>\n",
       "  <th>Total Time Spent on Website</th>                          <td>    4.3749</td> <td>    0.166</td> <td>   26.426</td> <td> 0.000</td> <td>    4.050</td> <td>    4.699</td>\n",
       "</tr>\n",
       "<tr>\n",
       "  <th>Page Views Per Visit</th>                                 <td>   -1.0201</td> <td>    0.264</td> <td>   -3.863</td> <td> 0.000</td> <td>   -1.538</td> <td>   -0.502</td>\n",
       "</tr>\n",
       "<tr>\n",
       "  <th>Lead Origin_landing page submission</th>                  <td>   -1.0993</td> <td>    0.129</td> <td>   -8.554</td> <td> 0.000</td> <td>   -1.351</td> <td>   -0.847</td>\n",
       "</tr>\n",
       "<tr>\n",
       "  <th>Lead Origin_lead add form</th>                            <td>    3.6172</td> <td>    0.264</td> <td>   13.698</td> <td> 0.000</td> <td>    3.100</td> <td>    4.135</td>\n",
       "</tr>\n",
       "<tr>\n",
       "  <th>Lead Source_olark chat</th>                               <td>    1.0514</td> <td>    0.136</td> <td>    7.727</td> <td> 0.000</td> <td>    0.785</td> <td>    1.318</td>\n",
       "</tr>\n",
       "<tr>\n",
       "  <th>Lead Source_welingak website</th>                         <td>    2.8501</td> <td>    1.044</td> <td>    2.731</td> <td> 0.006</td> <td>    0.805</td> <td>    4.895</td>\n",
       "</tr>\n",
       "<tr>\n",
       "  <th>Do Not Email_yes</th>                                     <td>   -1.2877</td> <td>    0.180</td> <td>   -7.172</td> <td> 0.000</td> <td>   -1.640</td> <td>   -0.936</td>\n",
       "</tr>\n",
       "<tr>\n",
       "  <th>Last Activity_email opened</th>                           <td>    0.7394</td> <td>    0.111</td> <td>    6.675</td> <td> 0.000</td> <td>    0.522</td> <td>    0.957</td>\n",
       "</tr>\n",
       "<tr>\n",
       "  <th>Last Activity_olark chat conversation</th>                <td>   -1.0102</td> <td>    0.196</td> <td>   -5.161</td> <td> 0.000</td> <td>   -1.394</td> <td>   -0.627</td>\n",
       "</tr>\n",
       "<tr>\n",
       "  <th>Last Activity_others</th>                                 <td>    1.4924</td> <td>    0.243</td> <td>    6.135</td> <td> 0.000</td> <td>    1.016</td> <td>    1.969</td>\n",
       "</tr>\n",
       "<tr>\n",
       "  <th>Last Activity_sms sent</th>                               <td>    1.9918</td> <td>    0.114</td> <td>   17.505</td> <td> 0.000</td> <td>    1.769</td> <td>    2.215</td>\n",
       "</tr>\n",
       "<tr>\n",
       "  <th>Specialization_Not Specified</th>                         <td>   -1.1169</td> <td>    0.125</td> <td>   -8.936</td> <td> 0.000</td> <td>   -1.362</td> <td>   -0.872</td>\n",
       "</tr>\n",
       "<tr>\n",
       "  <th>What is your current occupation_other</th>                <td>   -2.4496</td> <td>    1.187</td> <td>   -2.064</td> <td> 0.039</td> <td>   -4.776</td> <td>   -0.123</td>\n",
       "</tr>\n",
       "<tr>\n",
       "  <th>What is your current occupation_student</th>              <td>   -2.0531</td> <td>    0.957</td> <td>   -2.146</td> <td> 0.032</td> <td>   -3.928</td> <td>   -0.178</td>\n",
       "</tr>\n",
       "<tr>\n",
       "  <th>What is your current occupation_unemployed</th>           <td>   -2.4005</td> <td>    0.927</td> <td>   -2.589</td> <td> 0.010</td> <td>   -4.218</td> <td>   -0.583</td>\n",
       "</tr>\n",
       "<tr>\n",
       "  <th>What is your current occupation_working professional</th> <td>    0.2734</td> <td>    0.947</td> <td>    0.289</td> <td> 0.773</td> <td>   -1.582</td> <td>    2.129</td>\n",
       "</tr>\n",
       "</table>"
      ],
      "text/plain": [
       "<class 'statsmodels.iolib.summary.Summary'>\n",
       "\"\"\"\n",
       "                 Generalized Linear Model Regression Results                  \n",
       "==============================================================================\n",
       "Dep. Variable:              Converted   No. Observations:                 6267\n",
       "Model:                            GLM   Df Residuals:                     6249\n",
       "Model Family:                Binomial   Df Model:                           17\n",
       "Link Function:                  logit   Scale:                          1.0000\n",
       "Method:                          IRLS   Log-Likelihood:                -2595.6\n",
       "Date:                Mon, 07 Sep 2020   Deviance:                       5191.3\n",
       "Time:                        11:44:08   Pearson chi2:                 6.99e+03\n",
       "No. Iterations:                     7                                         \n",
       "Covariance Type:            nonrobust                                         \n",
       "========================================================================================================================\n",
       "                                                           coef    std err          z      P>|z|      [0.025      0.975]\n",
       "------------------------------------------------------------------------------------------------------------------------\n",
       "const                                                    0.4443      0.937      0.474      0.635      -1.393       2.281\n",
       "TotalVisits                                              1.5119      0.292      5.171      0.000       0.939       2.085\n",
       "Total Time Spent on Website                              4.3749      0.166     26.426      0.000       4.050       4.699\n",
       "Page Views Per Visit                                    -1.0201      0.264     -3.863      0.000      -1.538      -0.502\n",
       "Lead Origin_landing page submission                     -1.0993      0.129     -8.554      0.000      -1.351      -0.847\n",
       "Lead Origin_lead add form                                3.6172      0.264     13.698      0.000       3.100       4.135\n",
       "Lead Source_olark chat                                   1.0514      0.136      7.727      0.000       0.785       1.318\n",
       "Lead Source_welingak website                             2.8501      1.044      2.731      0.006       0.805       4.895\n",
       "Do Not Email_yes                                        -1.2877      0.180     -7.172      0.000      -1.640      -0.936\n",
       "Last Activity_email opened                               0.7394      0.111      6.675      0.000       0.522       0.957\n",
       "Last Activity_olark chat conversation                   -1.0102      0.196     -5.161      0.000      -1.394      -0.627\n",
       "Last Activity_others                                     1.4924      0.243      6.135      0.000       1.016       1.969\n",
       "Last Activity_sms sent                                   1.9918      0.114     17.505      0.000       1.769       2.215\n",
       "Specialization_Not Specified                            -1.1169      0.125     -8.936      0.000      -1.362      -0.872\n",
       "What is your current occupation_other                   -2.4496      1.187     -2.064      0.039      -4.776      -0.123\n",
       "What is your current occupation_student                 -2.0531      0.957     -2.146      0.032      -3.928      -0.178\n",
       "What is your current occupation_unemployed              -2.4005      0.927     -2.589      0.010      -4.218      -0.583\n",
       "What is your current occupation_working professional     0.2734      0.947      0.289      0.773      -1.582       2.129\n",
       "========================================================================================================================\n",
       "\"\"\""
      ]
     },
     "execution_count": 1261,
     "metadata": {},
     "output_type": "execute_result"
    }
   ],
   "source": [
    "# Repeating the procedure for other columns based on higher probability value i.e. > 0.05 \n",
    "X_train.drop('Through Recommendations_yes', axis = 1, inplace = True)\n",
    "X_train_sm = sm.add_constant(X_train)\n",
    "log_model = sm.GLM(y_train, X_train_sm, family = sm.families.Binomial())\n",
    "result = log_model.fit()\n",
    "result.summary()"
   ]
  },
  {
   "cell_type": "code",
   "execution_count": 1262,
   "metadata": {},
   "outputs": [
    {
     "data": {
      "text/html": [
       "<table class=\"simpletable\">\n",
       "<caption>Generalized Linear Model Regression Results</caption>\n",
       "<tr>\n",
       "  <th>Dep. Variable:</th>       <td>Converted</td>    <th>  No. Observations:  </th>  <td>  6267</td> \n",
       "</tr>\n",
       "<tr>\n",
       "  <th>Model:</th>                  <td>GLM</td>       <th>  Df Residuals:      </th>  <td>  6250</td> \n",
       "</tr>\n",
       "<tr>\n",
       "  <th>Model Family:</th>        <td>Binomial</td>     <th>  Df Model:          </th>  <td>    16</td> \n",
       "</tr>\n",
       "<tr>\n",
       "  <th>Link Function:</th>         <td>logit</td>      <th>  Scale:             </th> <td>  1.0000</td>\n",
       "</tr>\n",
       "<tr>\n",
       "  <th>Method:</th>                <td>IRLS</td>       <th>  Log-Likelihood:    </th> <td> -2595.7</td>\n",
       "</tr>\n",
       "<tr>\n",
       "  <th>Date:</th>            <td>Mon, 07 Sep 2020</td> <th>  Deviance:          </th> <td>  5191.4</td>\n",
       "</tr>\n",
       "<tr>\n",
       "  <th>Time:</th>                <td>11:44:08</td>     <th>  Pearson chi2:      </th> <td>6.98e+03</td>\n",
       "</tr>\n",
       "<tr>\n",
       "  <th>No. Iterations:</th>          <td>7</td>        <th>                     </th>     <td> </td>   \n",
       "</tr>\n",
       "<tr>\n",
       "  <th>Covariance Type:</th>     <td>nonrobust</td>    <th>                     </th>     <td> </td>   \n",
       "</tr>\n",
       "</table>\n",
       "<table class=\"simpletable\">\n",
       "<tr>\n",
       "                       <td></td>                         <th>coef</th>     <th>std err</th>      <th>z</th>      <th>P>|z|</th>  <th>[0.025</th>    <th>0.975]</th>  \n",
       "</tr>\n",
       "<tr>\n",
       "  <th>const</th>                                      <td>    0.7056</td> <td>    0.250</td> <td>    2.826</td> <td> 0.005</td> <td>    0.216</td> <td>    1.195</td>\n",
       "</tr>\n",
       "<tr>\n",
       "  <th>TotalVisits</th>                                <td>    1.5119</td> <td>    0.292</td> <td>    5.171</td> <td> 0.000</td> <td>    0.939</td> <td>    2.085</td>\n",
       "</tr>\n",
       "<tr>\n",
       "  <th>Total Time Spent on Website</th>                <td>    4.3754</td> <td>    0.166</td> <td>   26.431</td> <td> 0.000</td> <td>    4.051</td> <td>    4.700</td>\n",
       "</tr>\n",
       "<tr>\n",
       "  <th>Page Views Per Visit</th>                       <td>   -1.0204</td> <td>    0.264</td> <td>   -3.864</td> <td> 0.000</td> <td>   -1.538</td> <td>   -0.503</td>\n",
       "</tr>\n",
       "<tr>\n",
       "  <th>Lead Origin_landing page submission</th>        <td>   -1.0992</td> <td>    0.129</td> <td>   -8.552</td> <td> 0.000</td> <td>   -1.351</td> <td>   -0.847</td>\n",
       "</tr>\n",
       "<tr>\n",
       "  <th>Lead Origin_lead add form</th>                  <td>    3.6171</td> <td>    0.264</td> <td>   13.698</td> <td> 0.000</td> <td>    3.100</td> <td>    4.135</td>\n",
       "</tr>\n",
       "<tr>\n",
       "  <th>Lead Source_olark chat</th>                     <td>    1.0514</td> <td>    0.136</td> <td>    7.727</td> <td> 0.000</td> <td>    0.785</td> <td>    1.318</td>\n",
       "</tr>\n",
       "<tr>\n",
       "  <th>Lead Source_welingak website</th>               <td>    2.8502</td> <td>    1.044</td> <td>    2.731</td> <td> 0.006</td> <td>    0.805</td> <td>    4.896</td>\n",
       "</tr>\n",
       "<tr>\n",
       "  <th>Do Not Email_yes</th>                           <td>   -1.2874</td> <td>    0.180</td> <td>   -7.170</td> <td> 0.000</td> <td>   -1.639</td> <td>   -0.935</td>\n",
       "</tr>\n",
       "<tr>\n",
       "  <th>Last Activity_email opened</th>                 <td>    0.7401</td> <td>    0.111</td> <td>    6.682</td> <td> 0.000</td> <td>    0.523</td> <td>    0.957</td>\n",
       "</tr>\n",
       "<tr>\n",
       "  <th>Last Activity_olark chat conversation</th>      <td>   -1.0109</td> <td>    0.196</td> <td>   -5.163</td> <td> 0.000</td> <td>   -1.395</td> <td>   -0.627</td>\n",
       "</tr>\n",
       "<tr>\n",
       "  <th>Last Activity_others</th>                       <td>    1.4934</td> <td>    0.243</td> <td>    6.141</td> <td> 0.000</td> <td>    1.017</td> <td>    1.970</td>\n",
       "</tr>\n",
       "<tr>\n",
       "  <th>Last Activity_sms sent</th>                     <td>    1.9927</td> <td>    0.114</td> <td>   17.517</td> <td> 0.000</td> <td>    1.770</td> <td>    2.216</td>\n",
       "</tr>\n",
       "<tr>\n",
       "  <th>Specialization_Not Specified</th>               <td>   -1.1168</td> <td>    0.125</td> <td>   -8.935</td> <td> 0.000</td> <td>   -1.362</td> <td>   -0.872</td>\n",
       "</tr>\n",
       "<tr>\n",
       "  <th>What is your current occupation_other</th>      <td>   -2.7115</td> <td>    0.767</td> <td>   -3.533</td> <td> 0.000</td> <td>   -4.216</td> <td>   -1.207</td>\n",
       "</tr>\n",
       "<tr>\n",
       "  <th>What is your current occupation_student</th>    <td>   -2.3150</td> <td>    0.309</td> <td>   -7.501</td> <td> 0.000</td> <td>   -2.920</td> <td>   -1.710</td>\n",
       "</tr>\n",
       "<tr>\n",
       "  <th>What is your current occupation_unemployed</th> <td>   -2.6626</td> <td>    0.197</td> <td>  -13.519</td> <td> 0.000</td> <td>   -3.049</td> <td>   -2.277</td>\n",
       "</tr>\n",
       "</table>"
      ],
      "text/plain": [
       "<class 'statsmodels.iolib.summary.Summary'>\n",
       "\"\"\"\n",
       "                 Generalized Linear Model Regression Results                  \n",
       "==============================================================================\n",
       "Dep. Variable:              Converted   No. Observations:                 6267\n",
       "Model:                            GLM   Df Residuals:                     6250\n",
       "Model Family:                Binomial   Df Model:                           16\n",
       "Link Function:                  logit   Scale:                          1.0000\n",
       "Method:                          IRLS   Log-Likelihood:                -2595.7\n",
       "Date:                Mon, 07 Sep 2020   Deviance:                       5191.4\n",
       "Time:                        11:44:08   Pearson chi2:                 6.98e+03\n",
       "No. Iterations:                     7                                         \n",
       "Covariance Type:            nonrobust                                         \n",
       "==============================================================================================================\n",
       "                                                 coef    std err          z      P>|z|      [0.025      0.975]\n",
       "--------------------------------------------------------------------------------------------------------------\n",
       "const                                          0.7056      0.250      2.826      0.005       0.216       1.195\n",
       "TotalVisits                                    1.5119      0.292      5.171      0.000       0.939       2.085\n",
       "Total Time Spent on Website                    4.3754      0.166     26.431      0.000       4.051       4.700\n",
       "Page Views Per Visit                          -1.0204      0.264     -3.864      0.000      -1.538      -0.503\n",
       "Lead Origin_landing page submission           -1.0992      0.129     -8.552      0.000      -1.351      -0.847\n",
       "Lead Origin_lead add form                      3.6171      0.264     13.698      0.000       3.100       4.135\n",
       "Lead Source_olark chat                         1.0514      0.136      7.727      0.000       0.785       1.318\n",
       "Lead Source_welingak website                   2.8502      1.044      2.731      0.006       0.805       4.896\n",
       "Do Not Email_yes                              -1.2874      0.180     -7.170      0.000      -1.639      -0.935\n",
       "Last Activity_email opened                     0.7401      0.111      6.682      0.000       0.523       0.957\n",
       "Last Activity_olark chat conversation         -1.0109      0.196     -5.163      0.000      -1.395      -0.627\n",
       "Last Activity_others                           1.4934      0.243      6.141      0.000       1.017       1.970\n",
       "Last Activity_sms sent                         1.9927      0.114     17.517      0.000       1.770       2.216\n",
       "Specialization_Not Specified                  -1.1168      0.125     -8.935      0.000      -1.362      -0.872\n",
       "What is your current occupation_other         -2.7115      0.767     -3.533      0.000      -4.216      -1.207\n",
       "What is your current occupation_student       -2.3150      0.309     -7.501      0.000      -2.920      -1.710\n",
       "What is your current occupation_unemployed    -2.6626      0.197    -13.519      0.000      -3.049      -2.277\n",
       "==============================================================================================================\n",
       "\"\"\""
      ]
     },
     "execution_count": 1262,
     "metadata": {},
     "output_type": "execute_result"
    }
   ],
   "source": [
    "# Repeating the procedure for other columns based on higher probability value i.e. > 0.05 \n",
    "X_train.drop('What is your current occupation_working professional', axis = 1, inplace = True)\n",
    "X_train_sm = sm.add_constant(X_train)\n",
    "log_model = sm.GLM(y_train, X_train_sm, family = sm.families.Binomial())\n",
    "result = log_model.fit()\n",
    "result.summary()"
   ]
  },
  {
   "cell_type": "markdown",
   "metadata": {},
   "source": [
    "#### Now we will see the variance inflation factor for checking multicolinearity among the variables."
   ]
  },
  {
   "cell_type": "code",
   "execution_count": 1263,
   "metadata": {},
   "outputs": [
    {
     "data": {
      "text/html": [
       "<div>\n",
       "<style scoped>\n",
       "    .dataframe tbody tr th:only-of-type {\n",
       "        vertical-align: middle;\n",
       "    }\n",
       "\n",
       "    .dataframe tbody tr th {\n",
       "        vertical-align: top;\n",
       "    }\n",
       "\n",
       "    .dataframe thead th {\n",
       "        text-align: right;\n",
       "    }\n",
       "</style>\n",
       "<table border=\"1\" class=\"dataframe\">\n",
       "  <thead>\n",
       "    <tr style=\"text-align: right;\">\n",
       "      <th></th>\n",
       "      <th>Features</th>\n",
       "      <th>VIF</th>\n",
       "    </tr>\n",
       "  </thead>\n",
       "  <tbody>\n",
       "    <tr>\n",
       "      <th>15</th>\n",
       "      <td>What is your current occupation_unemployed</td>\n",
       "      <td>10.17</td>\n",
       "    </tr>\n",
       "    <tr>\n",
       "      <th>2</th>\n",
       "      <td>Page Views Per Visit</td>\n",
       "      <td>6.50</td>\n",
       "    </tr>\n",
       "    <tr>\n",
       "      <th>3</th>\n",
       "      <td>Lead Origin_landing page submission</td>\n",
       "      <td>5.66</td>\n",
       "    </tr>\n",
       "    <tr>\n",
       "      <th>0</th>\n",
       "      <td>TotalVisits</td>\n",
       "      <td>4.78</td>\n",
       "    </tr>\n",
       "    <tr>\n",
       "      <th>12</th>\n",
       "      <td>Specialization_Not Specified</td>\n",
       "      <td>4.01</td>\n",
       "    </tr>\n",
       "    <tr>\n",
       "      <th>8</th>\n",
       "      <td>Last Activity_email opened</td>\n",
       "      <td>3.06</td>\n",
       "    </tr>\n",
       "    <tr>\n",
       "      <th>11</th>\n",
       "      <td>Last Activity_sms sent</td>\n",
       "      <td>2.60</td>\n",
       "    </tr>\n",
       "    <tr>\n",
       "      <th>5</th>\n",
       "      <td>Lead Source_olark chat</td>\n",
       "      <td>2.59</td>\n",
       "    </tr>\n",
       "    <tr>\n",
       "      <th>1</th>\n",
       "      <td>Total Time Spent on Website</td>\n",
       "      <td>2.18</td>\n",
       "    </tr>\n",
       "    <tr>\n",
       "      <th>9</th>\n",
       "      <td>Last Activity_olark chat conversation</td>\n",
       "      <td>1.89</td>\n",
       "    </tr>\n",
       "    <tr>\n",
       "      <th>4</th>\n",
       "      <td>Lead Origin_lead add form</td>\n",
       "      <td>1.70</td>\n",
       "    </tr>\n",
       "    <tr>\n",
       "      <th>6</th>\n",
       "      <td>Lead Source_welingak website</td>\n",
       "      <td>1.33</td>\n",
       "    </tr>\n",
       "    <tr>\n",
       "      <th>7</th>\n",
       "      <td>Do Not Email_yes</td>\n",
       "      <td>1.23</td>\n",
       "    </tr>\n",
       "    <tr>\n",
       "      <th>14</th>\n",
       "      <td>What is your current occupation_student</td>\n",
       "      <td>1.22</td>\n",
       "    </tr>\n",
       "    <tr>\n",
       "      <th>10</th>\n",
       "      <td>Last Activity_others</td>\n",
       "      <td>1.11</td>\n",
       "    </tr>\n",
       "    <tr>\n",
       "      <th>13</th>\n",
       "      <td>What is your current occupation_other</td>\n",
       "      <td>1.01</td>\n",
       "    </tr>\n",
       "  </tbody>\n",
       "</table>\n",
       "</div>"
      ],
      "text/plain": [
       "                                      Features   VIF\n",
       "15  What is your current occupation_unemployed 10.17\n",
       "2                         Page Views Per Visit  6.50\n",
       "3          Lead Origin_landing page submission  5.66\n",
       "0                                  TotalVisits  4.78\n",
       "12                Specialization_Not Specified  4.01\n",
       "8                   Last Activity_email opened  3.06\n",
       "11                      Last Activity_sms sent  2.60\n",
       "5                       Lead Source_olark chat  2.59\n",
       "1                  Total Time Spent on Website  2.18\n",
       "9        Last Activity_olark chat conversation  1.89\n",
       "4                    Lead Origin_lead add form  1.70\n",
       "6                 Lead Source_welingak website  1.33\n",
       "7                             Do Not Email_yes  1.23\n",
       "14     What is your current occupation_student  1.22\n",
       "10                        Last Activity_others  1.11\n",
       "13       What is your current occupation_other  1.01"
      ]
     },
     "execution_count": 1263,
     "metadata": {},
     "output_type": "execute_result"
    }
   ],
   "source": [
    "vif = pd.DataFrame()\n",
    "vif['Features'] = X_train.columns\n",
    "vif['VIF'] = [variance_inflation_factor(X_train.values, i) for i in range(X_train.shape[1])]\n",
    "vif['VIF'] = round(vif['VIF'], 2)\n",
    "vif = vif.sort_values(by = \"VIF\", ascending = False)\n",
    "vif"
   ]
  },
  {
   "cell_type": "markdown",
   "metadata": {},
   "source": [
    "#### As we can see that VIF is on higher side for Lead What is your current occupation_unemployed column. So we will remove the column from the training data set."
   ]
  },
  {
   "cell_type": "code",
   "execution_count": 1264,
   "metadata": {
    "scrolled": true
   },
   "outputs": [
    {
     "data": {
      "text/html": [
       "<table class=\"simpletable\">\n",
       "<caption>Generalized Linear Model Regression Results</caption>\n",
       "<tr>\n",
       "  <th>Dep. Variable:</th>       <td>Converted</td>    <th>  No. Observations:  </th>  <td>  6267</td> \n",
       "</tr>\n",
       "<tr>\n",
       "  <th>Model:</th>                  <td>GLM</td>       <th>  Df Residuals:      </th>  <td>  6251</td> \n",
       "</tr>\n",
       "<tr>\n",
       "  <th>Model Family:</th>        <td>Binomial</td>     <th>  Df Model:          </th>  <td>    15</td> \n",
       "</tr>\n",
       "<tr>\n",
       "  <th>Link Function:</th>         <td>logit</td>      <th>  Scale:             </th> <td>  1.0000</td>\n",
       "</tr>\n",
       "<tr>\n",
       "  <th>Method:</th>                <td>IRLS</td>       <th>  Log-Likelihood:    </th> <td> -2728.3</td>\n",
       "</tr>\n",
       "<tr>\n",
       "  <th>Date:</th>            <td>Mon, 07 Sep 2020</td> <th>  Deviance:          </th> <td>  5456.5</td>\n",
       "</tr>\n",
       "<tr>\n",
       "  <th>Time:</th>                <td>11:44:08</td>     <th>  Pearson chi2:      </th> <td>6.53e+03</td>\n",
       "</tr>\n",
       "<tr>\n",
       "  <th>No. Iterations:</th>          <td>7</td>        <th>                     </th>     <td> </td>   \n",
       "</tr>\n",
       "<tr>\n",
       "  <th>Covariance Type:</th>     <td>nonrobust</td>    <th>                     </th>     <td> </td>   \n",
       "</tr>\n",
       "</table>\n",
       "<table class=\"simpletable\">\n",
       "<tr>\n",
       "                     <td></td>                        <th>coef</th>     <th>std err</th>      <th>z</th>      <th>P>|z|</th>  <th>[0.025</th>    <th>0.975]</th>  \n",
       "</tr>\n",
       "<tr>\n",
       "  <th>const</th>                                   <td>   -1.6233</td> <td>    0.166</td> <td>   -9.776</td> <td> 0.000</td> <td>   -1.949</td> <td>   -1.298</td>\n",
       "</tr>\n",
       "<tr>\n",
       "  <th>TotalVisits</th>                             <td>    1.3615</td> <td>    0.285</td> <td>    4.778</td> <td> 0.000</td> <td>    0.803</td> <td>    1.920</td>\n",
       "</tr>\n",
       "<tr>\n",
       "  <th>Total Time Spent on Website</th>             <td>    4.3950</td> <td>    0.162</td> <td>   27.211</td> <td> 0.000</td> <td>    4.078</td> <td>    4.712</td>\n",
       "</tr>\n",
       "<tr>\n",
       "  <th>Page Views Per Visit</th>                    <td>   -1.0309</td> <td>    0.256</td> <td>   -4.021</td> <td> 0.000</td> <td>   -1.533</td> <td>   -0.528</td>\n",
       "</tr>\n",
       "<tr>\n",
       "  <th>Lead Origin_landing page submission</th>     <td>   -1.1932</td> <td>    0.125</td> <td>   -9.577</td> <td> 0.000</td> <td>   -1.437</td> <td>   -0.949</td>\n",
       "</tr>\n",
       "<tr>\n",
       "  <th>Lead Origin_lead add form</th>               <td>    3.6953</td> <td>    0.260</td> <td>   14.212</td> <td> 0.000</td> <td>    3.186</td> <td>    4.205</td>\n",
       "</tr>\n",
       "<tr>\n",
       "  <th>Lead Source_olark chat</th>                  <td>    1.0221</td> <td>    0.133</td> <td>    7.668</td> <td> 0.000</td> <td>    0.761</td> <td>    1.283</td>\n",
       "</tr>\n",
       "<tr>\n",
       "  <th>Lead Source_welingak website</th>            <td>    2.7166</td> <td>    1.044</td> <td>    2.603</td> <td> 0.009</td> <td>    0.671</td> <td>    4.762</td>\n",
       "</tr>\n",
       "<tr>\n",
       "  <th>Do Not Email_yes</th>                        <td>   -1.3427</td> <td>    0.174</td> <td>   -7.703</td> <td> 0.000</td> <td>   -1.684</td> <td>   -1.001</td>\n",
       "</tr>\n",
       "<tr>\n",
       "  <th>Last Activity_email opened</th>              <td>    0.7302</td> <td>    0.107</td> <td>    6.824</td> <td> 0.000</td> <td>    0.521</td> <td>    0.940</td>\n",
       "</tr>\n",
       "<tr>\n",
       "  <th>Last Activity_olark chat conversation</th>   <td>   -1.0271</td> <td>    0.192</td> <td>   -5.352</td> <td> 0.000</td> <td>   -1.403</td> <td>   -0.651</td>\n",
       "</tr>\n",
       "<tr>\n",
       "  <th>Last Activity_others</th>                    <td>    1.5470</td> <td>    0.233</td> <td>    6.631</td> <td> 0.000</td> <td>    1.090</td> <td>    2.004</td>\n",
       "</tr>\n",
       "<tr>\n",
       "  <th>Last Activity_sms sent</th>                  <td>    1.9754</td> <td>    0.110</td> <td>   17.961</td> <td> 0.000</td> <td>    1.760</td> <td>    2.191</td>\n",
       "</tr>\n",
       "<tr>\n",
       "  <th>Specialization_Not Specified</th>            <td>   -1.3828</td> <td>    0.122</td> <td>  -11.332</td> <td> 0.000</td> <td>   -1.622</td> <td>   -1.144</td>\n",
       "</tr>\n",
       "<tr>\n",
       "  <th>What is your current occupation_other</th>   <td>   -0.2723</td> <td>    0.751</td> <td>   -0.363</td> <td> 0.717</td> <td>   -1.744</td> <td>    1.199</td>\n",
       "</tr>\n",
       "<tr>\n",
       "  <th>What is your current occupation_student</th> <td>    0.2014</td> <td>    0.246</td> <td>    0.818</td> <td> 0.413</td> <td>   -0.281</td> <td>    0.684</td>\n",
       "</tr>\n",
       "</table>"
      ],
      "text/plain": [
       "<class 'statsmodels.iolib.summary.Summary'>\n",
       "\"\"\"\n",
       "                 Generalized Linear Model Regression Results                  \n",
       "==============================================================================\n",
       "Dep. Variable:              Converted   No. Observations:                 6267\n",
       "Model:                            GLM   Df Residuals:                     6251\n",
       "Model Family:                Binomial   Df Model:                           15\n",
       "Link Function:                  logit   Scale:                          1.0000\n",
       "Method:                          IRLS   Log-Likelihood:                -2728.3\n",
       "Date:                Mon, 07 Sep 2020   Deviance:                       5456.5\n",
       "Time:                        11:44:08   Pearson chi2:                 6.53e+03\n",
       "No. Iterations:                     7                                         \n",
       "Covariance Type:            nonrobust                                         \n",
       "===========================================================================================================\n",
       "                                              coef    std err          z      P>|z|      [0.025      0.975]\n",
       "-----------------------------------------------------------------------------------------------------------\n",
       "const                                      -1.6233      0.166     -9.776      0.000      -1.949      -1.298\n",
       "TotalVisits                                 1.3615      0.285      4.778      0.000       0.803       1.920\n",
       "Total Time Spent on Website                 4.3950      0.162     27.211      0.000       4.078       4.712\n",
       "Page Views Per Visit                       -1.0309      0.256     -4.021      0.000      -1.533      -0.528\n",
       "Lead Origin_landing page submission        -1.1932      0.125     -9.577      0.000      -1.437      -0.949\n",
       "Lead Origin_lead add form                   3.6953      0.260     14.212      0.000       3.186       4.205\n",
       "Lead Source_olark chat                      1.0221      0.133      7.668      0.000       0.761       1.283\n",
       "Lead Source_welingak website                2.7166      1.044      2.603      0.009       0.671       4.762\n",
       "Do Not Email_yes                           -1.3427      0.174     -7.703      0.000      -1.684      -1.001\n",
       "Last Activity_email opened                  0.7302      0.107      6.824      0.000       0.521       0.940\n",
       "Last Activity_olark chat conversation      -1.0271      0.192     -5.352      0.000      -1.403      -0.651\n",
       "Last Activity_others                        1.5470      0.233      6.631      0.000       1.090       2.004\n",
       "Last Activity_sms sent                      1.9754      0.110     17.961      0.000       1.760       2.191\n",
       "Specialization_Not Specified               -1.3828      0.122    -11.332      0.000      -1.622      -1.144\n",
       "What is your current occupation_other      -0.2723      0.751     -0.363      0.717      -1.744       1.199\n",
       "What is your current occupation_student     0.2014      0.246      0.818      0.413      -0.281       0.684\n",
       "===========================================================================================================\n",
       "\"\"\""
      ]
     },
     "execution_count": 1264,
     "metadata": {},
     "output_type": "execute_result"
    }
   ],
   "source": [
    "X_train.drop('What is your current occupation_unemployed', axis = 1, inplace = True)\n",
    "X_train_sm = sm.add_constant(X_train)\n",
    "log_model = sm.GLM(y_train, X_train_sm, family = sm.families.Binomial())\n",
    "result = log_model.fit()\n",
    "result.summary()"
   ]
  },
  {
   "cell_type": "code",
   "execution_count": 1265,
   "metadata": {
    "scrolled": true
   },
   "outputs": [
    {
     "data": {
      "text/html": [
       "<table class=\"simpletable\">\n",
       "<caption>Generalized Linear Model Regression Results</caption>\n",
       "<tr>\n",
       "  <th>Dep. Variable:</th>       <td>Converted</td>    <th>  No. Observations:  </th>  <td>  6267</td> \n",
       "</tr>\n",
       "<tr>\n",
       "  <th>Model:</th>                  <td>GLM</td>       <th>  Df Residuals:      </th>  <td>  6252</td> \n",
       "</tr>\n",
       "<tr>\n",
       "  <th>Model Family:</th>        <td>Binomial</td>     <th>  Df Model:          </th>  <td>    14</td> \n",
       "</tr>\n",
       "<tr>\n",
       "  <th>Link Function:</th>         <td>logit</td>      <th>  Scale:             </th> <td>  1.0000</td>\n",
       "</tr>\n",
       "<tr>\n",
       "  <th>Method:</th>                <td>IRLS</td>       <th>  Log-Likelihood:    </th> <td> -2728.3</td>\n",
       "</tr>\n",
       "<tr>\n",
       "  <th>Date:</th>            <td>Mon, 07 Sep 2020</td> <th>  Deviance:          </th> <td>  5456.7</td>\n",
       "</tr>\n",
       "<tr>\n",
       "  <th>Time:</th>                <td>11:44:08</td>     <th>  Pearson chi2:      </th> <td>6.53e+03</td>\n",
       "</tr>\n",
       "<tr>\n",
       "  <th>No. Iterations:</th>          <td>7</td>        <th>                     </th>     <td> </td>   \n",
       "</tr>\n",
       "<tr>\n",
       "  <th>Covariance Type:</th>     <td>nonrobust</td>    <th>                     </th>     <td> </td>   \n",
       "</tr>\n",
       "</table>\n",
       "<table class=\"simpletable\">\n",
       "<tr>\n",
       "                     <td></td>                        <th>coef</th>     <th>std err</th>      <th>z</th>      <th>P>|z|</th>  <th>[0.025</th>    <th>0.975]</th>  \n",
       "</tr>\n",
       "<tr>\n",
       "  <th>const</th>                                   <td>   -1.6248</td> <td>    0.166</td> <td>   -9.788</td> <td> 0.000</td> <td>   -1.950</td> <td>   -1.299</td>\n",
       "</tr>\n",
       "<tr>\n",
       "  <th>TotalVisits</th>                             <td>    1.3599</td> <td>    0.285</td> <td>    4.774</td> <td> 0.000</td> <td>    0.802</td> <td>    1.918</td>\n",
       "</tr>\n",
       "<tr>\n",
       "  <th>Total Time Spent on Website</th>             <td>    4.3934</td> <td>    0.161</td> <td>   27.214</td> <td> 0.000</td> <td>    4.077</td> <td>    4.710</td>\n",
       "</tr>\n",
       "<tr>\n",
       "  <th>Page Views Per Visit</th>                    <td>   -1.0313</td> <td>    0.256</td> <td>   -4.023</td> <td> 0.000</td> <td>   -1.534</td> <td>   -0.529</td>\n",
       "</tr>\n",
       "<tr>\n",
       "  <th>Lead Origin_landing page submission</th>     <td>   -1.1914</td> <td>    0.124</td> <td>   -9.570</td> <td> 0.000</td> <td>   -1.435</td> <td>   -0.947</td>\n",
       "</tr>\n",
       "<tr>\n",
       "  <th>Lead Origin_lead add form</th>               <td>    3.6957</td> <td>    0.260</td> <td>   14.214</td> <td> 0.000</td> <td>    3.186</td> <td>    4.205</td>\n",
       "</tr>\n",
       "<tr>\n",
       "  <th>Lead Source_olark chat</th>                  <td>    1.0215</td> <td>    0.133</td> <td>    7.664</td> <td> 0.000</td> <td>    0.760</td> <td>    1.283</td>\n",
       "</tr>\n",
       "<tr>\n",
       "  <th>Lead Source_welingak website</th>            <td>    2.7158</td> <td>    1.044</td> <td>    2.602</td> <td> 0.009</td> <td>    0.670</td> <td>    4.761</td>\n",
       "</tr>\n",
       "<tr>\n",
       "  <th>Do Not Email_yes</th>                        <td>   -1.3438</td> <td>    0.174</td> <td>   -7.711</td> <td> 0.000</td> <td>   -1.685</td> <td>   -1.002</td>\n",
       "</tr>\n",
       "<tr>\n",
       "  <th>Last Activity_email opened</th>              <td>    0.7301</td> <td>    0.107</td> <td>    6.823</td> <td> 0.000</td> <td>    0.520</td> <td>    0.940</td>\n",
       "</tr>\n",
       "<tr>\n",
       "  <th>Last Activity_olark chat conversation</th>   <td>   -1.0282</td> <td>    0.192</td> <td>   -5.357</td> <td> 0.000</td> <td>   -1.404</td> <td>   -0.652</td>\n",
       "</tr>\n",
       "<tr>\n",
       "  <th>Last Activity_others</th>                    <td>    1.5480</td> <td>    0.233</td> <td>    6.637</td> <td> 0.000</td> <td>    1.091</td> <td>    2.005</td>\n",
       "</tr>\n",
       "<tr>\n",
       "  <th>Last Activity_sms sent</th>                  <td>    1.9760</td> <td>    0.110</td> <td>   17.969</td> <td> 0.000</td> <td>    1.760</td> <td>    2.191</td>\n",
       "</tr>\n",
       "<tr>\n",
       "  <th>Specialization_Not Specified</th>            <td>   -1.3806</td> <td>    0.122</td> <td>  -11.328</td> <td> 0.000</td> <td>   -1.619</td> <td>   -1.142</td>\n",
       "</tr>\n",
       "<tr>\n",
       "  <th>What is your current occupation_student</th> <td>    0.2021</td> <td>    0.246</td> <td>    0.821</td> <td> 0.411</td> <td>   -0.280</td> <td>    0.685</td>\n",
       "</tr>\n",
       "</table>"
      ],
      "text/plain": [
       "<class 'statsmodels.iolib.summary.Summary'>\n",
       "\"\"\"\n",
       "                 Generalized Linear Model Regression Results                  \n",
       "==============================================================================\n",
       "Dep. Variable:              Converted   No. Observations:                 6267\n",
       "Model:                            GLM   Df Residuals:                     6252\n",
       "Model Family:                Binomial   Df Model:                           14\n",
       "Link Function:                  logit   Scale:                          1.0000\n",
       "Method:                          IRLS   Log-Likelihood:                -2728.3\n",
       "Date:                Mon, 07 Sep 2020   Deviance:                       5456.7\n",
       "Time:                        11:44:08   Pearson chi2:                 6.53e+03\n",
       "No. Iterations:                     7                                         \n",
       "Covariance Type:            nonrobust                                         \n",
       "===========================================================================================================\n",
       "                                              coef    std err          z      P>|z|      [0.025      0.975]\n",
       "-----------------------------------------------------------------------------------------------------------\n",
       "const                                      -1.6248      0.166     -9.788      0.000      -1.950      -1.299\n",
       "TotalVisits                                 1.3599      0.285      4.774      0.000       0.802       1.918\n",
       "Total Time Spent on Website                 4.3934      0.161     27.214      0.000       4.077       4.710\n",
       "Page Views Per Visit                       -1.0313      0.256     -4.023      0.000      -1.534      -0.529\n",
       "Lead Origin_landing page submission        -1.1914      0.124     -9.570      0.000      -1.435      -0.947\n",
       "Lead Origin_lead add form                   3.6957      0.260     14.214      0.000       3.186       4.205\n",
       "Lead Source_olark chat                      1.0215      0.133      7.664      0.000       0.760       1.283\n",
       "Lead Source_welingak website                2.7158      1.044      2.602      0.009       0.670       4.761\n",
       "Do Not Email_yes                           -1.3438      0.174     -7.711      0.000      -1.685      -1.002\n",
       "Last Activity_email opened                  0.7301      0.107      6.823      0.000       0.520       0.940\n",
       "Last Activity_olark chat conversation      -1.0282      0.192     -5.357      0.000      -1.404      -0.652\n",
       "Last Activity_others                        1.5480      0.233      6.637      0.000       1.091       2.005\n",
       "Last Activity_sms sent                      1.9760      0.110     17.969      0.000       1.760       2.191\n",
       "Specialization_Not Specified               -1.3806      0.122    -11.328      0.000      -1.619      -1.142\n",
       "What is your current occupation_student     0.2021      0.246      0.821      0.411      -0.280       0.685\n",
       "===========================================================================================================\n",
       "\"\"\""
      ]
     },
     "execution_count": 1265,
     "metadata": {},
     "output_type": "execute_result"
    }
   ],
   "source": [
    "# Repeating the procedure for other columns based on higher probability value i.e. > 0.05 \n",
    "X_train.drop('What is your current occupation_other', axis = 1, inplace = True)\n",
    "X_train_sm = sm.add_constant(X_train)\n",
    "log_model = sm.GLM(y_train, X_train_sm, family = sm.families.Binomial())\n",
    "result = log_model.fit()\n",
    "result.summary()"
   ]
  },
  {
   "cell_type": "code",
   "execution_count": 1266,
   "metadata": {
    "scrolled": true
   },
   "outputs": [
    {
     "data": {
      "text/html": [
       "<table class=\"simpletable\">\n",
       "<caption>Generalized Linear Model Regression Results</caption>\n",
       "<tr>\n",
       "  <th>Dep. Variable:</th>       <td>Converted</td>    <th>  No. Observations:  </th>  <td>  6267</td> \n",
       "</tr>\n",
       "<tr>\n",
       "  <th>Model:</th>                  <td>GLM</td>       <th>  Df Residuals:      </th>  <td>  6253</td> \n",
       "</tr>\n",
       "<tr>\n",
       "  <th>Model Family:</th>        <td>Binomial</td>     <th>  Df Model:          </th>  <td>    13</td> \n",
       "</tr>\n",
       "<tr>\n",
       "  <th>Link Function:</th>         <td>logit</td>      <th>  Scale:             </th> <td>  1.0000</td>\n",
       "</tr>\n",
       "<tr>\n",
       "  <th>Method:</th>                <td>IRLS</td>       <th>  Log-Likelihood:    </th> <td> -2728.7</td>\n",
       "</tr>\n",
       "<tr>\n",
       "  <th>Date:</th>            <td>Mon, 07 Sep 2020</td> <th>  Deviance:          </th> <td>  5457.3</td>\n",
       "</tr>\n",
       "<tr>\n",
       "  <th>Time:</th>                <td>11:44:08</td>     <th>  Pearson chi2:      </th> <td>6.53e+03</td>\n",
       "</tr>\n",
       "<tr>\n",
       "  <th>No. Iterations:</th>          <td>7</td>        <th>                     </th>     <td> </td>   \n",
       "</tr>\n",
       "<tr>\n",
       "  <th>Covariance Type:</th>     <td>nonrobust</td>    <th>                     </th>     <td> </td>   \n",
       "</tr>\n",
       "</table>\n",
       "<table class=\"simpletable\">\n",
       "<tr>\n",
       "                    <td></td>                       <th>coef</th>     <th>std err</th>      <th>z</th>      <th>P>|z|</th>  <th>[0.025</th>    <th>0.975]</th>  \n",
       "</tr>\n",
       "<tr>\n",
       "  <th>const</th>                                 <td>   -1.6210</td> <td>    0.166</td> <td>   -9.770</td> <td> 0.000</td> <td>   -1.946</td> <td>   -1.296</td>\n",
       "</tr>\n",
       "<tr>\n",
       "  <th>TotalVisits</th>                           <td>    1.3595</td> <td>    0.285</td> <td>    4.773</td> <td> 0.000</td> <td>    0.801</td> <td>    1.918</td>\n",
       "</tr>\n",
       "<tr>\n",
       "  <th>Total Time Spent on Website</th>           <td>    4.3936</td> <td>    0.161</td> <td>   27.213</td> <td> 0.000</td> <td>    4.077</td> <td>    4.710</td>\n",
       "</tr>\n",
       "<tr>\n",
       "  <th>Page Views Per Visit</th>                  <td>   -1.0341</td> <td>    0.256</td> <td>   -4.035</td> <td> 0.000</td> <td>   -1.536</td> <td>   -0.532</td>\n",
       "</tr>\n",
       "<tr>\n",
       "  <th>Lead Origin_landing page submission</th>   <td>   -1.1890</td> <td>    0.124</td> <td>   -9.554</td> <td> 0.000</td> <td>   -1.433</td> <td>   -0.945</td>\n",
       "</tr>\n",
       "<tr>\n",
       "  <th>Lead Origin_lead add form</th>             <td>    3.6979</td> <td>    0.260</td> <td>   14.224</td> <td> 0.000</td> <td>    3.188</td> <td>    4.207</td>\n",
       "</tr>\n",
       "<tr>\n",
       "  <th>Lead Source_olark chat</th>                <td>    1.0232</td> <td>    0.133</td> <td>    7.677</td> <td> 0.000</td> <td>    0.762</td> <td>    1.284</td>\n",
       "</tr>\n",
       "<tr>\n",
       "  <th>Lead Source_welingak website</th>          <td>    2.7111</td> <td>    1.044</td> <td>    2.598</td> <td> 0.009</td> <td>    0.666</td> <td>    4.757</td>\n",
       "</tr>\n",
       "<tr>\n",
       "  <th>Do Not Email_yes</th>                      <td>   -1.3446</td> <td>    0.174</td> <td>   -7.714</td> <td> 0.000</td> <td>   -1.686</td> <td>   -1.003</td>\n",
       "</tr>\n",
       "<tr>\n",
       "  <th>Last Activity_email opened</th>            <td>    0.7302</td> <td>    0.107</td> <td>    6.825</td> <td> 0.000</td> <td>    0.521</td> <td>    0.940</td>\n",
       "</tr>\n",
       "<tr>\n",
       "  <th>Last Activity_olark chat conversation</th> <td>   -1.0256</td> <td>    0.192</td> <td>   -5.345</td> <td> 0.000</td> <td>   -1.402</td> <td>   -0.650</td>\n",
       "</tr>\n",
       "<tr>\n",
       "  <th>Last Activity_others</th>                  <td>    1.5438</td> <td>    0.233</td> <td>    6.620</td> <td> 0.000</td> <td>    1.087</td> <td>    2.001</td>\n",
       "</tr>\n",
       "<tr>\n",
       "  <th>Last Activity_sms sent</th>                <td>    1.9729</td> <td>    0.110</td> <td>   17.957</td> <td> 0.000</td> <td>    1.758</td> <td>    2.188</td>\n",
       "</tr>\n",
       "<tr>\n",
       "  <th>Specialization_Not Specified</th>          <td>   -1.3802</td> <td>    0.122</td> <td>  -11.322</td> <td> 0.000</td> <td>   -1.619</td> <td>   -1.141</td>\n",
       "</tr>\n",
       "</table>"
      ],
      "text/plain": [
       "<class 'statsmodels.iolib.summary.Summary'>\n",
       "\"\"\"\n",
       "                 Generalized Linear Model Regression Results                  \n",
       "==============================================================================\n",
       "Dep. Variable:              Converted   No. Observations:                 6267\n",
       "Model:                            GLM   Df Residuals:                     6253\n",
       "Model Family:                Binomial   Df Model:                           13\n",
       "Link Function:                  logit   Scale:                          1.0000\n",
       "Method:                          IRLS   Log-Likelihood:                -2728.7\n",
       "Date:                Mon, 07 Sep 2020   Deviance:                       5457.3\n",
       "Time:                        11:44:08   Pearson chi2:                 6.53e+03\n",
       "No. Iterations:                     7                                         \n",
       "Covariance Type:            nonrobust                                         \n",
       "=========================================================================================================\n",
       "                                            coef    std err          z      P>|z|      [0.025      0.975]\n",
       "---------------------------------------------------------------------------------------------------------\n",
       "const                                    -1.6210      0.166     -9.770      0.000      -1.946      -1.296\n",
       "TotalVisits                               1.3595      0.285      4.773      0.000       0.801       1.918\n",
       "Total Time Spent on Website               4.3936      0.161     27.213      0.000       4.077       4.710\n",
       "Page Views Per Visit                     -1.0341      0.256     -4.035      0.000      -1.536      -0.532\n",
       "Lead Origin_landing page submission      -1.1890      0.124     -9.554      0.000      -1.433      -0.945\n",
       "Lead Origin_lead add form                 3.6979      0.260     14.224      0.000       3.188       4.207\n",
       "Lead Source_olark chat                    1.0232      0.133      7.677      0.000       0.762       1.284\n",
       "Lead Source_welingak website              2.7111      1.044      2.598      0.009       0.666       4.757\n",
       "Do Not Email_yes                         -1.3446      0.174     -7.714      0.000      -1.686      -1.003\n",
       "Last Activity_email opened                0.7302      0.107      6.825      0.000       0.521       0.940\n",
       "Last Activity_olark chat conversation    -1.0256      0.192     -5.345      0.000      -1.402      -0.650\n",
       "Last Activity_others                      1.5438      0.233      6.620      0.000       1.087       2.001\n",
       "Last Activity_sms sent                    1.9729      0.110     17.957      0.000       1.758       2.188\n",
       "Specialization_Not Specified             -1.3802      0.122    -11.322      0.000      -1.619      -1.141\n",
       "=========================================================================================================\n",
       "\"\"\""
      ]
     },
     "execution_count": 1266,
     "metadata": {},
     "output_type": "execute_result"
    }
   ],
   "source": [
    "# Repeating the procedure for other columns based on higher probability value i.e. > 0.05 \n",
    "X_train.drop('What is your current occupation_student', axis = 1, inplace = True)\n",
    "X_train_sm = sm.add_constant(X_train)\n",
    "log_model = sm.GLM(y_train, X_train_sm, family = sm.families.Binomial())\n",
    "result = log_model.fit()\n",
    "result.summary()"
   ]
  },
  {
   "cell_type": "code",
   "execution_count": 1267,
   "metadata": {},
   "outputs": [
    {
     "data": {
      "text/html": [
       "<div>\n",
       "<style scoped>\n",
       "    .dataframe tbody tr th:only-of-type {\n",
       "        vertical-align: middle;\n",
       "    }\n",
       "\n",
       "    .dataframe tbody tr th {\n",
       "        vertical-align: top;\n",
       "    }\n",
       "\n",
       "    .dataframe thead th {\n",
       "        text-align: right;\n",
       "    }\n",
       "</style>\n",
       "<table border=\"1\" class=\"dataframe\">\n",
       "  <thead>\n",
       "    <tr style=\"text-align: right;\">\n",
       "      <th></th>\n",
       "      <th>Features</th>\n",
       "      <th>VIF</th>\n",
       "    </tr>\n",
       "  </thead>\n",
       "  <tbody>\n",
       "    <tr>\n",
       "      <th>2</th>\n",
       "      <td>Page Views Per Visit</td>\n",
       "      <td>6.36</td>\n",
       "    </tr>\n",
       "    <tr>\n",
       "      <th>0</th>\n",
       "      <td>TotalVisits</td>\n",
       "      <td>4.72</td>\n",
       "    </tr>\n",
       "    <tr>\n",
       "      <th>3</th>\n",
       "      <td>Lead Origin_landing page submission</td>\n",
       "      <td>4.00</td>\n",
       "    </tr>\n",
       "    <tr>\n",
       "      <th>8</th>\n",
       "      <td>Last Activity_email opened</td>\n",
       "      <td>2.90</td>\n",
       "    </tr>\n",
       "    <tr>\n",
       "      <th>12</th>\n",
       "      <td>Specialization_Not Specified</td>\n",
       "      <td>2.72</td>\n",
       "    </tr>\n",
       "    <tr>\n",
       "      <th>11</th>\n",
       "      <td>Last Activity_sms sent</td>\n",
       "      <td>2.54</td>\n",
       "    </tr>\n",
       "    <tr>\n",
       "      <th>5</th>\n",
       "      <td>Lead Source_olark chat</td>\n",
       "      <td>2.37</td>\n",
       "    </tr>\n",
       "    <tr>\n",
       "      <th>1</th>\n",
       "      <td>Total Time Spent on Website</td>\n",
       "      <td>2.15</td>\n",
       "    </tr>\n",
       "    <tr>\n",
       "      <th>9</th>\n",
       "      <td>Last Activity_olark chat conversation</td>\n",
       "      <td>1.85</td>\n",
       "    </tr>\n",
       "    <tr>\n",
       "      <th>4</th>\n",
       "      <td>Lead Origin_lead add form</td>\n",
       "      <td>1.60</td>\n",
       "    </tr>\n",
       "    <tr>\n",
       "      <th>6</th>\n",
       "      <td>Lead Source_welingak website</td>\n",
       "      <td>1.33</td>\n",
       "    </tr>\n",
       "    <tr>\n",
       "      <th>7</th>\n",
       "      <td>Do Not Email_yes</td>\n",
       "      <td>1.21</td>\n",
       "    </tr>\n",
       "    <tr>\n",
       "      <th>10</th>\n",
       "      <td>Last Activity_others</td>\n",
       "      <td>1.11</td>\n",
       "    </tr>\n",
       "  </tbody>\n",
       "</table>\n",
       "</div>"
      ],
      "text/plain": [
       "                                 Features  VIF\n",
       "2                    Page Views Per Visit 6.36\n",
       "0                             TotalVisits 4.72\n",
       "3     Lead Origin_landing page submission 4.00\n",
       "8              Last Activity_email opened 2.90\n",
       "12           Specialization_Not Specified 2.72\n",
       "11                 Last Activity_sms sent 2.54\n",
       "5                  Lead Source_olark chat 2.37\n",
       "1             Total Time Spent on Website 2.15\n",
       "9   Last Activity_olark chat conversation 1.85\n",
       "4               Lead Origin_lead add form 1.60\n",
       "6            Lead Source_welingak website 1.33\n",
       "7                        Do Not Email_yes 1.21\n",
       "10                   Last Activity_others 1.11"
      ]
     },
     "execution_count": 1267,
     "metadata": {},
     "output_type": "execute_result"
    }
   ],
   "source": [
    "# Checking VIF again\n",
    "vif = pd.DataFrame()\n",
    "vif['Features'] = X_train.columns\n",
    "vif['VIF'] = [variance_inflation_factor(X_train.values, i) for i in range(X_train.shape[1])]\n",
    "vif['VIF'] = round(vif['VIF'], 2)\n",
    "vif = vif.sort_values(by = \"VIF\", ascending = False)\n",
    "vif"
   ]
  },
  {
   "cell_type": "markdown",
   "metadata": {},
   "source": [
    "##### Now we can see that Page Views Per Visit column have high VIF, so we will remove the column"
   ]
  },
  {
   "cell_type": "code",
   "execution_count": 1268,
   "metadata": {
    "scrolled": true
   },
   "outputs": [
    {
     "data": {
      "text/html": [
       "<table class=\"simpletable\">\n",
       "<caption>Generalized Linear Model Regression Results</caption>\n",
       "<tr>\n",
       "  <th>Dep. Variable:</th>       <td>Converted</td>    <th>  No. Observations:  </th>  <td>  6267</td> \n",
       "</tr>\n",
       "<tr>\n",
       "  <th>Model:</th>                  <td>GLM</td>       <th>  Df Residuals:      </th>  <td>  6254</td> \n",
       "</tr>\n",
       "<tr>\n",
       "  <th>Model Family:</th>        <td>Binomial</td>     <th>  Df Model:          </th>  <td>    12</td> \n",
       "</tr>\n",
       "<tr>\n",
       "  <th>Link Function:</th>         <td>logit</td>      <th>  Scale:             </th> <td>  1.0000</td>\n",
       "</tr>\n",
       "<tr>\n",
       "  <th>Method:</th>                <td>IRLS</td>       <th>  Log-Likelihood:    </th> <td> -2736.9</td>\n",
       "</tr>\n",
       "<tr>\n",
       "  <th>Date:</th>            <td>Mon, 07 Sep 2020</td> <th>  Deviance:          </th> <td>  5473.8</td>\n",
       "</tr>\n",
       "<tr>\n",
       "  <th>Time:</th>                <td>11:44:08</td>     <th>  Pearson chi2:      </th> <td>6.53e+03</td>\n",
       "</tr>\n",
       "<tr>\n",
       "  <th>No. Iterations:</th>          <td>7</td>        <th>                     </th>     <td> </td>   \n",
       "</tr>\n",
       "<tr>\n",
       "  <th>Covariance Type:</th>     <td>nonrobust</td>    <th>                     </th>     <td> </td>   \n",
       "</tr>\n",
       "</table>\n",
       "<table class=\"simpletable\">\n",
       "<tr>\n",
       "                    <td></td>                       <th>coef</th>     <th>std err</th>      <th>z</th>      <th>P>|z|</th>  <th>[0.025</th>    <th>0.975]</th>  \n",
       "</tr>\n",
       "<tr>\n",
       "  <th>const</th>                                 <td>   -1.7624</td> <td>    0.162</td> <td>  -10.859</td> <td> 0.000</td> <td>   -2.080</td> <td>   -1.444</td>\n",
       "</tr>\n",
       "<tr>\n",
       "  <th>TotalVisits</th>                           <td>    0.7683</td> <td>    0.244</td> <td>    3.149</td> <td> 0.002</td> <td>    0.290</td> <td>    1.246</td>\n",
       "</tr>\n",
       "<tr>\n",
       "  <th>Total Time Spent on Website</th>           <td>    4.4016</td> <td>    0.161</td> <td>   27.266</td> <td> 0.000</td> <td>    4.085</td> <td>    4.718</td>\n",
       "</tr>\n",
       "<tr>\n",
       "  <th>Lead Origin_landing page submission</th>   <td>   -1.2281</td> <td>    0.124</td> <td>   -9.928</td> <td> 0.000</td> <td>   -1.471</td> <td>   -0.986</td>\n",
       "</tr>\n",
       "<tr>\n",
       "  <th>Lead Origin_lead add form</th>             <td>    3.8691</td> <td>    0.257</td> <td>   15.076</td> <td> 0.000</td> <td>    3.366</td> <td>    4.372</td>\n",
       "</tr>\n",
       "<tr>\n",
       "  <th>Lead Source_olark chat</th>                <td>    1.1796</td> <td>    0.128</td> <td>    9.234</td> <td> 0.000</td> <td>    0.929</td> <td>    1.430</td>\n",
       "</tr>\n",
       "<tr>\n",
       "  <th>Lead Source_welingak website</th>          <td>    2.6937</td> <td>    1.043</td> <td>    2.582</td> <td> 0.010</td> <td>    0.649</td> <td>    4.738</td>\n",
       "</tr>\n",
       "<tr>\n",
       "  <th>Do Not Email_yes</th>                      <td>   -1.3581</td> <td>    0.174</td> <td>   -7.803</td> <td> 0.000</td> <td>   -1.699</td> <td>   -1.017</td>\n",
       "</tr>\n",
       "<tr>\n",
       "  <th>Last Activity_email opened</th>            <td>    0.6832</td> <td>    0.106</td> <td>    6.438</td> <td> 0.000</td> <td>    0.475</td> <td>    0.891</td>\n",
       "</tr>\n",
       "<tr>\n",
       "  <th>Last Activity_olark chat conversation</th> <td>   -1.0593</td> <td>    0.191</td> <td>   -5.535</td> <td> 0.000</td> <td>   -1.434</td> <td>   -0.684</td>\n",
       "</tr>\n",
       "<tr>\n",
       "  <th>Last Activity_others</th>                  <td>    1.4841</td> <td>    0.233</td> <td>    6.373</td> <td> 0.000</td> <td>    1.028</td> <td>    1.940</td>\n",
       "</tr>\n",
       "<tr>\n",
       "  <th>Last Activity_sms sent</th>                <td>    1.9120</td> <td>    0.108</td> <td>   17.633</td> <td> 0.000</td> <td>    1.700</td> <td>    2.125</td>\n",
       "</tr>\n",
       "<tr>\n",
       "  <th>Specialization_Not Specified</th>          <td>   -1.3482</td> <td>    0.121</td> <td>  -11.122</td> <td> 0.000</td> <td>   -1.586</td> <td>   -1.111</td>\n",
       "</tr>\n",
       "</table>"
      ],
      "text/plain": [
       "<class 'statsmodels.iolib.summary.Summary'>\n",
       "\"\"\"\n",
       "                 Generalized Linear Model Regression Results                  \n",
       "==============================================================================\n",
       "Dep. Variable:              Converted   No. Observations:                 6267\n",
       "Model:                            GLM   Df Residuals:                     6254\n",
       "Model Family:                Binomial   Df Model:                           12\n",
       "Link Function:                  logit   Scale:                          1.0000\n",
       "Method:                          IRLS   Log-Likelihood:                -2736.9\n",
       "Date:                Mon, 07 Sep 2020   Deviance:                       5473.8\n",
       "Time:                        11:44:08   Pearson chi2:                 6.53e+03\n",
       "No. Iterations:                     7                                         \n",
       "Covariance Type:            nonrobust                                         \n",
       "=========================================================================================================\n",
       "                                            coef    std err          z      P>|z|      [0.025      0.975]\n",
       "---------------------------------------------------------------------------------------------------------\n",
       "const                                    -1.7624      0.162    -10.859      0.000      -2.080      -1.444\n",
       "TotalVisits                               0.7683      0.244      3.149      0.002       0.290       1.246\n",
       "Total Time Spent on Website               4.4016      0.161     27.266      0.000       4.085       4.718\n",
       "Lead Origin_landing page submission      -1.2281      0.124     -9.928      0.000      -1.471      -0.986\n",
       "Lead Origin_lead add form                 3.8691      0.257     15.076      0.000       3.366       4.372\n",
       "Lead Source_olark chat                    1.1796      0.128      9.234      0.000       0.929       1.430\n",
       "Lead Source_welingak website              2.6937      1.043      2.582      0.010       0.649       4.738\n",
       "Do Not Email_yes                         -1.3581      0.174     -7.803      0.000      -1.699      -1.017\n",
       "Last Activity_email opened                0.6832      0.106      6.438      0.000       0.475       0.891\n",
       "Last Activity_olark chat conversation    -1.0593      0.191     -5.535      0.000      -1.434      -0.684\n",
       "Last Activity_others                      1.4841      0.233      6.373      0.000       1.028       1.940\n",
       "Last Activity_sms sent                    1.9120      0.108     17.633      0.000       1.700       2.125\n",
       "Specialization_Not Specified             -1.3482      0.121    -11.122      0.000      -1.586      -1.111\n",
       "=========================================================================================================\n",
       "\"\"\""
      ]
     },
     "execution_count": 1268,
     "metadata": {},
     "output_type": "execute_result"
    }
   ],
   "source": [
    "X_train.drop('Page Views Per Visit', axis = 1, inplace = True)\n",
    "X_train_sm = sm.add_constant(X_train)\n",
    "log_model = sm.GLM(y_train, X_train_sm, family = sm.families.Binomial())\n",
    "result = log_model.fit()\n",
    "result.summary()"
   ]
  },
  {
   "cell_type": "markdown",
   "metadata": {},
   "source": [
    "As we can see the for all the variables the P value is less than 0.05 all the variables can be considered significant.\n",
    "So we will again check the VIF for checking multicolinearity among the variables"
   ]
  },
  {
   "cell_type": "code",
   "execution_count": 1269,
   "metadata": {
    "scrolled": true
   },
   "outputs": [
    {
     "data": {
      "text/html": [
       "<div>\n",
       "<style scoped>\n",
       "    .dataframe tbody tr th:only-of-type {\n",
       "        vertical-align: middle;\n",
       "    }\n",
       "\n",
       "    .dataframe tbody tr th {\n",
       "        vertical-align: top;\n",
       "    }\n",
       "\n",
       "    .dataframe thead th {\n",
       "        text-align: right;\n",
       "    }\n",
       "</style>\n",
       "<table border=\"1\" class=\"dataframe\">\n",
       "  <thead>\n",
       "    <tr style=\"text-align: right;\">\n",
       "      <th></th>\n",
       "      <th>Features</th>\n",
       "      <th>VIF</th>\n",
       "    </tr>\n",
       "  </thead>\n",
       "  <tbody>\n",
       "    <tr>\n",
       "      <th>2</th>\n",
       "      <td>Lead Origin_landing page submission</td>\n",
       "      <td>3.57</td>\n",
       "    </tr>\n",
       "    <tr>\n",
       "      <th>0</th>\n",
       "      <td>TotalVisits</td>\n",
       "      <td>2.99</td>\n",
       "    </tr>\n",
       "    <tr>\n",
       "      <th>7</th>\n",
       "      <td>Last Activity_email opened</td>\n",
       "      <td>2.77</td>\n",
       "    </tr>\n",
       "    <tr>\n",
       "      <th>11</th>\n",
       "      <td>Specialization_Not Specified</td>\n",
       "      <td>2.68</td>\n",
       "    </tr>\n",
       "    <tr>\n",
       "      <th>10</th>\n",
       "      <td>Last Activity_sms sent</td>\n",
       "      <td>2.42</td>\n",
       "    </tr>\n",
       "    <tr>\n",
       "      <th>4</th>\n",
       "      <td>Lead Source_olark chat</td>\n",
       "      <td>2.26</td>\n",
       "    </tr>\n",
       "    <tr>\n",
       "      <th>1</th>\n",
       "      <td>Total Time Spent on Website</td>\n",
       "      <td>2.15</td>\n",
       "    </tr>\n",
       "    <tr>\n",
       "      <th>8</th>\n",
       "      <td>Last Activity_olark chat conversation</td>\n",
       "      <td>1.82</td>\n",
       "    </tr>\n",
       "    <tr>\n",
       "      <th>3</th>\n",
       "      <td>Lead Origin_lead add form</td>\n",
       "      <td>1.58</td>\n",
       "    </tr>\n",
       "    <tr>\n",
       "      <th>5</th>\n",
       "      <td>Lead Source_welingak website</td>\n",
       "      <td>1.33</td>\n",
       "    </tr>\n",
       "    <tr>\n",
       "      <th>6</th>\n",
       "      <td>Do Not Email_yes</td>\n",
       "      <td>1.21</td>\n",
       "    </tr>\n",
       "    <tr>\n",
       "      <th>9</th>\n",
       "      <td>Last Activity_others</td>\n",
       "      <td>1.10</td>\n",
       "    </tr>\n",
       "  </tbody>\n",
       "</table>\n",
       "</div>"
      ],
      "text/plain": [
       "                                 Features  VIF\n",
       "2     Lead Origin_landing page submission 3.57\n",
       "0                             TotalVisits 2.99\n",
       "7              Last Activity_email opened 2.77\n",
       "11           Specialization_Not Specified 2.68\n",
       "10                 Last Activity_sms sent 2.42\n",
       "4                  Lead Source_olark chat 2.26\n",
       "1             Total Time Spent on Website 2.15\n",
       "8   Last Activity_olark chat conversation 1.82\n",
       "3               Lead Origin_lead add form 1.58\n",
       "5            Lead Source_welingak website 1.33\n",
       "6                        Do Not Email_yes 1.21\n",
       "9                    Last Activity_others 1.10"
      ]
     },
     "execution_count": 1269,
     "metadata": {},
     "output_type": "execute_result"
    }
   ],
   "source": [
    "vif = pd.DataFrame()\n",
    "vif['Features'] = X_train.columns\n",
    "vif['VIF'] = [variance_inflation_factor(X_train.values, i) for i in range(X_train.shape[1])]\n",
    "vif['VIF'] = round(vif['VIF'], 2)\n",
    "vif = vif.sort_values(by = \"VIF\", ascending = False)\n",
    "vif"
   ]
  },
  {
   "cell_type": "code",
   "execution_count": 1270,
   "metadata": {},
   "outputs": [
    {
     "data": {
      "text/html": [
       "<table class=\"simpletable\">\n",
       "<caption>Generalized Linear Model Regression Results</caption>\n",
       "<tr>\n",
       "  <th>Dep. Variable:</th>       <td>Converted</td>    <th>  No. Observations:  </th>  <td>  6267</td> \n",
       "</tr>\n",
       "<tr>\n",
       "  <th>Model:</th>                  <td>GLM</td>       <th>  Df Residuals:      </th>  <td>  6255</td> \n",
       "</tr>\n",
       "<tr>\n",
       "  <th>Model Family:</th>        <td>Binomial</td>     <th>  Df Model:          </th>  <td>    11</td> \n",
       "</tr>\n",
       "<tr>\n",
       "  <th>Link Function:</th>         <td>logit</td>      <th>  Scale:             </th> <td>  1.0000</td>\n",
       "</tr>\n",
       "<tr>\n",
       "  <th>Method:</th>                <td>IRLS</td>       <th>  Log-Likelihood:    </th> <td> -2788.0</td>\n",
       "</tr>\n",
       "<tr>\n",
       "  <th>Date:</th>            <td>Mon, 07 Sep 2020</td> <th>  Deviance:          </th> <td>  5576.1</td>\n",
       "</tr>\n",
       "<tr>\n",
       "  <th>Time:</th>                <td>11:44:09</td>     <th>  Pearson chi2:      </th> <td>6.55e+03</td>\n",
       "</tr>\n",
       "<tr>\n",
       "  <th>No. Iterations:</th>          <td>7</td>        <th>                     </th>     <td> </td>   \n",
       "</tr>\n",
       "<tr>\n",
       "  <th>Covariance Type:</th>     <td>nonrobust</td>    <th>                     </th>     <td> </td>   \n",
       "</tr>\n",
       "</table>\n",
       "<table class=\"simpletable\">\n",
       "<tr>\n",
       "                    <td></td>                       <th>coef</th>     <th>std err</th>      <th>z</th>      <th>P>|z|</th>  <th>[0.025</th>    <th>0.975]</th>  \n",
       "</tr>\n",
       "<tr>\n",
       "  <th>const</th>                                 <td>   -2.8331</td> <td>    0.125</td> <td>  -22.756</td> <td> 0.000</td> <td>   -3.077</td> <td>   -2.589</td>\n",
       "</tr>\n",
       "<tr>\n",
       "  <th>TotalVisits</th>                           <td>    0.7548</td> <td>    0.242</td> <td>    3.124</td> <td> 0.002</td> <td>    0.281</td> <td>    1.228</td>\n",
       "</tr>\n",
       "<tr>\n",
       "  <th>Total Time Spent on Website</th>           <td>    4.4747</td> <td>    0.160</td> <td>   27.904</td> <td> 0.000</td> <td>    4.160</td> <td>    4.789</td>\n",
       "</tr>\n",
       "<tr>\n",
       "  <th>Lead Origin_lead add form</th>             <td>    4.6212</td> <td>    0.245</td> <td>   18.895</td> <td> 0.000</td> <td>    4.142</td> <td>    5.101</td>\n",
       "</tr>\n",
       "<tr>\n",
       "  <th>Lead Source_olark chat</th>                <td>    1.5815</td> <td>    0.121</td> <td>   13.046</td> <td> 0.000</td> <td>    1.344</td> <td>    1.819</td>\n",
       "</tr>\n",
       "<tr>\n",
       "  <th>Lead Source_welingak website</th>          <td>    2.2571</td> <td>    1.041</td> <td>    2.167</td> <td> 0.030</td> <td>    0.216</td> <td>    4.298</td>\n",
       "</tr>\n",
       "<tr>\n",
       "  <th>Do Not Email_yes</th>                      <td>   -1.4392</td> <td>    0.173</td> <td>   -8.330</td> <td> 0.000</td> <td>   -1.778</td> <td>   -1.101</td>\n",
       "</tr>\n",
       "<tr>\n",
       "  <th>Last Activity_email opened</th>            <td>    0.6686</td> <td>    0.105</td> <td>    6.382</td> <td> 0.000</td> <td>    0.463</td> <td>    0.874</td>\n",
       "</tr>\n",
       "<tr>\n",
       "  <th>Last Activity_olark chat conversation</th> <td>   -1.0232</td> <td>    0.189</td> <td>   -5.407</td> <td> 0.000</td> <td>   -1.394</td> <td>   -0.652</td>\n",
       "</tr>\n",
       "<tr>\n",
       "  <th>Last Activity_others</th>                  <td>    1.4650</td> <td>    0.232</td> <td>    6.312</td> <td> 0.000</td> <td>    1.010</td> <td>    1.920</td>\n",
       "</tr>\n",
       "<tr>\n",
       "  <th>Last Activity_sms sent</th>                <td>    1.8659</td> <td>    0.107</td> <td>   17.453</td> <td> 0.000</td> <td>    1.656</td> <td>    2.075</td>\n",
       "</tr>\n",
       "<tr>\n",
       "  <th>Specialization_Not Specified</th>          <td>   -0.5184</td> <td>    0.086</td> <td>   -6.020</td> <td> 0.000</td> <td>   -0.687</td> <td>   -0.350</td>\n",
       "</tr>\n",
       "</table>"
      ],
      "text/plain": [
       "<class 'statsmodels.iolib.summary.Summary'>\n",
       "\"\"\"\n",
       "                 Generalized Linear Model Regression Results                  \n",
       "==============================================================================\n",
       "Dep. Variable:              Converted   No. Observations:                 6267\n",
       "Model:                            GLM   Df Residuals:                     6255\n",
       "Model Family:                Binomial   Df Model:                           11\n",
       "Link Function:                  logit   Scale:                          1.0000\n",
       "Method:                          IRLS   Log-Likelihood:                -2788.0\n",
       "Date:                Mon, 07 Sep 2020   Deviance:                       5576.1\n",
       "Time:                        11:44:09   Pearson chi2:                 6.55e+03\n",
       "No. Iterations:                     7                                         \n",
       "Covariance Type:            nonrobust                                         \n",
       "=========================================================================================================\n",
       "                                            coef    std err          z      P>|z|      [0.025      0.975]\n",
       "---------------------------------------------------------------------------------------------------------\n",
       "const                                    -2.8331      0.125    -22.756      0.000      -3.077      -2.589\n",
       "TotalVisits                               0.7548      0.242      3.124      0.002       0.281       1.228\n",
       "Total Time Spent on Website               4.4747      0.160     27.904      0.000       4.160       4.789\n",
       "Lead Origin_lead add form                 4.6212      0.245     18.895      0.000       4.142       5.101\n",
       "Lead Source_olark chat                    1.5815      0.121     13.046      0.000       1.344       1.819\n",
       "Lead Source_welingak website              2.2571      1.041      2.167      0.030       0.216       4.298\n",
       "Do Not Email_yes                         -1.4392      0.173     -8.330      0.000      -1.778      -1.101\n",
       "Last Activity_email opened                0.6686      0.105      6.382      0.000       0.463       0.874\n",
       "Last Activity_olark chat conversation    -1.0232      0.189     -5.407      0.000      -1.394      -0.652\n",
       "Last Activity_others                      1.4650      0.232      6.312      0.000       1.010       1.920\n",
       "Last Activity_sms sent                    1.8659      0.107     17.453      0.000       1.656       2.075\n",
       "Specialization_Not Specified             -0.5184      0.086     -6.020      0.000      -0.687      -0.350\n",
       "=========================================================================================================\n",
       "\"\"\""
      ]
     },
     "execution_count": 1270,
     "metadata": {},
     "output_type": "execute_result"
    }
   ],
   "source": [
    "X_train.drop('Lead Origin_landing page submission', axis = 1, inplace = True)\n",
    "X_train_sm = sm.add_constant(X_train)\n",
    "log_model = sm.GLM(y_train, X_train_sm, family = sm.families.Binomial())\n",
    "result = log_model.fit()\n",
    "result.summary()"
   ]
  },
  {
   "cell_type": "code",
   "execution_count": 1271,
   "metadata": {},
   "outputs": [
    {
     "data": {
      "text/html": [
       "<div>\n",
       "<style scoped>\n",
       "    .dataframe tbody tr th:only-of-type {\n",
       "        vertical-align: middle;\n",
       "    }\n",
       "\n",
       "    .dataframe tbody tr th {\n",
       "        vertical-align: top;\n",
       "    }\n",
       "\n",
       "    .dataframe thead th {\n",
       "        text-align: right;\n",
       "    }\n",
       "</style>\n",
       "<table border=\"1\" class=\"dataframe\">\n",
       "  <thead>\n",
       "    <tr style=\"text-align: right;\">\n",
       "      <th></th>\n",
       "      <th>Features</th>\n",
       "      <th>VIF</th>\n",
       "    </tr>\n",
       "  </thead>\n",
       "  <tbody>\n",
       "    <tr>\n",
       "      <th>0</th>\n",
       "      <td>TotalVisits</td>\n",
       "      <td>2.55</td>\n",
       "    </tr>\n",
       "    <tr>\n",
       "      <th>3</th>\n",
       "      <td>Lead Source_olark chat</td>\n",
       "      <td>2.25</td>\n",
       "    </tr>\n",
       "    <tr>\n",
       "      <th>6</th>\n",
       "      <td>Last Activity_email opened</td>\n",
       "      <td>2.21</td>\n",
       "    </tr>\n",
       "    <tr>\n",
       "      <th>10</th>\n",
       "      <td>Specialization_Not Specified</td>\n",
       "      <td>2.16</td>\n",
       "    </tr>\n",
       "    <tr>\n",
       "      <th>1</th>\n",
       "      <td>Total Time Spent on Website</td>\n",
       "      <td>2.09</td>\n",
       "    </tr>\n",
       "    <tr>\n",
       "      <th>9</th>\n",
       "      <td>Last Activity_sms sent</td>\n",
       "      <td>2.00</td>\n",
       "    </tr>\n",
       "    <tr>\n",
       "      <th>7</th>\n",
       "      <td>Last Activity_olark chat conversation</td>\n",
       "      <td>1.72</td>\n",
       "    </tr>\n",
       "    <tr>\n",
       "      <th>2</th>\n",
       "      <td>Lead Origin_lead add form</td>\n",
       "      <td>1.53</td>\n",
       "    </tr>\n",
       "    <tr>\n",
       "      <th>4</th>\n",
       "      <td>Lead Source_welingak website</td>\n",
       "      <td>1.32</td>\n",
       "    </tr>\n",
       "    <tr>\n",
       "      <th>5</th>\n",
       "      <td>Do Not Email_yes</td>\n",
       "      <td>1.11</td>\n",
       "    </tr>\n",
       "    <tr>\n",
       "      <th>8</th>\n",
       "      <td>Last Activity_others</td>\n",
       "      <td>1.09</td>\n",
       "    </tr>\n",
       "  </tbody>\n",
       "</table>\n",
       "</div>"
      ],
      "text/plain": [
       "                                 Features  VIF\n",
       "0                             TotalVisits 2.55\n",
       "3                  Lead Source_olark chat 2.25\n",
       "6              Last Activity_email opened 2.21\n",
       "10           Specialization_Not Specified 2.16\n",
       "1             Total Time Spent on Website 2.09\n",
       "9                  Last Activity_sms sent 2.00\n",
       "7   Last Activity_olark chat conversation 1.72\n",
       "2               Lead Origin_lead add form 1.53\n",
       "4            Lead Source_welingak website 1.32\n",
       "5                        Do Not Email_yes 1.11\n",
       "8                    Last Activity_others 1.09"
      ]
     },
     "execution_count": 1271,
     "metadata": {},
     "output_type": "execute_result"
    }
   ],
   "source": [
    "vif = pd.DataFrame()\n",
    "vif['Features'] = X_train.columns\n",
    "vif['VIF'] = [variance_inflation_factor(X_train.values, i) for i in range(X_train.shape[1])]\n",
    "vif['VIF'] = round(vif['VIF'], 2)\n",
    "vif = vif.sort_values(by = \"VIF\", ascending = False)\n",
    "vif"
   ]
  },
  {
   "cell_type": "markdown",
   "metadata": {},
   "source": [
    "As we can see that all the VIFs values are less than 3 we will finalize this model."
   ]
  },
  {
   "cell_type": "markdown",
   "metadata": {},
   "source": [
    "### Making Predictions"
   ]
  },
  {
   "cell_type": "code",
   "execution_count": 1272,
   "metadata": {},
   "outputs": [
    {
     "data": {
      "text/plain": [
       "9196   0.90\n",
       "4696   0.52\n",
       "3274   0.37\n",
       "2164   0.03\n",
       "1667   0.58\n",
       "       ... \n",
       "379    0.09\n",
       "84     0.39\n",
       "8313   0.15\n",
       "7169   0.25\n",
       "5825   0.97\n",
       "Length: 6267, dtype: float64"
      ]
     },
     "execution_count": 1272,
     "metadata": {},
     "output_type": "execute_result"
    }
   ],
   "source": [
    "y_train_pred = result.predict(X_train_sm)\n",
    "y_train_pred"
   ]
  },
  {
   "cell_type": "code",
   "execution_count": 1273,
   "metadata": {},
   "outputs": [
    {
     "data": {
      "text/plain": [
       "array([0.89929499, 0.51651996, 0.36786079, ..., 0.14944824, 0.24949017,\n",
       "       0.97476661])"
      ]
     },
     "execution_count": 1273,
     "metadata": {},
     "output_type": "execute_result"
    }
   ],
   "source": [
    "# Reshaping it to array\n",
    "y_train_pred = y_train_pred.values.reshape(-1)\n",
    "y_train_pred"
   ]
  },
  {
   "cell_type": "code",
   "execution_count": 1274,
   "metadata": {},
   "outputs": [
    {
     "data": {
      "text/html": [
       "<div>\n",
       "<style scoped>\n",
       "    .dataframe tbody tr th:only-of-type {\n",
       "        vertical-align: middle;\n",
       "    }\n",
       "\n",
       "    .dataframe tbody tr th {\n",
       "        vertical-align: top;\n",
       "    }\n",
       "\n",
       "    .dataframe thead th {\n",
       "        text-align: right;\n",
       "    }\n",
       "</style>\n",
       "<table border=\"1\" class=\"dataframe\">\n",
       "  <thead>\n",
       "    <tr style=\"text-align: right;\">\n",
       "      <th></th>\n",
       "      <th>Converted</th>\n",
       "      <th>Conversion_Prob</th>\n",
       "    </tr>\n",
       "  </thead>\n",
       "  <tbody>\n",
       "    <tr>\n",
       "      <th>0</th>\n",
       "      <td>1</td>\n",
       "      <td>0.90</td>\n",
       "    </tr>\n",
       "    <tr>\n",
       "      <th>1</th>\n",
       "      <td>0</td>\n",
       "      <td>0.52</td>\n",
       "    </tr>\n",
       "    <tr>\n",
       "      <th>2</th>\n",
       "      <td>0</td>\n",
       "      <td>0.37</td>\n",
       "    </tr>\n",
       "    <tr>\n",
       "      <th>3</th>\n",
       "      <td>0</td>\n",
       "      <td>0.03</td>\n",
       "    </tr>\n",
       "    <tr>\n",
       "      <th>4</th>\n",
       "      <td>1</td>\n",
       "      <td>0.58</td>\n",
       "    </tr>\n",
       "  </tbody>\n",
       "</table>\n",
       "</div>"
      ],
      "text/plain": [
       "   Converted  Conversion_Prob\n",
       "0          1             0.90\n",
       "1          0             0.52\n",
       "2          0             0.37\n",
       "3          0             0.03\n",
       "4          1             0.58"
      ]
     },
     "execution_count": 1274,
     "metadata": {},
     "output_type": "execute_result"
    }
   ],
   "source": [
    "# Creating a dataframe for better visualisation\n",
    "y_train_pred_final = pd.DataFrame({'Converted':y_train.values, 'Conversion_Prob':y_train_pred})\n",
    "y_train_pred_final.head()"
   ]
  },
  {
   "cell_type": "markdown",
   "metadata": {},
   "source": [
    "##### For making prediction we will now have to decide a cutoff probability value. Initially we will take 0.5 as the cutoff probability value and predict i.e. we will say customer will be converted when probability value is more than 0.5 and will not be converted if prob is less than equal to 0.5"
   ]
  },
  {
   "cell_type": "code",
   "execution_count": 1275,
   "metadata": {},
   "outputs": [
    {
     "data": {
      "text/html": [
       "<div>\n",
       "<style scoped>\n",
       "    .dataframe tbody tr th:only-of-type {\n",
       "        vertical-align: middle;\n",
       "    }\n",
       "\n",
       "    .dataframe tbody tr th {\n",
       "        vertical-align: top;\n",
       "    }\n",
       "\n",
       "    .dataframe thead th {\n",
       "        text-align: right;\n",
       "    }\n",
       "</style>\n",
       "<table border=\"1\" class=\"dataframe\">\n",
       "  <thead>\n",
       "    <tr style=\"text-align: right;\">\n",
       "      <th></th>\n",
       "      <th>Converted</th>\n",
       "      <th>Conversion_Prob</th>\n",
       "      <th>Predicted</th>\n",
       "    </tr>\n",
       "  </thead>\n",
       "  <tbody>\n",
       "    <tr>\n",
       "      <th>0</th>\n",
       "      <td>1</td>\n",
       "      <td>0.90</td>\n",
       "      <td>1</td>\n",
       "    </tr>\n",
       "    <tr>\n",
       "      <th>1</th>\n",
       "      <td>0</td>\n",
       "      <td>0.52</td>\n",
       "      <td>1</td>\n",
       "    </tr>\n",
       "    <tr>\n",
       "      <th>2</th>\n",
       "      <td>0</td>\n",
       "      <td>0.37</td>\n",
       "      <td>0</td>\n",
       "    </tr>\n",
       "    <tr>\n",
       "      <th>3</th>\n",
       "      <td>0</td>\n",
       "      <td>0.03</td>\n",
       "      <td>0</td>\n",
       "    </tr>\n",
       "    <tr>\n",
       "      <th>4</th>\n",
       "      <td>1</td>\n",
       "      <td>0.58</td>\n",
       "      <td>1</td>\n",
       "    </tr>\n",
       "  </tbody>\n",
       "</table>\n",
       "</div>"
      ],
      "text/plain": [
       "   Converted  Conversion_Prob  Predicted\n",
       "0          1             0.90          1\n",
       "1          0             0.52          1\n",
       "2          0             0.37          0\n",
       "3          0             0.03          0\n",
       "4          1             0.58          1"
      ]
     },
     "execution_count": 1275,
     "metadata": {},
     "output_type": "execute_result"
    }
   ],
   "source": [
    "y_train_pred_final['Predicted'] = y_train_pred_final.Conversion_Prob.map(lambda x: 1 if x > 0.5 else 0)\n",
    "y_train_pred_final.head()"
   ]
  },
  {
   "cell_type": "markdown",
   "metadata": {},
   "source": [
    "#### Evaluating the model \n",
    "For evaluating the model we will see various matrix such as confusion matrix, accuracy , sensistivity, specificity etc"
   ]
  },
  {
   "cell_type": "code",
   "execution_count": 1276,
   "metadata": {},
   "outputs": [
    {
     "data": {
      "text/plain": [
       "array([[3393,  489],\n",
       "       [ 776, 1609]], dtype=int64)"
      ]
     },
     "execution_count": 1276,
     "metadata": {},
     "output_type": "execute_result"
    }
   ],
   "source": [
    "confusion = metrics.confusion_matrix(y_train_pred_final.Converted, y_train_pred_final.Predicted )\n",
    "confusion"
   ]
  },
  {
   "cell_type": "code",
   "execution_count": 1277,
   "metadata": {},
   "outputs": [
    {
     "data": {
      "text/plain": [
       "0.7981490346258178"
      ]
     },
     "execution_count": 1277,
     "metadata": {},
     "output_type": "execute_result"
    }
   ],
   "source": [
    "# Model accuracy\n",
    "metrics.accuracy_score(y_train_pred_final.Converted, y_train_pred_final.Predicted)"
   ]
  },
  {
   "cell_type": "markdown",
   "metadata": {},
   "source": [
    "### Accuracy of the model in 79 percent which can be considered good.\n",
    "However, we know that from business point of view accuracy is always not a good choice for model evaluation"
   ]
  },
  {
   "cell_type": "code",
   "execution_count": 1278,
   "metadata": {},
   "outputs": [],
   "source": [
    "# Calculating value of true positive\n",
    "TP = confusion[1,1]\n",
    "# Calculating value of true negatives\n",
    "TN = confusion[0,0]\n",
    "# Calculating value of false positives\n",
    "FP = confusion[0,1] \n",
    "# Calculating value of false negatives\n",
    "FN = confusion[1,0]"
   ]
  },
  {
   "cell_type": "code",
   "execution_count": 1279,
   "metadata": {},
   "outputs": [
    {
     "data": {
      "text/plain": [
       "0.6746331236897275"
      ]
     },
     "execution_count": 1279,
     "metadata": {},
     "output_type": "execute_result"
    }
   ],
   "source": [
    "# Calculating the sensitivity\n",
    "TP/(TP+FN)"
   ]
  },
  {
   "cell_type": "markdown",
   "metadata": {},
   "source": [
    "As we can see from the above that sensitivity of the model is very less i.e. our model was able to detect only 67% of total positives with 0.5 prob cut off"
   ]
  },
  {
   "cell_type": "code",
   "execution_count": 1280,
   "metadata": {},
   "outputs": [
    {
     "data": {
      "text/plain": [
       "0.8740340030911901"
      ]
     },
     "execution_count": 1280,
     "metadata": {},
     "output_type": "execute_result"
    }
   ],
   "source": [
    "# Calculating the specificity\n",
    "TN/(TN+FP)"
   ]
  },
  {
   "cell_type": "markdown",
   "metadata": {},
   "source": [
    "As we can see that specificity of model is good at 87%. However, we are more interested in sensitivity so we will have to revise out prob cutoff.\n",
    "Before that we will just take a look at ROC curve"
   ]
  },
  {
   "cell_type": "code",
   "execution_count": 1281,
   "metadata": {},
   "outputs": [],
   "source": [
    "def draw_roc( actual, probs ):\n",
    "    fpr, tpr, thresholds = metrics.roc_curve( actual, probs,\n",
    "                                              drop_intermediate = False )\n",
    "    auc_score = metrics.roc_auc_score( actual, probs )\n",
    "    plt.figure(figsize=(5, 5))\n",
    "    plt.plot( fpr, tpr, label='ROC curve (area = %0.2f)' % auc_score )\n",
    "    plt.plot([0, 1], [0, 1], 'k--')\n",
    "    plt.xlim([0.0, 1.0])\n",
    "    plt.ylim([0.0, 1.05])\n",
    "    plt.xlabel('False Positive Rate or [1 - True Negative Rate]')\n",
    "    plt.ylabel('True Positive Rate')\n",
    "    plt.title('Receiver operating characteristic example')\n",
    "    plt.legend(loc=\"lower right\")\n",
    "    plt.show()\n",
    "\n",
    "    return None"
   ]
  },
  {
   "cell_type": "code",
   "execution_count": 1282,
   "metadata": {},
   "outputs": [],
   "source": [
    "fpr, tpr, thresholds = metrics.roc_curve( y_train_pred_final.Converted, y_train_pred_final.Conversion_Prob, drop_intermediate = False )"
   ]
  },
  {
   "cell_type": "code",
   "execution_count": 1283,
   "metadata": {},
   "outputs": [
    {
     "data": {
      "image/png": "[encoded data removed]",
      "text/plain": [
       "<Figure size 360x360 with 1 Axes>"
      ]
     },
     "metadata": {},
     "output_type": "display_data"
    }
   ],
   "source": [
    "# Call the ROC function\n",
    "draw_roc(y_train_pred_final.Converted, y_train_pred_final.Conversion_Prob)"
   ]
  },
  {
   "cell_type": "markdown",
   "metadata": {},
   "source": [
    "#### Finding the optimal P value"
   ]
  },
  {
   "cell_type": "code",
   "execution_count": 1284,
   "metadata": {},
   "outputs": [
    {
     "data": {
      "text/html": [
       "<div>\n",
       "<style scoped>\n",
       "    .dataframe tbody tr th:only-of-type {\n",
       "        vertical-align: middle;\n",
       "    }\n",
       "\n",
       "    .dataframe tbody tr th {\n",
       "        vertical-align: top;\n",
       "    }\n",
       "\n",
       "    .dataframe thead th {\n",
       "        text-align: right;\n",
       "    }\n",
       "</style>\n",
       "<table border=\"1\" class=\"dataframe\">\n",
       "  <thead>\n",
       "    <tr style=\"text-align: right;\">\n",
       "      <th></th>\n",
       "      <th>Converted</th>\n",
       "      <th>Conversion_Prob</th>\n",
       "      <th>Predicted</th>\n",
       "      <th>0.0</th>\n",
       "      <th>0.1</th>\n",
       "      <th>0.2</th>\n",
       "      <th>0.3</th>\n",
       "      <th>0.4</th>\n",
       "      <th>0.5</th>\n",
       "      <th>0.6</th>\n",
       "      <th>0.7</th>\n",
       "      <th>0.8</th>\n",
       "      <th>0.9</th>\n",
       "    </tr>\n",
       "  </thead>\n",
       "  <tbody>\n",
       "    <tr>\n",
       "      <th>0</th>\n",
       "      <td>1</td>\n",
       "      <td>0.90</td>\n",
       "      <td>1</td>\n",
       "      <td>1</td>\n",
       "      <td>1</td>\n",
       "      <td>1</td>\n",
       "      <td>1</td>\n",
       "      <td>1</td>\n",
       "      <td>1</td>\n",
       "      <td>1</td>\n",
       "      <td>1</td>\n",
       "      <td>1</td>\n",
       "      <td>0</td>\n",
       "    </tr>\n",
       "    <tr>\n",
       "      <th>1</th>\n",
       "      <td>0</td>\n",
       "      <td>0.52</td>\n",
       "      <td>1</td>\n",
       "      <td>1</td>\n",
       "      <td>1</td>\n",
       "      <td>1</td>\n",
       "      <td>1</td>\n",
       "      <td>1</td>\n",
       "      <td>1</td>\n",
       "      <td>0</td>\n",
       "      <td>0</td>\n",
       "      <td>0</td>\n",
       "      <td>0</td>\n",
       "    </tr>\n",
       "    <tr>\n",
       "      <th>2</th>\n",
       "      <td>0</td>\n",
       "      <td>0.37</td>\n",
       "      <td>0</td>\n",
       "      <td>1</td>\n",
       "      <td>1</td>\n",
       "      <td>1</td>\n",
       "      <td>1</td>\n",
       "      <td>0</td>\n",
       "      <td>0</td>\n",
       "      <td>0</td>\n",
       "      <td>0</td>\n",
       "      <td>0</td>\n",
       "      <td>0</td>\n",
       "    </tr>\n",
       "    <tr>\n",
       "      <th>3</th>\n",
       "      <td>0</td>\n",
       "      <td>0.03</td>\n",
       "      <td>0</td>\n",
       "      <td>1</td>\n",
       "      <td>0</td>\n",
       "      <td>0</td>\n",
       "      <td>0</td>\n",
       "      <td>0</td>\n",
       "      <td>0</td>\n",
       "      <td>0</td>\n",
       "      <td>0</td>\n",
       "      <td>0</td>\n",
       "      <td>0</td>\n",
       "    </tr>\n",
       "    <tr>\n",
       "      <th>4</th>\n",
       "      <td>1</td>\n",
       "      <td>0.58</td>\n",
       "      <td>1</td>\n",
       "      <td>1</td>\n",
       "      <td>1</td>\n",
       "      <td>1</td>\n",
       "      <td>1</td>\n",
       "      <td>1</td>\n",
       "      <td>1</td>\n",
       "      <td>0</td>\n",
       "      <td>0</td>\n",
       "      <td>0</td>\n",
       "      <td>0</td>\n",
       "    </tr>\n",
       "  </tbody>\n",
       "</table>\n",
       "</div>"
      ],
      "text/plain": [
       "   Converted  Conversion_Prob  Predicted  0.0  0.1  0.2  0.3  0.4  0.5  0.6  \\\n",
       "0          1             0.90          1    1    1    1    1    1    1    1   \n",
       "1          0             0.52          1    1    1    1    1    1    1    0   \n",
       "2          0             0.37          0    1    1    1    1    0    0    0   \n",
       "3          0             0.03          0    1    0    0    0    0    0    0   \n",
       "4          1             0.58          1    1    1    1    1    1    1    0   \n",
       "\n",
       "   0.7  0.8  0.9  \n",
       "0    1    1    0  \n",
       "1    0    0    0  \n",
       "2    0    0    0  \n",
       "3    0    0    0  \n",
       "4    0    0    0  "
      ]
     },
     "execution_count": 1284,
     "metadata": {},
     "output_type": "execute_result"
    }
   ],
   "source": [
    "# Creating columns with different probability cutoffs \n",
    "numbers = [float(x)/10 for x in range(10)]\n",
    "for i in numbers:\n",
    "    y_train_pred_final[i]= y_train_pred_final.Conversion_Prob.map(lambda x: 1 if x > i else 0)\n",
    "y_train_pred_final.head()"
   ]
  },
  {
   "cell_type": "code",
   "execution_count": 1285,
   "metadata": {},
   "outputs": [
    {
     "data": {
      "text/html": [
       "<div>\n",
       "<style scoped>\n",
       "    .dataframe tbody tr th:only-of-type {\n",
       "        vertical-align: middle;\n",
       "    }\n",
       "\n",
       "    .dataframe tbody tr th {\n",
       "        vertical-align: top;\n",
       "    }\n",
       "\n",
       "    .dataframe thead th {\n",
       "        text-align: right;\n",
       "    }\n",
       "</style>\n",
       "<table border=\"1\" class=\"dataframe\">\n",
       "  <thead>\n",
       "    <tr style=\"text-align: right;\">\n",
       "      <th></th>\n",
       "      <th>prob</th>\n",
       "      <th>accuracy</th>\n",
       "      <th>sensi</th>\n",
       "      <th>speci</th>\n",
       "      <th>precision</th>\n",
       "      <th>recall</th>\n",
       "    </tr>\n",
       "  </thead>\n",
       "  <tbody>\n",
       "    <tr>\n",
       "      <th>0.00</th>\n",
       "      <td>0.00</td>\n",
       "      <td>0.38</td>\n",
       "      <td>1.00</td>\n",
       "      <td>0.00</td>\n",
       "      <td>0.38</td>\n",
       "      <td>1.00</td>\n",
       "    </tr>\n",
       "    <tr>\n",
       "      <th>0.10</th>\n",
       "      <td>0.10</td>\n",
       "      <td>0.57</td>\n",
       "      <td>0.97</td>\n",
       "      <td>0.33</td>\n",
       "      <td>0.47</td>\n",
       "      <td>0.97</td>\n",
       "    </tr>\n",
       "    <tr>\n",
       "      <th>0.20</th>\n",
       "      <td>0.20</td>\n",
       "      <td>0.71</td>\n",
       "      <td>0.92</td>\n",
       "      <td>0.58</td>\n",
       "      <td>0.57</td>\n",
       "      <td>0.92</td>\n",
       "    </tr>\n",
       "    <tr>\n",
       "      <th>0.30</th>\n",
       "      <td>0.30</td>\n",
       "      <td>0.78</td>\n",
       "      <td>0.84</td>\n",
       "      <td>0.74</td>\n",
       "      <td>0.67</td>\n",
       "      <td>0.84</td>\n",
       "    </tr>\n",
       "    <tr>\n",
       "      <th>0.40</th>\n",
       "      <td>0.40</td>\n",
       "      <td>0.79</td>\n",
       "      <td>0.75</td>\n",
       "      <td>0.82</td>\n",
       "      <td>0.72</td>\n",
       "      <td>0.75</td>\n",
       "    </tr>\n",
       "    <tr>\n",
       "      <th>0.50</th>\n",
       "      <td>0.50</td>\n",
       "      <td>0.80</td>\n",
       "      <td>0.67</td>\n",
       "      <td>0.87</td>\n",
       "      <td>0.77</td>\n",
       "      <td>0.67</td>\n",
       "    </tr>\n",
       "    <tr>\n",
       "      <th>0.60</th>\n",
       "      <td>0.60</td>\n",
       "      <td>0.78</td>\n",
       "      <td>0.56</td>\n",
       "      <td>0.92</td>\n",
       "      <td>0.81</td>\n",
       "      <td>0.56</td>\n",
       "    </tr>\n",
       "    <tr>\n",
       "      <th>0.70</th>\n",
       "      <td>0.70</td>\n",
       "      <td>0.76</td>\n",
       "      <td>0.46</td>\n",
       "      <td>0.95</td>\n",
       "      <td>0.85</td>\n",
       "      <td>0.46</td>\n",
       "    </tr>\n",
       "    <tr>\n",
       "      <th>0.80</th>\n",
       "      <td>0.80</td>\n",
       "      <td>0.73</td>\n",
       "      <td>0.35</td>\n",
       "      <td>0.97</td>\n",
       "      <td>0.87</td>\n",
       "      <td>0.35</td>\n",
       "    </tr>\n",
       "    <tr>\n",
       "      <th>0.90</th>\n",
       "      <td>0.90</td>\n",
       "      <td>0.69</td>\n",
       "      <td>0.20</td>\n",
       "      <td>0.99</td>\n",
       "      <td>0.92</td>\n",
       "      <td>0.20</td>\n",
       "    </tr>\n",
       "  </tbody>\n",
       "</table>\n",
       "</div>"
      ],
      "text/plain": [
       "      prob  accuracy  sensi  speci  precision  recall\n",
       "0.00  0.00      0.38   1.00   0.00       0.38    1.00\n",
       "0.10  0.10      0.57   0.97   0.33       0.47    0.97\n",
       "0.20  0.20      0.71   0.92   0.58       0.57    0.92\n",
       "0.30  0.30      0.78   0.84   0.74       0.67    0.84\n",
       "0.40  0.40      0.79   0.75   0.82       0.72    0.75\n",
       "0.50  0.50      0.80   0.67   0.87       0.77    0.67\n",
       "0.60  0.60      0.78   0.56   0.92       0.81    0.56\n",
       "0.70  0.70      0.76   0.46   0.95       0.85    0.46\n",
       "0.80  0.80      0.73   0.35   0.97       0.87    0.35\n",
       "0.90  0.90      0.69   0.20   0.99       0.92    0.20"
      ]
     },
     "execution_count": 1285,
     "metadata": {},
     "output_type": "execute_result"
    }
   ],
   "source": [
    "# Creating a dataframe to see the values of accuracy, sensitivity, and specificity at different values of probabiity cutoffs\n",
    "cutoff_df = pd.DataFrame( columns = ['prob','accuracy','sensi','speci','precision','recall'])\n",
    "# Making confusion matrix to find values of sensitivity, accuracy and specificity value for diff probablity\n",
    "from sklearn.metrics import confusion_matrix\n",
    "num = [0.0,0.1,0.2,0.3,0.4,0.5,0.6,0.7,0.8,0.9]\n",
    "for i in num:\n",
    "    confusion_mat = metrics.confusion_matrix(y_train_pred_final.Converted, y_train_pred_final[i] )\n",
    "    total=sum(sum(confusion_mat))\n",
    "    accuracy = (confusion_mat[0,0]+confusion_mat[1,1])/total\n",
    "    \n",
    "    speci = confusion_mat[0,0]/(confusion_mat[0,0]+confusion_mat[0,1])\n",
    "    sensi = confusion_mat[1,1]/(confusion_mat[1,0]+confusion_mat[1,1])\n",
    "    precision = confusion_mat[1,1]/(confusion_mat[0,1]+confusion_mat[1,1])\n",
    "    recall = confusion_mat[1,1]/(confusion_mat[1,0]+confusion_mat[1,1])\n",
    "    cutoff_df.loc[i] =[ i ,accuracy,sensi,speci,precision,recall]\n",
    "cutoff_df"
   ]
  },
  {
   "cell_type": "markdown",
   "metadata": {},
   "source": [
    "#### Plotting the accuracy, sensitivity and specificity for difft prob values"
   ]
  },
  {
   "cell_type": "code",
   "execution_count": 1286,
   "metadata": {},
   "outputs": [
    {
     "data": {
      "image/png": "[encoded data removed]",
      "text/plain": [
       "<Figure size 720x432 with 1 Axes>"
      ]
     },
     "metadata": {},
     "output_type": "display_data"
    }
   ],
   "source": [
    "sns.set_style(\"whitegrid\")\n",
    "sns.set_context(\"paper\")\n",
    "cutoff_df.plot.line(x='prob', y=['accuracy','sensi','speci'], figsize=(10,6))\n",
    "plt.xticks(np.arange(0, 1, step=0.05), size = 12)\n",
    "plt.yticks(size = 12)\n",
    "plt.show()\n"
   ]
  },
  {
   "cell_type": "markdown",
   "metadata": {},
   "source": [
    "#### As we can see from the above plot that P=0.34 look to be optimal value for probabilty. So we will not again predict based on new prob  cutoff of 0.33"
   ]
  },
  {
   "cell_type": "code",
   "execution_count": 1287,
   "metadata": {
    "scrolled": false
   },
   "outputs": [
    {
     "data": {
      "image/png": "[encoded data removed]",
      "text/plain": [
       "<Figure size 720x432 with 1 Axes>"
      ]
     },
     "metadata": {},
     "output_type": "display_data"
    }
   ],
   "source": [
    "sns.set_style(\"whitegrid\")\n",
    "sns.set_context(\"paper\")\n",
    "cutoff_df.plot.line(x='prob', y=['accuracy','precision','recall'], figsize=(10,6))\n",
    "plt.xticks(np.arange(0, 1, step=0.05), size = 12)\n",
    "plt.yticks(size = 12)\n",
    "plt.show()"
   ]
  },
  {
   "cell_type": "code",
   "execution_count": 1288,
   "metadata": {
    "scrolled": false
   },
   "outputs": [
    {
     "data": {
      "text/html": [
       "<div>\n",
       "<style scoped>\n",
       "    .dataframe tbody tr th:only-of-type {\n",
       "        vertical-align: middle;\n",
       "    }\n",
       "\n",
       "    .dataframe tbody tr th {\n",
       "        vertical-align: top;\n",
       "    }\n",
       "\n",
       "    .dataframe thead th {\n",
       "        text-align: right;\n",
       "    }\n",
       "</style>\n",
       "<table border=\"1\" class=\"dataframe\">\n",
       "  <thead>\n",
       "    <tr style=\"text-align: right;\">\n",
       "      <th></th>\n",
       "      <th>Converted</th>\n",
       "      <th>Conversion_Prob</th>\n",
       "      <th>Predicted</th>\n",
       "      <th>0.0</th>\n",
       "      <th>0.1</th>\n",
       "      <th>0.2</th>\n",
       "      <th>0.3</th>\n",
       "      <th>0.4</th>\n",
       "      <th>0.5</th>\n",
       "      <th>0.6</th>\n",
       "      <th>0.7</th>\n",
       "      <th>0.8</th>\n",
       "      <th>0.9</th>\n",
       "      <th>final_predicted</th>\n",
       "    </tr>\n",
       "  </thead>\n",
       "  <tbody>\n",
       "    <tr>\n",
       "      <th>0</th>\n",
       "      <td>1</td>\n",
       "      <td>0.90</td>\n",
       "      <td>1</td>\n",
       "      <td>1</td>\n",
       "      <td>1</td>\n",
       "      <td>1</td>\n",
       "      <td>1</td>\n",
       "      <td>1</td>\n",
       "      <td>1</td>\n",
       "      <td>1</td>\n",
       "      <td>1</td>\n",
       "      <td>1</td>\n",
       "      <td>0</td>\n",
       "      <td>1</td>\n",
       "    </tr>\n",
       "    <tr>\n",
       "      <th>1</th>\n",
       "      <td>0</td>\n",
       "      <td>0.52</td>\n",
       "      <td>1</td>\n",
       "      <td>1</td>\n",
       "      <td>1</td>\n",
       "      <td>1</td>\n",
       "      <td>1</td>\n",
       "      <td>1</td>\n",
       "      <td>1</td>\n",
       "      <td>0</td>\n",
       "      <td>0</td>\n",
       "      <td>0</td>\n",
       "      <td>0</td>\n",
       "      <td>1</td>\n",
       "    </tr>\n",
       "    <tr>\n",
       "      <th>2</th>\n",
       "      <td>0</td>\n",
       "      <td>0.37</td>\n",
       "      <td>0</td>\n",
       "      <td>1</td>\n",
       "      <td>1</td>\n",
       "      <td>1</td>\n",
       "      <td>1</td>\n",
       "      <td>0</td>\n",
       "      <td>0</td>\n",
       "      <td>0</td>\n",
       "      <td>0</td>\n",
       "      <td>0</td>\n",
       "      <td>0</td>\n",
       "      <td>1</td>\n",
       "    </tr>\n",
       "    <tr>\n",
       "      <th>3</th>\n",
       "      <td>0</td>\n",
       "      <td>0.03</td>\n",
       "      <td>0</td>\n",
       "      <td>1</td>\n",
       "      <td>0</td>\n",
       "      <td>0</td>\n",
       "      <td>0</td>\n",
       "      <td>0</td>\n",
       "      <td>0</td>\n",
       "      <td>0</td>\n",
       "      <td>0</td>\n",
       "      <td>0</td>\n",
       "      <td>0</td>\n",
       "      <td>0</td>\n",
       "    </tr>\n",
       "    <tr>\n",
       "      <th>4</th>\n",
       "      <td>1</td>\n",
       "      <td>0.58</td>\n",
       "      <td>1</td>\n",
       "      <td>1</td>\n",
       "      <td>1</td>\n",
       "      <td>1</td>\n",
       "      <td>1</td>\n",
       "      <td>1</td>\n",
       "      <td>1</td>\n",
       "      <td>0</td>\n",
       "      <td>0</td>\n",
       "      <td>0</td>\n",
       "      <td>0</td>\n",
       "      <td>1</td>\n",
       "    </tr>\n",
       "  </tbody>\n",
       "</table>\n",
       "</div>"
      ],
      "text/plain": [
       "   Converted  Conversion_Prob  Predicted  0.0  0.1  0.2  0.3  0.4  0.5  0.6  \\\n",
       "0          1             0.90          1    1    1    1    1    1    1    1   \n",
       "1          0             0.52          1    1    1    1    1    1    1    0   \n",
       "2          0             0.37          0    1    1    1    1    0    0    0   \n",
       "3          0             0.03          0    1    0    0    0    0    0    0   \n",
       "4          1             0.58          1    1    1    1    1    1    1    0   \n",
       "\n",
       "   0.7  0.8  0.9  final_predicted  \n",
       "0    1    1    0                1  \n",
       "1    0    0    0                1  \n",
       "2    0    0    0                1  \n",
       "3    0    0    0                0  \n",
       "4    0    0    0                1  "
      ]
     },
     "execution_count": 1288,
     "metadata": {},
     "output_type": "execute_result"
    }
   ],
   "source": [
    "y_train_pred_final['final_predicted'] = y_train_pred_final.Conversion_Prob.map( lambda x: 1 if x > 0.34 else 0)\n",
    "y_train_pred_final.head()"
   ]
  },
  {
   "cell_type": "code",
   "execution_count": 1289,
   "metadata": {},
   "outputs": [
    {
     "data": {
      "text/plain": [
       "0.784585926280517"
      ]
     },
     "execution_count": 1289,
     "metadata": {},
     "output_type": "execute_result"
    }
   ],
   "source": [
    "# Check the overall accuracy\n",
    "metrics.accuracy_score(y_train_pred_final.Converted, y_train_pred_final.final_predicted)"
   ]
  },
  {
   "cell_type": "code",
   "execution_count": 1290,
   "metadata": {},
   "outputs": [
    {
     "data": {
      "text/plain": [
       "array([[2989,  893],\n",
       "       [ 457, 1928]], dtype=int64)"
      ]
     },
     "execution_count": 1290,
     "metadata": {},
     "output_type": "execute_result"
    }
   ],
   "source": [
    "# Creating confusion matrix \n",
    "confusion2 = metrics.confusion_matrix(y_train_pred_final.Converted, y_train_pred_final.final_predicted )\n",
    "confusion2"
   ]
  },
  {
   "cell_type": "code",
   "execution_count": 1291,
   "metadata": {},
   "outputs": [],
   "source": [
    "# Calculating value of true positive\n",
    "TP = confusion2[1,1]\n",
    "# Calculating value of true negatives\n",
    "TN = confusion2[0,0]\n",
    "# Calculating value of false positives\n",
    "FP = confusion2[0,1] \n",
    "# Calculating the value of false negatives\n",
    "FN = confusion2[1,0]"
   ]
  },
  {
   "cell_type": "code",
   "execution_count": 1292,
   "metadata": {},
   "outputs": [
    {
     "data": {
      "text/plain": [
       "0.8083857442348008"
      ]
     },
     "execution_count": 1292,
     "metadata": {},
     "output_type": "execute_result"
    }
   ],
   "source": [
    "# Calculating the sensitivity\n",
    "TP/(TP+FN)"
   ]
  },
  {
   "cell_type": "code",
   "execution_count": 1293,
   "metadata": {
    "scrolled": true
   },
   "outputs": [
    {
     "data": {
      "text/plain": [
       "0.7699639361154045"
      ]
     },
     "execution_count": 1293,
     "metadata": {},
     "output_type": "execute_result"
    }
   ],
   "source": [
    "# Calculating the specificity\n",
    "TN/(TN+FP)"
   ]
  },
  {
   "cell_type": "code",
   "execution_count": 1294,
   "metadata": {},
   "outputs": [
    {
     "data": {
      "image/png": "[encoded data removed]",
      "text/plain": [
       "<Figure size 360x360 with 1 Axes>"
      ]
     },
     "metadata": {},
     "output_type": "display_data"
    }
   ],
   "source": [
    "# checking ROC Curve\n",
    "draw_roc(y_train_pred_final.Converted, y_train_pred_final.final_predicted)"
   ]
  },
  {
   "cell_type": "markdown",
   "metadata": {},
   "source": [
    "Observation:\n",
    "So as we can see above the model seems to be performing well. The ROC curve has a value of 0.80, which is very good. We have the following values for the Train Data:\n",
    "\n",
    "Accuracy : 78.45%\n",
    "Sensitivity : 80.83%\n",
    "Specificity : 76.99%"
   ]
  },
  {
   "cell_type": "code",
   "execution_count": 1295,
   "metadata": {},
   "outputs": [
    {
     "data": {
      "text/plain": [
       "0.6834455866713931"
      ]
     },
     "execution_count": 1295,
     "metadata": {},
     "output_type": "execute_result"
    }
   ],
   "source": [
    "# Precision\n",
    "TP/(TP+FP)"
   ]
  },
  {
   "cell_type": "markdown",
   "metadata": {},
   "source": [
    "##### As we are looking for a model wherein the model is able to predict the conversion cases in most of the cases so we will try for higher precision value.\n",
    "##### So we will take 0.35 as cut off so that precision rate of our model will be almost 70% i.e. there is 0.70 probability that student predicted as converted by model will get actually converted"
   ]
  },
  {
   "cell_type": "code",
   "execution_count": 1296,
   "metadata": {},
   "outputs": [
    {
     "data": {
      "text/plain": [
       "0.8083857442348008"
      ]
     },
     "execution_count": 1296,
     "metadata": {},
     "output_type": "execute_result"
    }
   ],
   "source": [
    "#Recall\n",
    "TP/(TP+FN)"
   ]
  },
  {
   "cell_type": "code",
   "execution_count": 1297,
   "metadata": {},
   "outputs": [
    {
     "data": {
      "text/plain": [
       "Index([      'Converted', 'Conversion_Prob',       'Predicted',\n",
       "                     0.0,               0.1,               0.2,\n",
       "                     0.3,               0.4,               0.5,\n",
       "                     0.6,               0.7,               0.8,\n",
       "                     0.9, 'final_predicted'],\n",
       "      dtype='object')"
      ]
     },
     "execution_count": 1297,
     "metadata": {},
     "output_type": "execute_result"
    }
   ],
   "source": [
    "y_train_pred_final.columns"
   ]
  },
  {
   "cell_type": "markdown",
   "metadata": {},
   "source": [
    "#### Now we will drop the some column from y_train_pred_final for easy conacating of test and train data in future."
   ]
  },
  {
   "cell_type": "code",
   "execution_count": 1298,
   "metadata": {},
   "outputs": [
    {
     "data": {
      "text/html": [
       "<div>\n",
       "<style scoped>\n",
       "    .dataframe tbody tr th:only-of-type {\n",
       "        vertical-align: middle;\n",
       "    }\n",
       "\n",
       "    .dataframe tbody tr th {\n",
       "        vertical-align: top;\n",
       "    }\n",
       "\n",
       "    .dataframe thead th {\n",
       "        text-align: right;\n",
       "    }\n",
       "</style>\n",
       "<table border=\"1\" class=\"dataframe\">\n",
       "  <thead>\n",
       "    <tr style=\"text-align: right;\">\n",
       "      <th></th>\n",
       "      <th>Converted</th>\n",
       "      <th>Conversion_Prob</th>\n",
       "      <th>Predicted</th>\n",
       "    </tr>\n",
       "  </thead>\n",
       "  <tbody>\n",
       "    <tr>\n",
       "      <th>0</th>\n",
       "      <td>1</td>\n",
       "      <td>0.90</td>\n",
       "      <td>1</td>\n",
       "    </tr>\n",
       "    <tr>\n",
       "      <th>1</th>\n",
       "      <td>0</td>\n",
       "      <td>0.52</td>\n",
       "      <td>1</td>\n",
       "    </tr>\n",
       "    <tr>\n",
       "      <th>2</th>\n",
       "      <td>0</td>\n",
       "      <td>0.37</td>\n",
       "      <td>1</td>\n",
       "    </tr>\n",
       "    <tr>\n",
       "      <th>3</th>\n",
       "      <td>0</td>\n",
       "      <td>0.03</td>\n",
       "      <td>0</td>\n",
       "    </tr>\n",
       "    <tr>\n",
       "      <th>4</th>\n",
       "      <td>1</td>\n",
       "      <td>0.58</td>\n",
       "      <td>1</td>\n",
       "    </tr>\n",
       "    <tr>\n",
       "      <th>...</th>\n",
       "      <td>...</td>\n",
       "      <td>...</td>\n",
       "      <td>...</td>\n",
       "    </tr>\n",
       "    <tr>\n",
       "      <th>6262</th>\n",
       "      <td>1</td>\n",
       "      <td>0.09</td>\n",
       "      <td>0</td>\n",
       "    </tr>\n",
       "    <tr>\n",
       "      <th>6263</th>\n",
       "      <td>1</td>\n",
       "      <td>0.39</td>\n",
       "      <td>1</td>\n",
       "    </tr>\n",
       "    <tr>\n",
       "      <th>6264</th>\n",
       "      <td>0</td>\n",
       "      <td>0.15</td>\n",
       "      <td>0</td>\n",
       "    </tr>\n",
       "    <tr>\n",
       "      <th>6265</th>\n",
       "      <td>0</td>\n",
       "      <td>0.25</td>\n",
       "      <td>0</td>\n",
       "    </tr>\n",
       "    <tr>\n",
       "      <th>6266</th>\n",
       "      <td>1</td>\n",
       "      <td>0.97</td>\n",
       "      <td>1</td>\n",
       "    </tr>\n",
       "  </tbody>\n",
       "</table>\n",
       "<p>6267 rows × 3 columns</p>\n",
       "</div>"
      ],
      "text/plain": [
       "      Converted  Conversion_Prob  Predicted\n",
       "0             1             0.90          1\n",
       "1             0             0.52          1\n",
       "2             0             0.37          1\n",
       "3             0             0.03          0\n",
       "4             1             0.58          1\n",
       "...         ...              ...        ...\n",
       "6262          1             0.09          0\n",
       "6263          1             0.39          1\n",
       "6264          0             0.15          0\n",
       "6265          0             0.25          0\n",
       "6266          1             0.97          1\n",
       "\n",
       "[6267 rows x 3 columns]"
      ]
     },
     "execution_count": 1298,
     "metadata": {},
     "output_type": "execute_result"
    }
   ],
   "source": [
    "y_train_pred_final.drop(['Predicted',0.0,0.1,0.2,0.3,0.4,0.5,0.6,0.7,0.8,0.9],axis=1,inplace=True)\n",
    "y_train_pred_final.columns = ['Converted','Conversion_Prob','Predicted']\n",
    "y_train_pred_final"
   ]
  },
  {
   "cell_type": "markdown",
   "metadata": {},
   "source": [
    "### Running the model on Test Data"
   ]
  },
  {
   "cell_type": "code",
   "execution_count": 1299,
   "metadata": {},
   "outputs": [
    {
     "data": {
      "text/html": [
       "<div>\n",
       "<style scoped>\n",
       "    .dataframe tbody tr th:only-of-type {\n",
       "        vertical-align: middle;\n",
       "    }\n",
       "\n",
       "    .dataframe tbody tr th {\n",
       "        vertical-align: top;\n",
       "    }\n",
       "\n",
       "    .dataframe thead th {\n",
       "        text-align: right;\n",
       "    }\n",
       "</style>\n",
       "<table border=\"1\" class=\"dataframe\">\n",
       "  <thead>\n",
       "    <tr style=\"text-align: right;\">\n",
       "      <th></th>\n",
       "      <th>TotalVisits</th>\n",
       "      <th>Total Time Spent on Website</th>\n",
       "      <th>Page Views Per Visit</th>\n",
       "      <th>Lead Origin_landing page submission</th>\n",
       "      <th>Lead Origin_lead add form</th>\n",
       "      <th>Lead Origin_lead import</th>\n",
       "      <th>Lead Source_google</th>\n",
       "      <th>Lead Source_live chat</th>\n",
       "      <th>Lead Source_olark chat</th>\n",
       "      <th>Lead Source_organic search</th>\n",
       "      <th>...</th>\n",
       "      <th>What is your current occupation_other</th>\n",
       "      <th>What is your current occupation_student</th>\n",
       "      <th>What is your current occupation_unemployed</th>\n",
       "      <th>What is your current occupation_working professional</th>\n",
       "      <th>Search_yes</th>\n",
       "      <th>Newspaper Article_yes</th>\n",
       "      <th>Newspaper_yes</th>\n",
       "      <th>Digital Advertisement_yes</th>\n",
       "      <th>Through Recommendations_yes</th>\n",
       "      <th>A free copy of Mastering The Interview_yes</th>\n",
       "    </tr>\n",
       "  </thead>\n",
       "  <tbody>\n",
       "    <tr>\n",
       "      <th>7681</th>\n",
       "      <td>0.29</td>\n",
       "      <td>0.14</td>\n",
       "      <td>0.28</td>\n",
       "      <td>1</td>\n",
       "      <td>0</td>\n",
       "      <td>0</td>\n",
       "      <td>0</td>\n",
       "      <td>0</td>\n",
       "      <td>0</td>\n",
       "      <td>0</td>\n",
       "      <td>...</td>\n",
       "      <td>0</td>\n",
       "      <td>0</td>\n",
       "      <td>1</td>\n",
       "      <td>0</td>\n",
       "      <td>0</td>\n",
       "      <td>0</td>\n",
       "      <td>0</td>\n",
       "      <td>0</td>\n",
       "      <td>0</td>\n",
       "      <td>1</td>\n",
       "    </tr>\n",
       "    <tr>\n",
       "      <th>984</th>\n",
       "      <td>0.18</td>\n",
       "      <td>0.08</td>\n",
       "      <td>0.33</td>\n",
       "      <td>1</td>\n",
       "      <td>0</td>\n",
       "      <td>0</td>\n",
       "      <td>0</td>\n",
       "      <td>0</td>\n",
       "      <td>0</td>\n",
       "      <td>1</td>\n",
       "      <td>...</td>\n",
       "      <td>0</td>\n",
       "      <td>0</td>\n",
       "      <td>1</td>\n",
       "      <td>0</td>\n",
       "      <td>0</td>\n",
       "      <td>0</td>\n",
       "      <td>0</td>\n",
       "      <td>0</td>\n",
       "      <td>0</td>\n",
       "      <td>1</td>\n",
       "    </tr>\n",
       "    <tr>\n",
       "      <th>8135</th>\n",
       "      <td>0.12</td>\n",
       "      <td>0.40</td>\n",
       "      <td>0.22</td>\n",
       "      <td>1</td>\n",
       "      <td>0</td>\n",
       "      <td>0</td>\n",
       "      <td>0</td>\n",
       "      <td>0</td>\n",
       "      <td>0</td>\n",
       "      <td>0</td>\n",
       "      <td>...</td>\n",
       "      <td>0</td>\n",
       "      <td>0</td>\n",
       "      <td>1</td>\n",
       "      <td>0</td>\n",
       "      <td>0</td>\n",
       "      <td>0</td>\n",
       "      <td>0</td>\n",
       "      <td>0</td>\n",
       "      <td>0</td>\n",
       "      <td>1</td>\n",
       "    </tr>\n",
       "    <tr>\n",
       "      <th>6915</th>\n",
       "      <td>0.24</td>\n",
       "      <td>0.06</td>\n",
       "      <td>0.22</td>\n",
       "      <td>1</td>\n",
       "      <td>0</td>\n",
       "      <td>0</td>\n",
       "      <td>1</td>\n",
       "      <td>0</td>\n",
       "      <td>0</td>\n",
       "      <td>0</td>\n",
       "      <td>...</td>\n",
       "      <td>0</td>\n",
       "      <td>0</td>\n",
       "      <td>1</td>\n",
       "      <td>0</td>\n",
       "      <td>0</td>\n",
       "      <td>0</td>\n",
       "      <td>0</td>\n",
       "      <td>0</td>\n",
       "      <td>0</td>\n",
       "      <td>1</td>\n",
       "    </tr>\n",
       "    <tr>\n",
       "      <th>2712</th>\n",
       "      <td>0.18</td>\n",
       "      <td>0.11</td>\n",
       "      <td>0.33</td>\n",
       "      <td>0</td>\n",
       "      <td>0</td>\n",
       "      <td>0</td>\n",
       "      <td>1</td>\n",
       "      <td>0</td>\n",
       "      <td>0</td>\n",
       "      <td>0</td>\n",
       "      <td>...</td>\n",
       "      <td>0</td>\n",
       "      <td>0</td>\n",
       "      <td>1</td>\n",
       "      <td>0</td>\n",
       "      <td>0</td>\n",
       "      <td>0</td>\n",
       "      <td>0</td>\n",
       "      <td>0</td>\n",
       "      <td>0</td>\n",
       "      <td>0</td>\n",
       "    </tr>\n",
       "  </tbody>\n",
       "</table>\n",
       "<p>5 rows × 48 columns</p>\n",
       "</div>"
      ],
      "text/plain": [
       "      TotalVisits  Total Time Spent on Website  Page Views Per Visit  \\\n",
       "7681         0.29                         0.14                  0.28   \n",
       "984          0.18                         0.08                  0.33   \n",
       "8135         0.12                         0.40                  0.22   \n",
       "6915         0.24                         0.06                  0.22   \n",
       "2712         0.18                         0.11                  0.33   \n",
       "\n",
       "      Lead Origin_landing page submission  Lead Origin_lead add form  \\\n",
       "7681                                    1                          0   \n",
       "984                                     1                          0   \n",
       "8135                                    1                          0   \n",
       "6915                                    1                          0   \n",
       "2712                                    0                          0   \n",
       "\n",
       "      Lead Origin_lead import  Lead Source_google  Lead Source_live chat  \\\n",
       "7681                        0                   0                      0   \n",
       "984                         0                   0                      0   \n",
       "8135                        0                   0                      0   \n",
       "6915                        0                   1                      0   \n",
       "2712                        0                   1                      0   \n",
       "\n",
       "      Lead Source_olark chat  Lead Source_organic search  ...  \\\n",
       "7681                       0                           0  ...   \n",
       "984                        0                           1  ...   \n",
       "8135                       0                           0  ...   \n",
       "6915                       0                           0  ...   \n",
       "2712                       0                           0  ...   \n",
       "\n",
       "      What is your current occupation_other  \\\n",
       "7681                                      0   \n",
       "984                                       0   \n",
       "8135                                      0   \n",
       "6915                                      0   \n",
       "2712                                      0   \n",
       "\n",
       "      What is your current occupation_student  \\\n",
       "7681                                        0   \n",
       "984                                         0   \n",
       "8135                                        0   \n",
       "6915                                        0   \n",
       "2712                                        0   \n",
       "\n",
       "      What is your current occupation_unemployed  \\\n",
       "7681                                           1   \n",
       "984                                            1   \n",
       "8135                                           1   \n",
       "6915                                           1   \n",
       "2712                                           1   \n",
       "\n",
       "      What is your current occupation_working professional  Search_yes  \\\n",
       "7681                                                  0              0   \n",
       "984                                                   0              0   \n",
       "8135                                                  0              0   \n",
       "6915                                                  0              0   \n",
       "2712                                                  0              0   \n",
       "\n",
       "      Newspaper Article_yes  Newspaper_yes  Digital Advertisement_yes  \\\n",
       "7681                      0              0                          0   \n",
       "984                       0              0                          0   \n",
       "8135                      0              0                          0   \n",
       "6915                      0              0                          0   \n",
       "2712                      0              0                          0   \n",
       "\n",
       "      Through Recommendations_yes  A free copy of Mastering The Interview_yes  \n",
       "7681                            0                                           1  \n",
       "984                             0                                           1  \n",
       "8135                            0                                           1  \n",
       "6915                            0                                           1  \n",
       "2712                            0                                           0  \n",
       "\n",
       "[5 rows x 48 columns]"
      ]
     },
     "execution_count": 1299,
     "metadata": {},
     "output_type": "execute_result"
    }
   ],
   "source": [
    "#Step 1: Scaling numeric values in test data\n",
    "\n",
    "X_test[['TotalVisits', 'Page Views Per Visit', 'Total Time Spent on Website']] = scaler.transform(X_test[['TotalVisits', 'Page Views Per Visit', 'Total Time Spent on Website']])\n",
    "X_test.head()"
   ]
  },
  {
   "cell_type": "code",
   "execution_count": 1300,
   "metadata": {},
   "outputs": [
    {
     "data": {
      "text/html": [
       "<div>\n",
       "<style scoped>\n",
       "    .dataframe tbody tr th:only-of-type {\n",
       "        vertical-align: middle;\n",
       "    }\n",
       "\n",
       "    .dataframe tbody tr th {\n",
       "        vertical-align: top;\n",
       "    }\n",
       "\n",
       "    .dataframe thead th {\n",
       "        text-align: right;\n",
       "    }\n",
       "</style>\n",
       "<table border=\"1\" class=\"dataframe\">\n",
       "  <thead>\n",
       "    <tr style=\"text-align: right;\">\n",
       "      <th></th>\n",
       "      <th>TotalVisits</th>\n",
       "      <th>Total Time Spent on Website</th>\n",
       "      <th>Lead Origin_lead add form</th>\n",
       "      <th>Lead Source_olark chat</th>\n",
       "      <th>Lead Source_welingak website</th>\n",
       "      <th>Do Not Email_yes</th>\n",
       "      <th>Last Activity_email opened</th>\n",
       "      <th>Last Activity_olark chat conversation</th>\n",
       "      <th>Last Activity_others</th>\n",
       "      <th>Last Activity_sms sent</th>\n",
       "      <th>Specialization_Not Specified</th>\n",
       "    </tr>\n",
       "  </thead>\n",
       "  <tbody>\n",
       "    <tr>\n",
       "      <th>7681</th>\n",
       "      <td>0.29</td>\n",
       "      <td>0.14</td>\n",
       "      <td>0</td>\n",
       "      <td>0</td>\n",
       "      <td>0</td>\n",
       "      <td>0</td>\n",
       "      <td>0</td>\n",
       "      <td>0</td>\n",
       "      <td>0</td>\n",
       "      <td>1</td>\n",
       "      <td>0</td>\n",
       "    </tr>\n",
       "    <tr>\n",
       "      <th>984</th>\n",
       "      <td>0.18</td>\n",
       "      <td>0.08</td>\n",
       "      <td>0</td>\n",
       "      <td>0</td>\n",
       "      <td>0</td>\n",
       "      <td>0</td>\n",
       "      <td>0</td>\n",
       "      <td>0</td>\n",
       "      <td>0</td>\n",
       "      <td>1</td>\n",
       "      <td>0</td>\n",
       "    </tr>\n",
       "    <tr>\n",
       "      <th>8135</th>\n",
       "      <td>0.12</td>\n",
       "      <td>0.40</td>\n",
       "      <td>0</td>\n",
       "      <td>0</td>\n",
       "      <td>0</td>\n",
       "      <td>1</td>\n",
       "      <td>0</td>\n",
       "      <td>0</td>\n",
       "      <td>0</td>\n",
       "      <td>1</td>\n",
       "      <td>0</td>\n",
       "    </tr>\n",
       "    <tr>\n",
       "      <th>6915</th>\n",
       "      <td>0.24</td>\n",
       "      <td>0.06</td>\n",
       "      <td>0</td>\n",
       "      <td>0</td>\n",
       "      <td>0</td>\n",
       "      <td>0</td>\n",
       "      <td>1</td>\n",
       "      <td>0</td>\n",
       "      <td>0</td>\n",
       "      <td>0</td>\n",
       "      <td>0</td>\n",
       "    </tr>\n",
       "    <tr>\n",
       "      <th>2712</th>\n",
       "      <td>0.18</td>\n",
       "      <td>0.11</td>\n",
       "      <td>0</td>\n",
       "      <td>0</td>\n",
       "      <td>0</td>\n",
       "      <td>0</td>\n",
       "      <td>1</td>\n",
       "      <td>0</td>\n",
       "      <td>0</td>\n",
       "      <td>0</td>\n",
       "      <td>1</td>\n",
       "    </tr>\n",
       "  </tbody>\n",
       "</table>\n",
       "</div>"
      ],
      "text/plain": [
       "      TotalVisits  Total Time Spent on Website  Lead Origin_lead add form  \\\n",
       "7681         0.29                         0.14                          0   \n",
       "984          0.18                         0.08                          0   \n",
       "8135         0.12                         0.40                          0   \n",
       "6915         0.24                         0.06                          0   \n",
       "2712         0.18                         0.11                          0   \n",
       "\n",
       "      Lead Source_olark chat  Lead Source_welingak website  Do Not Email_yes  \\\n",
       "7681                       0                             0                 0   \n",
       "984                        0                             0                 0   \n",
       "8135                       0                             0                 1   \n",
       "6915                       0                             0                 0   \n",
       "2712                       0                             0                 0   \n",
       "\n",
       "      Last Activity_email opened  Last Activity_olark chat conversation  \\\n",
       "7681                           0                                      0   \n",
       "984                            0                                      0   \n",
       "8135                           0                                      0   \n",
       "6915                           1                                      0   \n",
       "2712                           1                                      0   \n",
       "\n",
       "      Last Activity_others  Last Activity_sms sent  \\\n",
       "7681                     0                       1   \n",
       "984                      0                       1   \n",
       "8135                     0                       1   \n",
       "6915                     0                       0   \n",
       "2712                     0                       0   \n",
       "\n",
       "      Specialization_Not Specified  \n",
       "7681                             0  \n",
       "984                              0  \n",
       "8135                             0  \n",
       "6915                             0  \n",
       "2712                             1  "
      ]
     },
     "execution_count": 1300,
     "metadata": {},
     "output_type": "execute_result"
    }
   ],
   "source": [
    "#Selecting only those features which are required for our model\n",
    "X_test = X_test[X_train.columns]\n",
    "X_test.head()"
   ]
  },
  {
   "cell_type": "code",
   "execution_count": 1301,
   "metadata": {},
   "outputs": [],
   "source": [
    "#Adding constant as per requirement of stats model and predicting values\n",
    "X_test_sm = sm.add_constant(X_test)\n",
    "y_test_pred = result.predict(X_test_sm)"
   ]
  },
  {
   "cell_type": "code",
   "execution_count": 1302,
   "metadata": {},
   "outputs": [
    {
     "data": {
      "text/plain": [
       "7681   0.47\n",
       "984    0.38\n",
       "8135   0.37\n",
       "6915   0.15\n",
       "2712   0.11\n",
       "dtype: float64"
      ]
     },
     "execution_count": 1302,
     "metadata": {},
     "output_type": "execute_result"
    }
   ],
   "source": [
    "y_test_pred.head()"
   ]
  },
  {
   "cell_type": "code",
   "execution_count": 1303,
   "metadata": {},
   "outputs": [
    {
     "data": {
      "text/plain": [
       "array([0.46688758, 0.38377789, 0.3730013 , ..., 0.18799065, 0.06740908,\n",
       "       0.46666877])"
      ]
     },
     "execution_count": 1303,
     "metadata": {},
     "output_type": "execute_result"
    }
   ],
   "source": [
    "#Repating the steps as done for train data\n",
    "# Reshaping it to array\n",
    "y_test_pred = y_test_pred.values.reshape(-1)\n",
    "y_test_pred"
   ]
  },
  {
   "cell_type": "code",
   "execution_count": 1304,
   "metadata": {},
   "outputs": [
    {
     "data": {
      "text/html": [
       "<div>\n",
       "<style scoped>\n",
       "    .dataframe tbody tr th:only-of-type {\n",
       "        vertical-align: middle;\n",
       "    }\n",
       "\n",
       "    .dataframe tbody tr th {\n",
       "        vertical-align: top;\n",
       "    }\n",
       "\n",
       "    .dataframe thead th {\n",
       "        text-align: right;\n",
       "    }\n",
       "</style>\n",
       "<table border=\"1\" class=\"dataframe\">\n",
       "  <thead>\n",
       "    <tr style=\"text-align: right;\">\n",
       "      <th></th>\n",
       "      <th>Converted</th>\n",
       "      <th>Conversion_Prob</th>\n",
       "    </tr>\n",
       "  </thead>\n",
       "  <tbody>\n",
       "    <tr>\n",
       "      <th>0</th>\n",
       "      <td>0</td>\n",
       "      <td>0.47</td>\n",
       "    </tr>\n",
       "    <tr>\n",
       "      <th>1</th>\n",
       "      <td>0</td>\n",
       "      <td>0.38</td>\n",
       "    </tr>\n",
       "    <tr>\n",
       "      <th>2</th>\n",
       "      <td>0</td>\n",
       "      <td>0.37</td>\n",
       "    </tr>\n",
       "    <tr>\n",
       "      <th>3</th>\n",
       "      <td>0</td>\n",
       "      <td>0.15</td>\n",
       "    </tr>\n",
       "    <tr>\n",
       "      <th>4</th>\n",
       "      <td>1</td>\n",
       "      <td>0.11</td>\n",
       "    </tr>\n",
       "  </tbody>\n",
       "</table>\n",
       "</div>"
      ],
      "text/plain": [
       "   Converted  Conversion_Prob\n",
       "0          0             0.47\n",
       "1          0             0.38\n",
       "2          0             0.37\n",
       "3          0             0.15\n",
       "4          1             0.11"
      ]
     },
     "execution_count": 1304,
     "metadata": {},
     "output_type": "execute_result"
    }
   ],
   "source": [
    "y_test_pred_final = pd.DataFrame({'Converted':y_test.values, 'Conversion_Prob':y_test_pred})\n",
    "y_test_pred_final.head()"
   ]
  },
  {
   "cell_type": "code",
   "execution_count": 1305,
   "metadata": {},
   "outputs": [
    {
     "data": {
      "text/html": [
       "<div>\n",
       "<style scoped>\n",
       "    .dataframe tbody tr th:only-of-type {\n",
       "        vertical-align: middle;\n",
       "    }\n",
       "\n",
       "    .dataframe tbody tr th {\n",
       "        vertical-align: top;\n",
       "    }\n",
       "\n",
       "    .dataframe thead th {\n",
       "        text-align: right;\n",
       "    }\n",
       "</style>\n",
       "<table border=\"1\" class=\"dataframe\">\n",
       "  <thead>\n",
       "    <tr style=\"text-align: right;\">\n",
       "      <th></th>\n",
       "      <th>Converted</th>\n",
       "      <th>Conversion_Prob</th>\n",
       "      <th>Predicted</th>\n",
       "    </tr>\n",
       "  </thead>\n",
       "  <tbody>\n",
       "    <tr>\n",
       "      <th>0</th>\n",
       "      <td>0</td>\n",
       "      <td>0.47</td>\n",
       "      <td>1</td>\n",
       "    </tr>\n",
       "    <tr>\n",
       "      <th>1</th>\n",
       "      <td>0</td>\n",
       "      <td>0.38</td>\n",
       "      <td>1</td>\n",
       "    </tr>\n",
       "    <tr>\n",
       "      <th>2</th>\n",
       "      <td>0</td>\n",
       "      <td>0.37</td>\n",
       "      <td>1</td>\n",
       "    </tr>\n",
       "    <tr>\n",
       "      <th>3</th>\n",
       "      <td>0</td>\n",
       "      <td>0.15</td>\n",
       "      <td>0</td>\n",
       "    </tr>\n",
       "    <tr>\n",
       "      <th>4</th>\n",
       "      <td>1</td>\n",
       "      <td>0.11</td>\n",
       "      <td>0</td>\n",
       "    </tr>\n",
       "  </tbody>\n",
       "</table>\n",
       "</div>"
      ],
      "text/plain": [
       "   Converted  Conversion_Prob  Predicted\n",
       "0          0             0.47          1\n",
       "1          0             0.38          1\n",
       "2          0             0.37          1\n",
       "3          0             0.15          0\n",
       "4          1             0.11          0"
      ]
     },
     "execution_count": 1305,
     "metadata": {},
     "output_type": "execute_result"
    }
   ],
   "source": [
    "# Using o.34 prob cutoff \n",
    "y_test_pred_final['Predicted'] = y_test_pred_final.Conversion_Prob.map(lambda x: 1 if x > 0.34 else 0)\n",
    "y_test_pred_final.head()"
   ]
  },
  {
   "cell_type": "code",
   "execution_count": 1306,
   "metadata": {
    "scrolled": true
   },
   "outputs": [
    {
     "data": {
      "text/plain": [
       "array([[1303,  373],\n",
       "       [ 187,  823]], dtype=int64)"
      ]
     },
     "execution_count": 1306,
     "metadata": {},
     "output_type": "execute_result"
    }
   ],
   "source": [
    "# Calculating confusion matrix for test data\n",
    "confusion = metrics.confusion_matrix(y_test_pred_final.Converted, y_test_pred_final.Predicted )\n",
    "confusion"
   ]
  },
  {
   "cell_type": "code",
   "execution_count": 1307,
   "metadata": {},
   "outputs": [
    {
     "data": {
      "text/plain": [
       "0.7915115413253909"
      ]
     },
     "execution_count": 1307,
     "metadata": {},
     "output_type": "execute_result"
    }
   ],
   "source": [
    "# Model accuracy on test data\n",
    "acc_score = metrics.accuracy_score(y_test_pred_final.Converted, y_test_pred_final.Predicted)\n",
    "acc_score"
   ]
  },
  {
   "cell_type": "markdown",
   "metadata": {},
   "source": [
    "As we can see that model accuracy is at approx 80 percent for test data which is good. Now lets check other parameters"
   ]
  },
  {
   "cell_type": "code",
   "execution_count": 1308,
   "metadata": {},
   "outputs": [],
   "source": [
    "# Calculating value of true positive\n",
    "TP = confusion[1,1]\n",
    "# Calculating value of true negatives\n",
    "TN = confusion[0,0]\n",
    "# Calculating value of false positives\n",
    "FP = confusion[0,1] \n",
    "# Calculating value of false negatives\n",
    "FN = confusion[1,0]"
   ]
  },
  {
   "cell_type": "code",
   "execution_count": 1309,
   "metadata": {},
   "outputs": [
    {
     "data": {
      "text/plain": [
       "0.8148514851485148"
      ]
     },
     "execution_count": 1309,
     "metadata": {},
     "output_type": "execute_result"
    }
   ],
   "source": [
    "# Calculating the sensitivity\n",
    "TP/(TP+FN)"
   ]
  },
  {
   "cell_type": "markdown",
   "metadata": {},
   "source": [
    "##### As we can see that sensitivity is also good 81.45% for test data"
   ]
  },
  {
   "cell_type": "code",
   "execution_count": 1310,
   "metadata": {},
   "outputs": [
    {
     "data": {
      "text/plain": [
       "0.7774463007159904"
      ]
     },
     "execution_count": 1310,
     "metadata": {},
     "output_type": "execute_result"
    }
   ],
   "source": [
    "# Calculating the specificity\n",
    "TN/(TN+FP)"
   ]
  },
  {
   "cell_type": "code",
   "execution_count": 1311,
   "metadata": {
    "scrolled": true
   },
   "outputs": [
    {
     "data": {
      "image/png": "[encoded data removed]",
      "text/plain": [
       "<Figure size 360x360 with 1 Axes>"
      ]
     },
     "metadata": {},
     "output_type": "display_data"
    }
   ],
   "source": [
    "# checking ROC Curve\n",
    "draw_roc(y_test_pred_final.Converted, y_test_pred_final.Predicted)"
   ]
  },
  {
   "cell_type": "code",
   "execution_count": 1312,
   "metadata": {},
   "outputs": [
    {
     "data": {
      "text/plain": [
       "0.6881270903010034"
      ]
     },
     "execution_count": 1312,
     "metadata": {},
     "output_type": "execute_result"
    }
   ],
   "source": [
    "#Precision\n",
    "TP/(TP+FP)"
   ]
  },
  {
   "cell_type": "markdown",
   "metadata": {},
   "source": [
    "#### We can say with 0.69 probability that a student predicted as converted will actually get converted"
   ]
  },
  {
   "cell_type": "code",
   "execution_count": 1313,
   "metadata": {},
   "outputs": [
    {
     "data": {
      "text/plain": [
       "0.8148514851485148"
      ]
     },
     "execution_count": 1313,
     "metadata": {},
     "output_type": "execute_result"
    }
   ],
   "source": [
    "#Recall\n",
    "TP/(TP+FN)"
   ]
  },
  {
   "cell_type": "markdown",
   "metadata": {},
   "source": [
    "Observation: So as we can see above the model seems to be performing well. The ROC curve has a value of 0.80, which is very good. We have the following values for the Test Data:\n",
    "    Accuracy : 79.15% \n",
    "    Sensitivity : 81.45%\n",
    "    Specificity : 77.74%"
   ]
  },
  {
   "cell_type": "code",
   "execution_count": 1314,
   "metadata": {
    "scrolled": true
   },
   "outputs": [
    {
     "data": {
      "text/html": [
       "<div>\n",
       "<style scoped>\n",
       "    .dataframe tbody tr th:only-of-type {\n",
       "        vertical-align: middle;\n",
       "    }\n",
       "\n",
       "    .dataframe tbody tr th {\n",
       "        vertical-align: top;\n",
       "    }\n",
       "\n",
       "    .dataframe thead th {\n",
       "        text-align: right;\n",
       "    }\n",
       "</style>\n",
       "<table border=\"1\" class=\"dataframe\">\n",
       "  <thead>\n",
       "    <tr style=\"text-align: right;\">\n",
       "      <th></th>\n",
       "      <th>Converted</th>\n",
       "      <th>Conversion_Prob</th>\n",
       "      <th>Predicted</th>\n",
       "    </tr>\n",
       "  </thead>\n",
       "  <tbody>\n",
       "    <tr>\n",
       "      <th>0</th>\n",
       "      <td>1</td>\n",
       "      <td>0.90</td>\n",
       "      <td>1</td>\n",
       "    </tr>\n",
       "    <tr>\n",
       "      <th>1</th>\n",
       "      <td>0</td>\n",
       "      <td>0.52</td>\n",
       "      <td>1</td>\n",
       "    </tr>\n",
       "    <tr>\n",
       "      <th>2</th>\n",
       "      <td>0</td>\n",
       "      <td>0.37</td>\n",
       "      <td>1</td>\n",
       "    </tr>\n",
       "    <tr>\n",
       "      <th>3</th>\n",
       "      <td>0</td>\n",
       "      <td>0.03</td>\n",
       "      <td>0</td>\n",
       "    </tr>\n",
       "    <tr>\n",
       "      <th>4</th>\n",
       "      <td>1</td>\n",
       "      <td>0.58</td>\n",
       "      <td>1</td>\n",
       "    </tr>\n",
       "    <tr>\n",
       "      <th>...</th>\n",
       "      <td>...</td>\n",
       "      <td>...</td>\n",
       "      <td>...</td>\n",
       "    </tr>\n",
       "    <tr>\n",
       "      <th>2681</th>\n",
       "      <td>1</td>\n",
       "      <td>0.06</td>\n",
       "      <td>0</td>\n",
       "    </tr>\n",
       "    <tr>\n",
       "      <th>2682</th>\n",
       "      <td>0</td>\n",
       "      <td>0.06</td>\n",
       "      <td>0</td>\n",
       "    </tr>\n",
       "    <tr>\n",
       "      <th>2683</th>\n",
       "      <td>1</td>\n",
       "      <td>0.19</td>\n",
       "      <td>0</td>\n",
       "    </tr>\n",
       "    <tr>\n",
       "      <th>2684</th>\n",
       "      <td>0</td>\n",
       "      <td>0.07</td>\n",
       "      <td>0</td>\n",
       "    </tr>\n",
       "    <tr>\n",
       "      <th>2685</th>\n",
       "      <td>1</td>\n",
       "      <td>0.47</td>\n",
       "      <td>1</td>\n",
       "    </tr>\n",
       "  </tbody>\n",
       "</table>\n",
       "<p>8953 rows × 3 columns</p>\n",
       "</div>"
      ],
      "text/plain": [
       "      Converted  Conversion_Prob  Predicted\n",
       "0             1             0.90          1\n",
       "1             0             0.52          1\n",
       "2             0             0.37          1\n",
       "3             0             0.03          0\n",
       "4             1             0.58          1\n",
       "...         ...              ...        ...\n",
       "2681          1             0.06          0\n",
       "2682          0             0.06          0\n",
       "2683          1             0.19          0\n",
       "2684          0             0.07          0\n",
       "2685          1             0.47          1\n",
       "\n",
       "[8953 rows x 3 columns]"
      ]
     },
     "execution_count": 1314,
     "metadata": {},
     "output_type": "execute_result"
    }
   ],
   "source": [
    "# Merging test and train data\n",
    "merged_data = pd.concat([y_train_pred_final,y_test_pred_final],axis = 0)\n",
    "merged_data"
   ]
  },
  {
   "cell_type": "markdown",
   "metadata": {},
   "source": [
    "#### Now as per requirement we will create a lead score column"
   ]
  },
  {
   "cell_type": "code",
   "execution_count": 1315,
   "metadata": {},
   "outputs": [],
   "source": [
    "merged_data[\"Lead Score\"] = round(merged_data.Conversion_Prob * 100,2)"
   ]
  },
  {
   "cell_type": "code",
   "execution_count": 1316,
   "metadata": {},
   "outputs": [
    {
     "data": {
      "text/html": [
       "<div>\n",
       "<style scoped>\n",
       "    .dataframe tbody tr th:only-of-type {\n",
       "        vertical-align: middle;\n",
       "    }\n",
       "\n",
       "    .dataframe tbody tr th {\n",
       "        vertical-align: top;\n",
       "    }\n",
       "\n",
       "    .dataframe thead th {\n",
       "        text-align: right;\n",
       "    }\n",
       "</style>\n",
       "<table border=\"1\" class=\"dataframe\">\n",
       "  <thead>\n",
       "    <tr style=\"text-align: right;\">\n",
       "      <th></th>\n",
       "      <th>Converted</th>\n",
       "      <th>Conversion_Prob</th>\n",
       "      <th>Predicted</th>\n",
       "      <th>Lead Score</th>\n",
       "    </tr>\n",
       "  </thead>\n",
       "  <tbody>\n",
       "    <tr>\n",
       "      <th>0</th>\n",
       "      <td>1</td>\n",
       "      <td>0.90</td>\n",
       "      <td>1</td>\n",
       "      <td>89.93</td>\n",
       "    </tr>\n",
       "    <tr>\n",
       "      <th>1</th>\n",
       "      <td>0</td>\n",
       "      <td>0.52</td>\n",
       "      <td>1</td>\n",
       "      <td>51.65</td>\n",
       "    </tr>\n",
       "    <tr>\n",
       "      <th>2</th>\n",
       "      <td>0</td>\n",
       "      <td>0.37</td>\n",
       "      <td>1</td>\n",
       "      <td>36.79</td>\n",
       "    </tr>\n",
       "    <tr>\n",
       "      <th>3</th>\n",
       "      <td>0</td>\n",
       "      <td>0.03</td>\n",
       "      <td>0</td>\n",
       "      <td>2.90</td>\n",
       "    </tr>\n",
       "    <tr>\n",
       "      <th>4</th>\n",
       "      <td>1</td>\n",
       "      <td>0.58</td>\n",
       "      <td>1</td>\n",
       "      <td>57.73</td>\n",
       "    </tr>\n",
       "  </tbody>\n",
       "</table>\n",
       "</div>"
      ],
      "text/plain": [
       "   Converted  Conversion_Prob  Predicted  Lead Score\n",
       "0          1             0.90          1       89.93\n",
       "1          0             0.52          1       51.65\n",
       "2          0             0.37          1       36.79\n",
       "3          0             0.03          0        2.90\n",
       "4          1             0.58          1       57.73"
      ]
     },
     "execution_count": 1316,
     "metadata": {},
     "output_type": "execute_result"
    }
   ],
   "source": [
    "merged_data.head()"
   ]
  },
  {
   "cell_type": "code",
   "execution_count": 1317,
   "metadata": {},
   "outputs": [
    {
     "data": {
      "text/plain": [
       "<matplotlib.axes._subplots.AxesSubplot at 0x285b0702408>"
      ]
     },
     "execution_count": 1317,
     "metadata": {},
     "output_type": "execute_result"
    },
    {
     "data": {
      "image/png": "[encoded data removed]",
      "text/plain": [
       "<Figure size 432x288 with 1 Axes>"
      ]
     },
     "metadata": {},
     "output_type": "display_data"
    }
   ],
   "source": [
    "sns.boxplot(x= merged_data.Converted, y= merged_data[\"Lead Score\"])"
   ]
  },
  {
   "cell_type": "markdown",
   "metadata": {},
   "source": [
    "### Train Data\n",
    "Observation:\n",
    "So as we can see above the model seems to be performing well. The ROC curve has a value of 0.80, which is very good.\n",
    "We have the following values for the Train Data:\n",
    "    - Accuracy : 78.45%\n",
    "    - Sensitivity : 80.83%\n",
    "    - Specificity : 76.99%\n",
    "\n",
    "### Test Data\n",
    "Observation: So as we can see above the model seems to be performing well. The ROC curve has a value of 0.80, which is very good.\n",
    "We have the following values for the Test Data:\n",
    "    - Accuracy : 79.15% \n",
    "    - Sensitivity : 81.45%\n",
    "    - Specificity : 77.74%\n",
    "    \n",
    "    \n",
    "    \n",
    "#### The Model seems to predict the Conversion Rate very well and we should be able to give the CEO confidence in making good calls based on this model"
   ]
  },
  {
   "cell_type": "markdown",
   "metadata": {},
   "source": [
    "### As we can see from the above wherever lead scores are more than 40 there is a high probility that student will opt for the course. So our model looks decent."
   ]
  },
  {
   "cell_type": "markdown",
   "metadata": {},
   "source": [
    "Viewing our model again"
   ]
  },
  {
   "cell_type": "code",
   "execution_count": 1318,
   "metadata": {
    "scrolled": true
   },
   "outputs": [
    {
     "data": {
      "text/html": [
       "<table class=\"simpletable\">\n",
       "<caption>Generalized Linear Model Regression Results</caption>\n",
       "<tr>\n",
       "  <th>Dep. Variable:</th>       <td>Converted</td>    <th>  No. Observations:  </th>  <td>  6267</td> \n",
       "</tr>\n",
       "<tr>\n",
       "  <th>Model:</th>                  <td>GLM</td>       <th>  Df Residuals:      </th>  <td>  6255</td> \n",
       "</tr>\n",
       "<tr>\n",
       "  <th>Model Family:</th>        <td>Binomial</td>     <th>  Df Model:          </th>  <td>    11</td> \n",
       "</tr>\n",
       "<tr>\n",
       "  <th>Link Function:</th>         <td>logit</td>      <th>  Scale:             </th> <td>  1.0000</td>\n",
       "</tr>\n",
       "<tr>\n",
       "  <th>Method:</th>                <td>IRLS</td>       <th>  Log-Likelihood:    </th> <td> -2788.0</td>\n",
       "</tr>\n",
       "<tr>\n",
       "  <th>Date:</th>            <td>Mon, 07 Sep 2020</td> <th>  Deviance:          </th> <td>  5576.1</td>\n",
       "</tr>\n",
       "<tr>\n",
       "  <th>Time:</th>                <td>11:44:16</td>     <th>  Pearson chi2:      </th> <td>6.55e+03</td>\n",
       "</tr>\n",
       "<tr>\n",
       "  <th>No. Iterations:</th>          <td>7</td>        <th>                     </th>     <td> </td>   \n",
       "</tr>\n",
       "<tr>\n",
       "  <th>Covariance Type:</th>     <td>nonrobust</td>    <th>                     </th>     <td> </td>   \n",
       "</tr>\n",
       "</table>\n",
       "<table class=\"simpletable\">\n",
       "<tr>\n",
       "                    <td></td>                       <th>coef</th>     <th>std err</th>      <th>z</th>      <th>P>|z|</th>  <th>[0.025</th>    <th>0.975]</th>  \n",
       "</tr>\n",
       "<tr>\n",
       "  <th>const</th>                                 <td>   -2.8331</td> <td>    0.125</td> <td>  -22.756</td> <td> 0.000</td> <td>   -3.077</td> <td>   -2.589</td>\n",
       "</tr>\n",
       "<tr>\n",
       "  <th>TotalVisits</th>                           <td>    0.7548</td> <td>    0.242</td> <td>    3.124</td> <td> 0.002</td> <td>    0.281</td> <td>    1.228</td>\n",
       "</tr>\n",
       "<tr>\n",
       "  <th>Total Time Spent on Website</th>           <td>    4.4747</td> <td>    0.160</td> <td>   27.904</td> <td> 0.000</td> <td>    4.160</td> <td>    4.789</td>\n",
       "</tr>\n",
       "<tr>\n",
       "  <th>Lead Origin_lead add form</th>             <td>    4.6212</td> <td>    0.245</td> <td>   18.895</td> <td> 0.000</td> <td>    4.142</td> <td>    5.101</td>\n",
       "</tr>\n",
       "<tr>\n",
       "  <th>Lead Source_olark chat</th>                <td>    1.5815</td> <td>    0.121</td> <td>   13.046</td> <td> 0.000</td> <td>    1.344</td> <td>    1.819</td>\n",
       "</tr>\n",
       "<tr>\n",
       "  <th>Lead Source_welingak website</th>          <td>    2.2571</td> <td>    1.041</td> <td>    2.167</td> <td> 0.030</td> <td>    0.216</td> <td>    4.298</td>\n",
       "</tr>\n",
       "<tr>\n",
       "  <th>Do Not Email_yes</th>                      <td>   -1.4392</td> <td>    0.173</td> <td>   -8.330</td> <td> 0.000</td> <td>   -1.778</td> <td>   -1.101</td>\n",
       "</tr>\n",
       "<tr>\n",
       "  <th>Last Activity_email opened</th>            <td>    0.6686</td> <td>    0.105</td> <td>    6.382</td> <td> 0.000</td> <td>    0.463</td> <td>    0.874</td>\n",
       "</tr>\n",
       "<tr>\n",
       "  <th>Last Activity_olark chat conversation</th> <td>   -1.0232</td> <td>    0.189</td> <td>   -5.407</td> <td> 0.000</td> <td>   -1.394</td> <td>   -0.652</td>\n",
       "</tr>\n",
       "<tr>\n",
       "  <th>Last Activity_others</th>                  <td>    1.4650</td> <td>    0.232</td> <td>    6.312</td> <td> 0.000</td> <td>    1.010</td> <td>    1.920</td>\n",
       "</tr>\n",
       "<tr>\n",
       "  <th>Last Activity_sms sent</th>                <td>    1.8659</td> <td>    0.107</td> <td>   17.453</td> <td> 0.000</td> <td>    1.656</td> <td>    2.075</td>\n",
       "</tr>\n",
       "<tr>\n",
       "  <th>Specialization_Not Specified</th>          <td>   -0.5184</td> <td>    0.086</td> <td>   -6.020</td> <td> 0.000</td> <td>   -0.687</td> <td>   -0.350</td>\n",
       "</tr>\n",
       "</table>"
      ],
      "text/plain": [
       "<class 'statsmodels.iolib.summary.Summary'>\n",
       "\"\"\"\n",
       "                 Generalized Linear Model Regression Results                  \n",
       "==============================================================================\n",
       "Dep. Variable:              Converted   No. Observations:                 6267\n",
       "Model:                            GLM   Df Residuals:                     6255\n",
       "Model Family:                Binomial   Df Model:                           11\n",
       "Link Function:                  logit   Scale:                          1.0000\n",
       "Method:                          IRLS   Log-Likelihood:                -2788.0\n",
       "Date:                Mon, 07 Sep 2020   Deviance:                       5576.1\n",
       "Time:                        11:44:16   Pearson chi2:                 6.55e+03\n",
       "No. Iterations:                     7                                         \n",
       "Covariance Type:            nonrobust                                         \n",
       "=========================================================================================================\n",
       "                                            coef    std err          z      P>|z|      [0.025      0.975]\n",
       "---------------------------------------------------------------------------------------------------------\n",
       "const                                    -2.8331      0.125    -22.756      0.000      -3.077      -2.589\n",
       "TotalVisits                               0.7548      0.242      3.124      0.002       0.281       1.228\n",
       "Total Time Spent on Website               4.4747      0.160     27.904      0.000       4.160       4.789\n",
       "Lead Origin_lead add form                 4.6212      0.245     18.895      0.000       4.142       5.101\n",
       "Lead Source_olark chat                    1.5815      0.121     13.046      0.000       1.344       1.819\n",
       "Lead Source_welingak website              2.2571      1.041      2.167      0.030       0.216       4.298\n",
       "Do Not Email_yes                         -1.4392      0.173     -8.330      0.000      -1.778      -1.101\n",
       "Last Activity_email opened                0.6686      0.105      6.382      0.000       0.463       0.874\n",
       "Last Activity_olark chat conversation    -1.0232      0.189     -5.407      0.000      -1.394      -0.652\n",
       "Last Activity_others                      1.4650      0.232      6.312      0.000       1.010       1.920\n",
       "Last Activity_sms sent                    1.8659      0.107     17.453      0.000       1.656       2.075\n",
       "Specialization_Not Specified             -0.5184      0.086     -6.020      0.000      -0.687      -0.350\n",
       "=========================================================================================================\n",
       "\"\"\""
      ]
     },
     "execution_count": 1318,
     "metadata": {},
     "output_type": "execute_result"
    }
   ],
   "source": [
    "result.summary()"
   ]
  },
  {
   "cell_type": "markdown",
   "metadata": {},
   "source": [
    "### Conclusion:\n",
    "\n",
    "1.\tIf Lead Origin is add form then probability of lead getting converted increases.\n",
    "2.\tThe students spending more time on the website have the higher chances of being converted.\n",
    "3.\tIf Lead source is welingak Website and olark chat, then probability of conversion is high.\n",
    "4.\tThe students visiting the platform more no of times have the higher chances of being converted.\n",
    "5.\tIf last activity is email opened, that means lead have shown some interest and is more likely to be converted.\n",
    "6.\tIf the specialization is not specified then chances of conversion to Lead become very low but from EDA we found out that Working professionals are more likely to join the course so company can create some campaign for working professionals.\n",
    "7.\tThose candidate who are opting out of email service are less likely to be converted\n"
   ]
  }
 ],
 "metadata": {
  "kernelspec": {
   "display_name": "Python 3",
   "language": "python",
   "name": "python3"
  },
  "language_info": {
   "codemirror_mode": {
    "name": "ipython",
    "version": 3
   },
   "file_extension": ".py",
   "mimetype": "text/x-python",
   "name": "python",
   "nbconvert_exporter": "python",
   "pygments_lexer": "ipython3",
   "version": "3.7.6"
  }
 },
 "nbformat": 4,
 "nbformat_minor": 4
}
